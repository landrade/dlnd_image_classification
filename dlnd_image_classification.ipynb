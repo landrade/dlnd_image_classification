{
 "cells": [
  {
   "cell_type": "markdown",
   "metadata": {
    "collapsed": true,
    "deletable": true,
    "editable": true
   },
   "source": [
    "# Image Classification\n",
    "In this project, you'll classify images from the [CIFAR-10 dataset](https://www.cs.toronto.edu/~kriz/cifar.html).  The dataset consists of airplanes, dogs, cats, and other objects. You'll preprocess the images, then train a convolutional neural network on all the samples. The images need to be normalized and the labels need to be one-hot encoded.  You'll get to apply what you learned and build a convolutional, max pooling, dropout, and fully connected layers.  At the end, you'll get to see your neural network's predictions on the sample images.\n",
    "## Get the Data\n",
    "Run the following cell to download the [CIFAR-10 dataset for python](https://www.cs.toronto.edu/~kriz/cifar-10-python.tar.gz)."
   ]
  },
  {
   "cell_type": "code",
   "execution_count": 2,
   "metadata": {
    "collapsed": false,
    "deletable": true,
    "editable": true
   },
   "outputs": [
    {
     "name": "stderr",
     "output_type": "stream",
     "text": [
      "CIFAR-10 Dataset: 171MB [00:34, 4.88MB/s]                              \n"
     ]
    },
    {
     "name": "stdout",
     "output_type": "stream",
     "text": [
      "All files found!\n"
     ]
    }
   ],
   "source": [
    "\"\"\"\n",
    "DON'T MODIFY ANYTHING IN THIS CELL THAT IS BELOW THIS LINE\n",
    "\"\"\"\n",
    "from urllib.request import urlretrieve\n",
    "from os.path import isfile, isdir\n",
    "from tqdm import tqdm\n",
    "import problem_unittests as tests\n",
    "import tarfile\n",
    "\n",
    "cifar10_dataset_folder_path = 'cifar-10-batches-py'\n",
    "\n",
    "# Use Floyd's cifar-10 dataset if present\n",
    "floyd_cifar10_location = '/input/cifar-10/python.tar.gz'\n",
    "if isfile(floyd_cifar10_location):\n",
    "    tar_gz_path = floyd_cifar10_location\n",
    "else:\n",
    "    tar_gz_path = 'cifar-10-python.tar.gz'\n",
    "\n",
    "class DLProgress(tqdm):\n",
    "    last_block = 0\n",
    "\n",
    "    def hook(self, block_num=1, block_size=1, total_size=None):\n",
    "        self.total = total_size\n",
    "        self.update((block_num - self.last_block) * block_size)\n",
    "        self.last_block = block_num\n",
    "\n",
    "if not isfile(tar_gz_path):\n",
    "    with DLProgress(unit='B', unit_scale=True, miniters=1, desc='CIFAR-10 Dataset') as pbar:\n",
    "        urlretrieve(\n",
    "            'https://www.cs.toronto.edu/~kriz/cifar-10-python.tar.gz',\n",
    "            tar_gz_path,\n",
    "            pbar.hook)\n",
    "\n",
    "if not isdir(cifar10_dataset_folder_path):\n",
    "    with tarfile.open(tar_gz_path) as tar:\n",
    "        tar.extractall()\n",
    "        tar.close()\n",
    "\n",
    "\n",
    "tests.test_folder_path(cifar10_dataset_folder_path)"
   ]
  },
  {
   "cell_type": "markdown",
   "metadata": {
    "deletable": true,
    "editable": true
   },
   "source": [
    "## Explore the Data\n",
    "The dataset is broken into batches to prevent your machine from running out of memory.  The CIFAR-10 dataset consists of 5 batches, named `data_batch_1`, `data_batch_2`, etc.. Each batch contains the labels and images that are one of the following:\n",
    "* airplane\n",
    "* automobile\n",
    "* bird\n",
    "* cat\n",
    "* deer\n",
    "* dog\n",
    "* frog\n",
    "* horse\n",
    "* ship\n",
    "* truck\n",
    "\n",
    "Understanding a dataset is part of making predictions on the data.  Play around with the code cell below by changing the `batch_id` and `sample_id`. The `batch_id` is the id for a batch (1-5). The `sample_id` is the id for a image and label pair in the batch.\n",
    "\n",
    "Ask yourself \"What are all possible labels?\", \"What is the range of values for the image data?\", \"Are the labels in order or random?\".  Answers to questions like these will help you preprocess the data and end up with better predictions."
   ]
  },
  {
   "cell_type": "code",
   "execution_count": 3,
   "metadata": {
    "collapsed": false,
    "deletable": true,
    "editable": true
   },
   "outputs": [
    {
     "name": "stdout",
     "output_type": "stream",
     "text": [
      "\n",
      "Stats of batch 1:\n",
      "Samples: 10000\n",
      "Label Counts: {0: 1005, 1: 974, 2: 1032, 3: 1016, 4: 999, 5: 937, 6: 1030, 7: 1001, 8: 1025, 9: 981}\n",
      "First 20 Labels: [6, 9, 9, 4, 1, 1, 2, 7, 8, 3, 4, 7, 7, 2, 9, 9, 9, 3, 2, 6]\n",
      "\n",
      "Example of Image 5:\n",
      "Image - Min Value: 0 Max Value: 252\n",
      "Image - Shape: (32, 32, 3)\n",
      "Label - Label Id: 1 Name: automobile\n"
     ]
    },
    {
     "data": {
      "image/png": "[encoded data removed]",
      "text/plain": [
       "<matplotlib.figure.Figure at 0x7f175c6f1cf8>"
      ]
     },
     "metadata": {
      "image/png": {
       "height": 250,
       "width": 253
      }
     },
     "output_type": "display_data"
    }
   ],
   "source": [
    "%matplotlib inline\n",
    "%config InlineBackend.figure_format = 'retina'\n",
    "\n",
    "import helper\n",
    "import numpy as np\n",
    "\n",
    "# Explore the dataset\n",
    "batch_id = 1\n",
    "sample_id = 5\n",
    "helper.display_stats(cifar10_dataset_folder_path, batch_id, sample_id)"
   ]
  },
  {
   "cell_type": "markdown",
   "metadata": {
    "deletable": true,
    "editable": true
   },
   "source": [
    "## Implement Preprocess Functions\n",
    "### Normalize\n",
    "In the cell below, implement the `normalize` function to take in image data, `x`, and return it as a normalized Numpy array. The values should be in the range of 0 to 1, inclusive.  The return object should be the same shape as `x`."
   ]
  },
  {
   "cell_type": "code",
   "execution_count": 4,
   "metadata": {
    "collapsed": false,
    "deletable": true,
    "editable": true
   },
   "outputs": [
    {
     "name": "stdout",
     "output_type": "stream",
     "text": [
      "Tests Passed\n"
     ]
    }
   ],
   "source": [
    "def normalize(x):\n",
    "    \"\"\"\n",
    "    Normalize a list of sample image data in the range of 0 to 1\n",
    "    : x: List of image data.  The image shape is (32, 32, 3)\n",
    "    : return: Numpy array of normalize data\n",
    "    \"\"\"\n",
    "    # TODO: Implement Function\n",
    "    return (x-x.min())/(x.max()-x.min())\n",
    "\n",
    "\n",
    "\"\"\"\n",
    "DON'T MODIFY ANYTHING IN THIS CELL THAT IS BELOW THIS LINE\n",
    "\"\"\"\n",
    "tests.test_normalize(normalize)"
   ]
  },
  {
   "cell_type": "markdown",
   "metadata": {
    "deletable": true,
    "editable": true
   },
   "source": [
    "### One-hot encode\n",
    "Just like the previous code cell, you'll be implementing a function for preprocessing.  This time, you'll implement the `one_hot_encode` function. The input, `x`, are a list of labels.  Implement the function to return the list of labels as One-Hot encoded Numpy array.  The possible values for labels are 0 to 9. The one-hot encoding function should return the same encoding for each value between each call to `one_hot_encode`.  Make sure to save the map of encodings outside the function.\n",
    "\n",
    "Hint: Don't reinvent the wheel."
   ]
  },
  {
   "cell_type": "code",
   "execution_count": 5,
   "metadata": {
    "collapsed": false,
    "deletable": true,
    "editable": true
   },
   "outputs": [
    {
     "name": "stdout",
     "output_type": "stream",
     "text": [
      "Tests Passed\n"
     ]
    }
   ],
   "source": [
    "def one_hot_encode(x):\n",
    "    \"\"\"\n",
    "    One hot encode a list of sample labels. Return a one-hot encoded vector for each label.\n",
    "    : x: List of sample Labels\n",
    "    : return: Numpy array of one-hot encoded labels\n",
    "    \"\"\"\n",
    "    # TODO: Implement Function\n",
    "    return np.eye(10)[x]\n",
    "\n",
    "\n",
    "\"\"\"\n",
    "DON'T MODIFY ANYTHING IN THIS CELL THAT IS BELOW THIS LINE\n",
    "\"\"\"\n",
    "tests.test_one_hot_encode(one_hot_encode)"
   ]
  },
  {
   "cell_type": "markdown",
   "metadata": {
    "deletable": true,
    "editable": true
   },
   "source": [
    "### Randomize Data\n",
    "As you saw from exploring the data above, the order of the samples are randomized.  It doesn't hurt to randomize it again, but you don't need to for this dataset."
   ]
  },
  {
   "cell_type": "markdown",
   "metadata": {
    "deletable": true,
    "editable": true
   },
   "source": [
    "## Preprocess all the data and save it\n",
    "Running the code cell below will preprocess all the CIFAR-10 data and save it to file. The code below also uses 10% of the training data for validation."
   ]
  },
  {
   "cell_type": "code",
   "execution_count": 6,
   "metadata": {
    "collapsed": false,
    "deletable": true,
    "editable": true
   },
   "outputs": [],
   "source": [
    "\"\"\"\n",
    "DON'T MODIFY ANYTHING IN THIS CELL\n",
    "\"\"\"\n",
    "# Preprocess Training, Validation, and Testing Data\n",
    "helper.preprocess_and_save_data(cifar10_dataset_folder_path, normalize, one_hot_encode)"
   ]
  },
  {
   "cell_type": "markdown",
   "metadata": {
    "deletable": true,
    "editable": true
   },
   "source": [
    "# Check Point\n",
    "This is your first checkpoint.  If you ever decide to come back to this notebook or have to restart the notebook, you can start from here.  The preprocessed data has been saved to disk."
   ]
  },
  {
   "cell_type": "code",
   "execution_count": 7,
   "metadata": {
    "collapsed": true,
    "deletable": true,
    "editable": true
   },
   "outputs": [],
   "source": [
    "\"\"\"\n",
    "DON'T MODIFY ANYTHING IN THIS CELL\n",
    "\"\"\"\n",
    "import pickle\n",
    "import problem_unittests as tests\n",
    "import helper\n",
    "\n",
    "# Load the Preprocessed Validation data\n",
    "valid_features, valid_labels = pickle.load(open('preprocess_validation.p', mode='rb'))"
   ]
  },
  {
   "cell_type": "markdown",
   "metadata": {
    "deletable": true,
    "editable": true
   },
   "source": [
    "## Build the network\n",
    "For the neural network, you'll build each layer into a function.  Most of the code you've seen has been outside of functions. To test your code more thoroughly, we require that you put each layer in a function.  This allows us to give you better feedback and test for simple mistakes using our unittests before you submit your project.\n",
    "\n",
    ">**Note:** If you're finding it hard to dedicate enough time for this course each week, we've provided a small shortcut to this part of the project. In the next couple of problems, you'll have the option to use classes from the [TensorFlow Layers](https://www.tensorflow.org/api_docs/python/tf/layers) or [TensorFlow Layers (contrib)](https://www.tensorflow.org/api_guides/python/contrib.layers) packages to build each layer, except the layers you build in the \"Convolutional and Max Pooling Layer\" section.  TF Layers is similar to Keras's and TFLearn's abstraction to layers, so it's easy to pickup.\n",
    "\n",
    ">However, if you would like to get the most out of this course, try to solve all the problems _without_ using anything from the TF Layers packages. You **can** still use classes from other packages that happen to have the same name as ones you find in TF Layers! For example, instead of using the TF Layers version of the `conv2d` class, [tf.layers.conv2d](https://www.tensorflow.org/api_docs/python/tf/layers/conv2d), you would want to use the TF Neural Network version of `conv2d`, [tf.nn.conv2d](https://www.tensorflow.org/api_docs/python/tf/nn/conv2d). \n",
    "\n",
    "Let's begin!\n",
    "\n",
    "### Input\n",
    "The neural network needs to read the image data, one-hot encoded labels, and dropout keep probability. Implement the following functions\n",
    "* Implement `neural_net_image_input`\n",
    " * Return a [TF Placeholder](https://www.tensorflow.org/api_docs/python/tf/placeholder)\n",
    " * Set the shape using `image_shape` with batch size set to `None`.\n",
    " * Name the TensorFlow placeholder \"x\" using the TensorFlow `name` parameter in the [TF Placeholder](https://www.tensorflow.org/api_docs/python/tf/placeholder).\n",
    "* Implement `neural_net_label_input`\n",
    " * Return a [TF Placeholder](https://www.tensorflow.org/api_docs/python/tf/placeholder)\n",
    " * Set the shape using `n_classes` with batch size set to `None`.\n",
    " * Name the TensorFlow placeholder \"y\" using the TensorFlow `name` parameter in the [TF Placeholder](https://www.tensorflow.org/api_docs/python/tf/placeholder).\n",
    "* Implement `neural_net_keep_prob_input`\n",
    " * Return a [TF Placeholder](https://www.tensorflow.org/api_docs/python/tf/placeholder) for dropout keep probability.\n",
    " * Name the TensorFlow placeholder \"keep_prob\" using the TensorFlow `name` parameter in the [TF Placeholder](https://www.tensorflow.org/api_docs/python/tf/placeholder).\n",
    "\n",
    "These names will be used at the end of the project to load your saved model.\n",
    "\n",
    "Note: `None` for shapes in TensorFlow allow for a dynamic size."
   ]
  },
  {
   "cell_type": "code",
   "execution_count": 8,
   "metadata": {
    "collapsed": false,
    "deletable": true,
    "editable": true
   },
   "outputs": [
    {
     "name": "stdout",
     "output_type": "stream",
     "text": [
      "Image Input Tests Passed.\n",
      "Label Input Tests Passed.\n",
      "Keep Prob Tests Passed.\n"
     ]
    }
   ],
   "source": [
    "import tensorflow as tf\n",
    "\n",
    "def neural_net_image_input(image_shape):\n",
    "    \"\"\"\n",
    "    Return a Tensor for a batch of image input\n",
    "    : image_shape: Shape of the images\n",
    "    : return: Tensor for image input.\n",
    "    \"\"\"\n",
    "    # TODO: Implement Function\n",
    "    return tf.placeholder(tf.float32, (None, *image_shape), name='x')\n",
    "\n",
    "\n",
    "def neural_net_label_input(n_classes):\n",
    "    \"\"\"\n",
    "    Return a Tensor for a batch of label input\n",
    "    : n_classes: Number of classes\n",
    "    : return: Tensor for label input.\n",
    "    \"\"\"\n",
    "    # TODO: Implement Function\n",
    "    return tf.placeholder(tf.float32, [None,n_classes], name='y')\n",
    "\n",
    "\n",
    "def neural_net_keep_prob_input():\n",
    "    \"\"\"\n",
    "    Return a Tensor for keep probability\n",
    "    : return: Tensor for keep probability.\n",
    "    \"\"\"\n",
    "    # TODO: Implement Function\n",
    "    return tf.placeholder(tf.float32,None, name='keep_prob')\n",
    "\n",
    "\n",
    "\"\"\"\n",
    "DON'T MODIFY ANYTHING IN THIS CELL THAT IS BELOW THIS LINE\n",
    "\"\"\"\n",
    "tf.reset_default_graph()\n",
    "tests.test_nn_image_inputs(neural_net_image_input)\n",
    "tests.test_nn_label_inputs(neural_net_label_input)\n",
    "tests.test_nn_keep_prob_inputs(neural_net_keep_prob_input)"
   ]
  },
  {
   "cell_type": "markdown",
   "metadata": {
    "deletable": true,
    "editable": true
   },
   "source": [
    "### Convolution and Max Pooling Layer\n",
    "Convolution layers have a lot of success with images. For this code cell, you should implement the function `conv2d_maxpool` to apply convolution then max pooling:\n",
    "* Create the weight and bias using `conv_ksize`, `conv_num_outputs` and the shape of `x_tensor`.\n",
    "* Apply a convolution to `x_tensor` using weight and `conv_strides`.\n",
    " * We recommend you use same padding, but you're welcome to use any padding.\n",
    "* Add bias\n",
    "* Add a nonlinear activation to the convolution.\n",
    "* Apply Max Pooling using `pool_ksize` and `pool_strides`.\n",
    " * We recommend you use same padding, but you're welcome to use any padding.\n",
    "\n",
    "**Note:** You **can't** use [TensorFlow Layers](https://www.tensorflow.org/api_docs/python/tf/layers) or [TensorFlow Layers (contrib)](https://www.tensorflow.org/api_guides/python/contrib.layers) for **this** layer, but you can still use TensorFlow's [Neural Network](https://www.tensorflow.org/api_docs/python/tf/nn) package. You may still use the shortcut option for all the **other** layers."
   ]
  },
  {
   "cell_type": "code",
   "execution_count": 9,
   "metadata": {
    "collapsed": false,
    "deletable": true,
    "editable": true
   },
   "outputs": [
    {
     "name": "stdout",
     "output_type": "stream",
     "text": [
      "Tests Passed\n"
     ]
    }
   ],
   "source": [
    "from math import sqrt\n",
    "def conv2d_maxpool(x_tensor, conv_num_outputs, conv_ksize, conv_strides, pool_ksize, pool_strides):\n",
    "    \"\"\"\n",
    "    Apply convolution then max pooling to x_tensor\n",
    "    :param x_tensor: TensorFlow Tensor\n",
    "    :param conv_num_outputs: Number of outputs for the convolutional layer\n",
    "    :param conv_ksize: kernal size 2-D Tuple for the convolutional layer\n",
    "    :param conv_strides: Stride 2-D Tuple for convolution\n",
    "    :param pool_ksize: kernal size 2-D Tuple for pool\n",
    "    :param pool_strides: Stride 2-D Tuple for pool\n",
    "    : return: A tensor that represents convolution and max pooling of x_tensor\n",
    "    \"\"\"\n",
    "    # TODO: Implement Function\n",
    "    shape = x_tensor.get_shape().as_list()\n",
    "    size = (conv_ksize[0], conv_ksize[1], shape[3], conv_num_outputs)\n",
    "    W = tf.Variable(tf.truncated_normal(size, 0, (1/ sqrt(shape[1]*shape[2]*shape[3]))))\n",
    "    B = tf.Variable(tf.zeros(conv_num_outputs))\n",
    "    tensor = tf.nn.conv2d(x_tensor, W, strides=[1, conv_strides[0], conv_strides[1], 1], padding='SAME')\n",
    "    tensor = tf.nn.bias_add(tensor, B)\n",
    "    tensor = tf.nn.relu(tensor)\n",
    "    tensor = tf.nn.max_pool(tensor, ksize=[1, pool_ksize[0], pool_ksize[1], 1], strides=[1, pool_strides[0], pool_strides[1], 1], padding='SAME')\n",
    "    return tensor\n",
    "\n",
    "\n",
    "\"\"\"\n",
    "DON'T MODIFY ANYTHING IN THIS CELL THAT IS BELOW THIS LINE\n",
    "\"\"\"\n",
    "tests.test_con_pool(conv2d_maxpool)"
   ]
  },
  {
   "cell_type": "markdown",
   "metadata": {
    "deletable": true,
    "editable": true
   },
   "source": [
    "### Flatten Layer\n",
    "Implement the `flatten` function to change the dimension of `x_tensor` from a 4-D tensor to a 2-D tensor.  The output should be the shape (*Batch Size*, *Flattened Image Size*). Shortcut option: you can use classes from the [TensorFlow Layers](https://www.tensorflow.org/api_docs/python/tf/layers) or [TensorFlow Layers (contrib)](https://www.tensorflow.org/api_guides/python/contrib.layers) packages for this layer. For more of a challenge, only use other TensorFlow packages."
   ]
  },
  {
   "cell_type": "code",
   "execution_count": 10,
   "metadata": {
    "collapsed": false,
    "deletable": true,
    "editable": true
   },
   "outputs": [
    {
     "name": "stdout",
     "output_type": "stream",
     "text": [
      "Tests Passed\n"
     ]
    }
   ],
   "source": [
    "def flatten(x_tensor):\n",
    "    \"\"\"\n",
    "    Flatten x_tensor to (Batch Size, Flattened Image Size)\n",
    "    : x_tensor: A tensor of size (Batch Size, ...), where ... are the image dimensions.\n",
    "    : return: A tensor of size (Batch Size, Flattened Image Size).\n",
    "    \"\"\"\n",
    "    # TODO: Implement Function\n",
    "    return tf.reshape(x_tensor, [-1, x_tensor.shape[1].value * x_tensor.shape[2].value* x_tensor.shape[3].value])\n",
    "\n",
    "\n",
    "\"\"\"\n",
    "DON'T MODIFY ANYTHING IN THIS CELL THAT IS BELOW THIS LINE\n",
    "\"\"\"\n",
    "tests.test_flatten(flatten)"
   ]
  },
  {
   "cell_type": "markdown",
   "metadata": {
    "deletable": true,
    "editable": true
   },
   "source": [
    "### Fully-Connected Layer\n",
    "Implement the `fully_conn` function to apply a fully connected layer to `x_tensor` with the shape (*Batch Size*, *num_outputs*). Shortcut option: you can use classes from the [TensorFlow Layers](https://www.tensorflow.org/api_docs/python/tf/layers) or [TensorFlow Layers (contrib)](https://www.tensorflow.org/api_guides/python/contrib.layers) packages for this layer. For more of a challenge, only use other TensorFlow packages."
   ]
  },
  {
   "cell_type": "code",
   "execution_count": 11,
   "metadata": {
    "collapsed": false,
    "deletable": true,
    "editable": true
   },
   "outputs": [
    {
     "name": "stdout",
     "output_type": "stream",
     "text": [
      "Tests Passed\n"
     ]
    }
   ],
   "source": [
    "def fully_conn(x_tensor, num_outputs):\n",
    "    \"\"\"\n",
    "    Apply a fully connected layer to x_tensor using weight and bias\n",
    "    : x_tensor: A 2-D tensor where the first dimension is batch size.\n",
    "    : num_outputs: The number of output that the new tensor should be.\n",
    "    : return: A 2-D tensor where the second dimension is num_outputs.\n",
    "    \"\"\"\n",
    "    # TODO: Implement Function\n",
    "    weight= tf.Variable(tf.truncated_normal([x_tensor.shape[1].value, num_outputs], mean=0.0, stddev=0.1))\n",
    "    bias = tf.Variable(tf.zeros(num_outputs))\n",
    "    \n",
    "    return tf.nn.relu(tf.nn.bias_add(tf.matmul(x_tensor, weight), bias))\n",
    "\n",
    "\n",
    "\"\"\"\n",
    "DON'T MODIFY ANYTHING IN THIS CELL THAT IS BELOW THIS LINE\n",
    "\"\"\"\n",
    "tests.test_fully_conn(fully_conn)"
   ]
  },
  {
   "cell_type": "markdown",
   "metadata": {
    "deletable": true,
    "editable": true
   },
   "source": [
    "### Output Layer\n",
    "Implement the `output` function to apply a fully connected layer to `x_tensor` with the shape (*Batch Size*, *num_outputs*). Shortcut option: you can use classes from the [TensorFlow Layers](https://www.tensorflow.org/api_docs/python/tf/layers) or [TensorFlow Layers (contrib)](https://www.tensorflow.org/api_guides/python/contrib.layers) packages for this layer. For more of a challenge, only use other TensorFlow packages.\n",
    "\n",
    "**Note:** Activation, softmax, or cross entropy should **not** be applied to this."
   ]
  },
  {
   "cell_type": "code",
   "execution_count": 12,
   "metadata": {
    "collapsed": false,
    "deletable": true,
    "editable": true
   },
   "outputs": [
    {
     "name": "stdout",
     "output_type": "stream",
     "text": [
      "Tests Passed\n"
     ]
    }
   ],
   "source": [
    "def output(x_tensor, num_outputs):\n",
    "    \"\"\"\n",
    "    Apply a output layer to x_tensor using weight and bias\n",
    "    : x_tensor: A 2-D tensor where the first dimension is batch size.\n",
    "    : num_outputs: The number of output that the new tensor should be.\n",
    "    : return: A 2-D tensor where the second dimension is num_outputs.\n",
    "    \"\"\"\n",
    "    # TODO: Implement Function\n",
    "    weight= tf.Variable(tf.truncated_normal([x_tensor.shape[1].value, num_outputs], mean=0.0, stddev=0.01))\n",
    "    bias = tf.Variable(tf.zeros(num_outputs))\n",
    "    return tf.nn.bias_add(tf.matmul(x_tensor, weight), bias)\n",
    "\n",
    "\n",
    "\"\"\"\n",
    "DON'T MODIFY ANYTHING IN THIS CELL THAT IS BELOW THIS LINE\n",
    "\"\"\"\n",
    "tests.test_output(output)"
   ]
  },
  {
   "cell_type": "markdown",
   "metadata": {
    "deletable": true,
    "editable": true
   },
   "source": [
    "### Create Convolutional Model\n",
    "Implement the function `conv_net` to create a convolutional neural network model. The function takes in a batch of images, `x`, and outputs logits.  Use the layers you created above to create this model:\n",
    "\n",
    "* Apply 1, 2, or 3 Convolution and Max Pool layers\n",
    "* Apply a Flatten Layer\n",
    "* Apply 1, 2, or 3 Fully Connected Layers\n",
    "* Apply an Output Layer\n",
    "* Return the output\n",
    "* Apply [TensorFlow's Dropout](https://www.tensorflow.org/api_docs/python/tf/nn/dropout) to one or more layers in the model using `keep_prob`. "
   ]
  },
  {
   "cell_type": "code",
   "execution_count": 13,
   "metadata": {
    "collapsed": false,
    "deletable": true,
    "editable": true
   },
   "outputs": [
    {
     "name": "stdout",
     "output_type": "stream",
     "text": [
      "Neural Network Built!\n"
     ]
    }
   ],
   "source": [
    "def conv_net(x, keep_prob):\n",
    "    \"\"\"\n",
    "    Create a convolutional neural network model\n",
    "    : x: Placeholder tensor that holds image data.\n",
    "    : keep_prob: Placeholder tensor that hold dropout keep probability.\n",
    "    : return: Tensor that represents logits\n",
    "    \"\"\"\n",
    "    # TODO: Apply 1, 2, or 3 Convolution and Max Pool layers\n",
    "    #    Play around with different number of outputs, kernel size and stride\n",
    "    # Function Definition from Above:\n",
    "    #    conv2d_maxpool(x_tensor, conv_num_outputs, conv_ksize, conv_strides, pool_ksize, pool_strides)\n",
    "    conv1 = conv2d_maxpool(x, 20, [5,5], [1,1], [2,2], [2,2])\n",
    "    conv2 = conv2d_maxpool(conv1, 50, conv_ksize=[3,3], conv_strides=[1,1], pool_ksize=[2,2], pool_strides=[2,2])\n",
    "    conv2 = tf.nn.dropout(conv2, keep_prob)\n",
    "    \n",
    "    conv_out = conv2\n",
    "    \n",
    "\n",
    "    # TODO: Apply a Flatten Layer\n",
    "    # Function Definition from Above:\n",
    "    #   flatten(x_tensor)\n",
    "    fl0 = flatten(conv_out)\n",
    "    \n",
    "\n",
    "    # TODO: Apply 1, 2, or 3 Fully Connected Layers\n",
    "    #    Play around with different number of outputs\n",
    "    # Function Definition from Above:\n",
    "    #   fully_conn(x_tensor, num_outputs)\n",
    "    fl1 = fully_conn(fl0, 100)\n",
    "    fl1 = tf.nn.dropout(fl1, keep_prob)\n",
    "    \n",
    "    fl2 = fully_conn(fl1, 50)\n",
    "    fl2 = tf.nn.dropout(fl2, keep_prob+0.2)\n",
    "    \n",
    "    \n",
    "    # TODO: Apply an Output Layer\n",
    "    #    Set this to the number of classes\n",
    "    # Function Definition from Above:\n",
    "    #   output(x_tensor, num_outputs)\n",
    "    out = output(fl2,10)\n",
    "    \n",
    "    \n",
    "    # TODO: return output\n",
    "    return out\n",
    "\n",
    "\n",
    "\"\"\"\n",
    "DON'T MODIFY ANYTHING IN THIS CELL THAT IS BELOW THIS LINE\n",
    "\"\"\"\n",
    "\n",
    "##############################\n",
    "## Build the Neural Network ##\n",
    "##############################\n",
    "\n",
    "# Remove previous weights, bias, inputs, etc..\n",
    "tf.reset_default_graph()\n",
    "\n",
    "# Inputs\n",
    "x = neural_net_image_input((32, 32, 3))\n",
    "y = neural_net_label_input(10)\n",
    "keep_prob = neural_net_keep_prob_input()\n",
    "\n",
    "# Model\n",
    "logits = conv_net(x, keep_prob)\n",
    "\n",
    "# Name logits Tensor, so that is can be loaded from disk after training\n",
    "logits = tf.identity(logits, name='logits')\n",
    "\n",
    "# Loss and Optimizer\n",
    "cost = tf.reduce_mean(tf.nn.softmax_cross_entropy_with_logits(logits=logits, labels=y))\n",
    "optimizer = tf.train.AdamOptimizer().minimize(cost)\n",
    "\n",
    "# Accuracy\n",
    "correct_pred = tf.equal(tf.argmax(logits, 1), tf.argmax(y, 1))\n",
    "accuracy = tf.reduce_mean(tf.cast(correct_pred, tf.float32), name='accuracy')\n",
    "\n",
    "tests.test_conv_net(conv_net)"
   ]
  },
  {
   "cell_type": "markdown",
   "metadata": {
    "deletable": true,
    "editable": true
   },
   "source": [
    "## Train the Neural Network\n",
    "### Single Optimization\n",
    "Implement the function `train_neural_network` to do a single optimization.  The optimization should use `optimizer` to optimize in `session` with a `feed_dict` of the following:\n",
    "* `x` for image input\n",
    "* `y` for labels\n",
    "* `keep_prob` for keep probability for dropout\n",
    "\n",
    "This function will be called for each batch, so `tf.global_variables_initializer()` has already been called.\n",
    "\n",
    "Note: Nothing needs to be returned. This function is only optimizing the neural network."
   ]
  },
  {
   "cell_type": "code",
   "execution_count": 14,
   "metadata": {
    "collapsed": false,
    "deletable": true,
    "editable": true
   },
   "outputs": [
    {
     "name": "stdout",
     "output_type": "stream",
     "text": [
      "Tests Passed\n"
     ]
    }
   ],
   "source": [
    "def train_neural_network(session, optimizer, keep_probability, feature_batch, label_batch):\n",
    "    \"\"\"\n",
    "    Optimize the session on a batch of images and labels\n",
    "    : session: Current TensorFlow session\n",
    "    : optimizer: TensorFlow optimizer function\n",
    "    : keep_probability: keep probability\n",
    "    : feature_batch: Batch of Numpy image data\n",
    "    : label_batch: Batch of Numpy label data\n",
    "    \"\"\"\n",
    "    # TODO: Implement Function\n",
    "    session.run(optimizer,feed_dict={x:feature_batch, y:label_batch, keep_prob: keep_probability})\n",
    "\n",
    "\n",
    "\"\"\"\n",
    "DON'T MODIFY ANYTHING IN THIS CELL THAT IS BELOW THIS LINE\n",
    "\"\"\"\n",
    "tests.test_train_nn(train_neural_network)"
   ]
  },
  {
   "cell_type": "markdown",
   "metadata": {
    "deletable": true,
    "editable": true
   },
   "source": [
    "### Show Stats\n",
    "Implement the function `print_stats` to print loss and validation accuracy.  Use the global variables `valid_features` and `valid_labels` to calculate validation accuracy.  Use a keep probability of `1.0` to calculate the loss and validation accuracy."
   ]
  },
  {
   "cell_type": "code",
   "execution_count": 22,
   "metadata": {
    "collapsed": false,
    "deletable": true,
    "editable": true
   },
   "outputs": [],
   "source": [
    "def print_stats(session, feature_batch, label_batch, cost, accuracy):\n",
    "    \"\"\"\n",
    "    Print information about loss and validation accuracy\n",
    "    : session: Current TensorFlow session\n",
    "    : feature_batch: Batch of Numpy image data\n",
    "    : label_batch: Batch of Numpy label data\n",
    "    : cost: TensorFlow cost function\n",
    "    : accuracy: TensorFlow accuracy function\n",
    "    \"\"\"\n",
    "    loss = session.run(cost, feed_dict={x:feature_batch, y: label_batch, keep_prob:1.0 })\n",
    "    valid_acc =session.run(accuracy, feed_dict={x:valid_features, y: label_batch, keep_prob:1.0})\n",
    "    print('cost: {}  accuracy: {}'.format(loss, valid_acc))"
   ]
  },
  {
   "cell_type": "markdown",
   "metadata": {
    "deletable": true,
    "editable": true
   },
   "source": [
    "### Hyperparameters\n",
    "Tune the following parameters:\n",
    "* Set `epochs` to the number of iterations until the network stops learning or start overfitting\n",
    "* Set `batch_size` to the highest number that your machine has memory for.  Most people set them to common sizes of memory:\n",
    " * 64\n",
    " * 128\n",
    " * 256\n",
    " * ...\n",
    "* Set `keep_probability` to the probability of keeping a node using dropout"
   ]
  },
  {
   "cell_type": "code",
   "execution_count": 16,
   "metadata": {
    "collapsed": true,
    "deletable": true,
    "editable": true
   },
   "outputs": [],
   "source": [
    "# TODO: Tune Parameters\n",
    "epochs = 100\n",
    "batch_size = 128\n",
    "keep_probability = 0.5"
   ]
  },
  {
   "cell_type": "markdown",
   "metadata": {
    "deletable": true,
    "editable": true
   },
   "source": [
    "### Train on a Single CIFAR-10 Batch\n",
    "Instead of training the neural network on all the CIFAR-10 batches of data, let's use a single batch. This should save time while you iterate on the model to get a better accuracy.  Once the final validation accuracy is 50% or greater, run the model on all the data in the next section."
   ]
  },
  {
   "cell_type": "code",
   "execution_count": 17,
   "metadata": {
    "collapsed": false,
    "deletable": true,
    "editable": true
   },
   "outputs": [
    {
     "name": "stdout",
     "output_type": "stream",
     "text": [
      "Checking the Training on a Single Batch...\n",
      "Epoch  1, CIFAR-10 Batch 1:  Loss: 2.239238739013672  Accuracy: 0.20000000298023224\n",
      "Epoch  2, CIFAR-10 Batch 1:  Loss: 2.211514472961426  Accuracy: 0.22500000894069672\n",
      "Epoch  3, CIFAR-10 Batch 1:  Loss: 2.155796766281128  Accuracy: 0.3500000238418579\n",
      "Epoch  4, CIFAR-10 Batch 1:  Loss: 2.1297335624694824  Accuracy: 0.4000000059604645\n",
      "Epoch  5, CIFAR-10 Batch 1:  Loss: 2.075791835784912  Accuracy: 0.42500001192092896\n",
      "Epoch  6, CIFAR-10 Batch 1:  Loss: 1.9625229835510254  Accuracy: 0.375\n",
      "Epoch  7, CIFAR-10 Batch 1:  Loss: 1.889718770980835  Accuracy: 0.42499998211860657\n",
      "Epoch  8, CIFAR-10 Batch 1:  Loss: 1.8559966087341309  Accuracy: 0.30000001192092896\n",
      "Epoch  9, CIFAR-10 Batch 1:  Loss: 1.843057632446289  Accuracy: 0.4000000059604645\n",
      "Epoch 10, CIFAR-10 Batch 1:  Loss: 1.7754380702972412  Accuracy: 0.32499998807907104\n",
      "Epoch 11, CIFAR-10 Batch 1:  Loss: 1.715175747871399  Accuracy: 0.42499998211860657\n",
      "Epoch 12, CIFAR-10 Batch 1:  Loss: 1.6916308403015137  Accuracy: 0.4000000059604645\n",
      "Epoch 13, CIFAR-10 Batch 1:  Loss: 1.6669137477874756  Accuracy: 0.44999998807907104\n",
      "Epoch 14, CIFAR-10 Batch 1:  Loss: 1.5753897428512573  Accuracy: 0.42499998211860657\n",
      "Epoch 15, CIFAR-10 Batch 1:  Loss: 1.5587592124938965  Accuracy: 0.5\n",
      "Epoch 16, CIFAR-10 Batch 1:  Loss: 1.5084843635559082  Accuracy: 0.4749999940395355\n",
      "Epoch 17, CIFAR-10 Batch 1:  Loss: 1.5088047981262207  Accuracy: 0.4749999940395355\n",
      "Epoch 18, CIFAR-10 Batch 1:  Loss: 1.4696986675262451  Accuracy: 0.44999998807907104\n",
      "Epoch 19, CIFAR-10 Batch 1:  Loss: 1.4529482126235962  Accuracy: 0.44999998807907104\n",
      "Epoch 20, CIFAR-10 Batch 1:  Loss: 1.373582363128662  Accuracy: 0.5\n",
      "Epoch 21, CIFAR-10 Batch 1:  Loss: 1.3207844495773315  Accuracy: 0.5\n",
      "Epoch 22, CIFAR-10 Batch 1:  Loss: 1.3325068950653076  Accuracy: 0.5\n",
      "Epoch 23, CIFAR-10 Batch 1:  Loss: 1.286324381828308  Accuracy: 0.5\n",
      "Epoch 24, CIFAR-10 Batch 1:  Loss: 1.2994458675384521  Accuracy: 0.5249999761581421\n",
      "Epoch 25, CIFAR-10 Batch 1:  Loss: 1.2705011367797852  Accuracy: 0.550000011920929\n",
      "Epoch 26, CIFAR-10 Batch 1:  Loss: 1.251343846321106  Accuracy: 0.550000011920929\n",
      "Epoch 27, CIFAR-10 Batch 1:  Loss: 1.1992905139923096  Accuracy: 0.6000000238418579\n",
      "Epoch 28, CIFAR-10 Batch 1:  Loss: 1.1943902969360352  Accuracy: 0.625\n",
      "Epoch 29, CIFAR-10 Batch 1:  Loss: 1.1569370031356812  Accuracy: 0.6499999761581421\n",
      "Epoch 30, CIFAR-10 Batch 1:  Loss: 1.1399272680282593  Accuracy: 0.6000000238418579\n",
      "Epoch 31, CIFAR-10 Batch 1:  Loss: 1.1259804964065552  Accuracy: 0.6000000238418579\n",
      "Epoch 32, CIFAR-10 Batch 1:  Loss: 1.1057608127593994  Accuracy: 0.625\n",
      "Epoch 33, CIFAR-10 Batch 1:  Loss: 1.098978042602539  Accuracy: 0.6000000238418579\n",
      "Epoch 34, CIFAR-10 Batch 1:  Loss: 1.0308362245559692  Accuracy: 0.6499999761581421\n",
      "Epoch 35, CIFAR-10 Batch 1:  Loss: 1.0484285354614258  Accuracy: 0.625\n",
      "Epoch 36, CIFAR-10 Batch 1:  Loss: 1.0033960342407227  Accuracy: 0.6499999761581421\n",
      "Epoch 37, CIFAR-10 Batch 1:  Loss: 0.9690029621124268  Accuracy: 0.6000000238418579\n",
      "Epoch 38, CIFAR-10 Batch 1:  Loss: 0.9778611660003662  Accuracy: 0.6499999761581421\n",
      "Epoch 39, CIFAR-10 Batch 1:  Loss: 1.0019947290420532  Accuracy: 0.6749999523162842\n",
      "Epoch 40, CIFAR-10 Batch 1:  Loss: 0.9414532780647278  Accuracy: 0.675000011920929\n",
      "Epoch 41, CIFAR-10 Batch 1:  Loss: 0.893118143081665  Accuracy: 0.6749999523162842\n",
      "Epoch 42, CIFAR-10 Batch 1:  Loss: 0.8483908772468567  Accuracy: 0.75\n",
      "Epoch 43, CIFAR-10 Batch 1:  Loss: 0.8911939859390259  Accuracy: 0.699999988079071\n",
      "Epoch 44, CIFAR-10 Batch 1:  Loss: 0.8558849096298218  Accuracy: 0.7500000596046448\n",
      "Epoch 45, CIFAR-10 Batch 1:  Loss: 0.8122764229774475  Accuracy: 0.7750000357627869\n",
      "Epoch 46, CIFAR-10 Batch 1:  Loss: 0.775282621383667  Accuracy: 0.7500000596046448\n",
      "Epoch 47, CIFAR-10 Batch 1:  Loss: 0.7818293571472168  Accuracy: 0.800000011920929\n",
      "Epoch 48, CIFAR-10 Batch 1:  Loss: 0.8073991537094116  Accuracy: 0.7750000357627869\n",
      "Epoch 49, CIFAR-10 Batch 1:  Loss: 0.7945533990859985  Accuracy: 0.7750000357627869\n",
      "Epoch 50, CIFAR-10 Batch 1:  Loss: 0.7472583055496216  Accuracy: 0.800000011920929\n",
      "Epoch 51, CIFAR-10 Batch 1:  Loss: 0.7221482992172241  Accuracy: 0.824999988079071\n",
      "Epoch 52, CIFAR-10 Batch 1:  Loss: 0.7814146280288696  Accuracy: 0.7750000357627869\n",
      "Epoch 53, CIFAR-10 Batch 1:  Loss: 0.7637385129928589  Accuracy: 0.800000011920929\n",
      "Epoch 54, CIFAR-10 Batch 1:  Loss: 0.7556652426719666  Accuracy: 0.800000011920929\n",
      "Epoch 55, CIFAR-10 Batch 1:  Loss: 0.6847386956214905  Accuracy: 0.824999988079071\n",
      "Epoch 56, CIFAR-10 Batch 1:  Loss: 0.7213413715362549  Accuracy: 0.824999988079071\n",
      "Epoch 57, CIFAR-10 Batch 1:  Loss: 0.7038637399673462  Accuracy: 0.800000011920929\n",
      "Epoch 58, CIFAR-10 Batch 1:  Loss: 0.69085294008255  Accuracy: 0.800000011920929\n",
      "Epoch 59, CIFAR-10 Batch 1:  Loss: 0.7119207382202148  Accuracy: 0.7250000238418579\n",
      "Epoch 60, CIFAR-10 Batch 1:  Loss: 0.6638465523719788  Accuracy: 0.7750000357627869\n",
      "Epoch 61, CIFAR-10 Batch 1:  Loss: 0.6751818060874939  Accuracy: 0.7750000357627869\n",
      "Epoch 62, CIFAR-10 Batch 1:  Loss: 0.6711660027503967  Accuracy: 0.7749999761581421\n",
      "Epoch 63, CIFAR-10 Batch 1:  Loss: 0.6435989737510681  Accuracy: 0.824999988079071\n",
      "Epoch 64, CIFAR-10 Batch 1:  Loss: 0.6533610820770264  Accuracy: 0.800000011920929\n",
      "Epoch 65, CIFAR-10 Batch 1:  Loss: 0.6386611461639404  Accuracy: 0.8500000238418579\n",
      "Epoch 66, CIFAR-10 Batch 1:  Loss: 0.6195228695869446  Accuracy: 0.824999988079071\n",
      "Epoch 67, CIFAR-10 Batch 1:  Loss: 0.5911693572998047  Accuracy: 0.8500000238418579\n",
      "Epoch 68, CIFAR-10 Batch 1:  Loss: 0.5759345889091492  Accuracy: 0.8499999642372131\n",
      "Epoch 69, CIFAR-10 Batch 1:  Loss: 0.5706595182418823  Accuracy: 0.7750000357627869\n",
      "Epoch 70, CIFAR-10 Batch 1:  Loss: 0.5891447067260742  Accuracy: 0.7750000357627869\n",
      "Epoch 71, CIFAR-10 Batch 1:  Loss: 0.552389919757843  Accuracy: 0.8500000238418579\n",
      "Epoch 72, CIFAR-10 Batch 1:  Loss: 0.5402311086654663  Accuracy: 0.824999988079071\n",
      "Epoch 73, CIFAR-10 Batch 1:  Loss: 0.5448400378227234  Accuracy: 0.875\n",
      "Epoch 74, CIFAR-10 Batch 1:  Loss: 0.5256195068359375  Accuracy: 0.875\n",
      "Epoch 75, CIFAR-10 Batch 1:  Loss: 0.5049573183059692  Accuracy: 0.8500000238418579\n",
      "Epoch 76, CIFAR-10 Batch 1:  Loss: 0.489984393119812  Accuracy: 0.875\n",
      "Epoch 77, CIFAR-10 Batch 1:  Loss: 0.498300164937973  Accuracy: 0.8999999761581421\n",
      "Epoch 78, CIFAR-10 Batch 1:  Loss: 0.4900262951850891  Accuracy: 0.8999999761581421\n",
      "Epoch 79, CIFAR-10 Batch 1:  Loss: 0.46835705637931824  Accuracy: 0.875\n",
      "Epoch 80, CIFAR-10 Batch 1:  Loss: 0.44559574127197266  Accuracy: 0.875\n",
      "Epoch 81, CIFAR-10 Batch 1:  Loss: 0.45505768060684204  Accuracy: 0.875\n",
      "Epoch 82, CIFAR-10 Batch 1:  Loss: 0.44733887910842896  Accuracy: 0.9000000357627869\n",
      "Epoch 83, CIFAR-10 Batch 1:  Loss: 0.48049718141555786  Accuracy: 0.875\n",
      "Epoch 84, CIFAR-10 Batch 1:  Loss: 0.44701701402664185  Accuracy: 0.875\n",
      "Epoch 85, CIFAR-10 Batch 1:  Loss: 0.42475688457489014  Accuracy: 0.8750000596046448\n",
      "Epoch 86, CIFAR-10 Batch 1:  Loss: 0.43797963857650757  Accuracy: 0.875\n",
      "Epoch 87, CIFAR-10 Batch 1:  Loss: 0.426392525434494  Accuracy: 0.9000000357627869\n",
      "Epoch 88, CIFAR-10 Batch 1:  Loss: 0.41158831119537354  Accuracy: 0.925000011920929\n",
      "Epoch 89, CIFAR-10 Batch 1:  Loss: 0.4183524549007416  Accuracy: 0.875\n",
      "Epoch 90, CIFAR-10 Batch 1:  Loss: 0.39732956886291504  Accuracy: 0.8499999642372131\n",
      "Epoch 91, CIFAR-10 Batch 1:  Loss: 0.3977782130241394  Accuracy: 0.925000011920929\n",
      "Epoch 92, CIFAR-10 Batch 1:  Loss: 0.39989930391311646  Accuracy: 0.875\n",
      "Epoch 93, CIFAR-10 Batch 1:  Loss: 0.3911365270614624  Accuracy: 0.9000000357627869\n",
      "Epoch 94, CIFAR-10 Batch 1:  Loss: 0.34205150604248047  Accuracy: 0.925000011920929\n",
      "Epoch 95, CIFAR-10 Batch 1:  Loss: 0.3613910675048828  Accuracy: 0.925000011920929\n",
      "Epoch 96, CIFAR-10 Batch 1:  Loss: 0.3805691599845886  Accuracy: 0.9000000357627869\n",
      "Epoch 97, CIFAR-10 Batch 1:  Loss: 0.4105308949947357  Accuracy: 0.8499999642372131\n",
      "Epoch 98, CIFAR-10 Batch 1:  Loss: 0.37238654494285583  Accuracy: 0.925000011920929\n",
      "Epoch 99, CIFAR-10 Batch 1:  Loss: 0.36918410658836365  Accuracy: 0.925000011920929\n",
      "Epoch 100, CIFAR-10 Batch 1:  Loss: 0.3761412799358368  Accuracy: 0.9000000357627869\n"
     ]
    }
   ],
   "source": [
    "\"\"\"\n",
    "DON'T MODIFY ANYTHING IN THIS CELL\n",
    "\"\"\"\n",
    "print('Checking the Training on a Single Batch...')\n",
    "with tf.Session() as sess:\n",
    "    # Initializing the variables\n",
    "    sess.run(tf.global_variables_initializer())\n",
    "    \n",
    "    # Training cycle\n",
    "    for epoch in range(epochs):\n",
    "        batch_i = 1\n",
    "        for batch_features, batch_labels in helper.load_preprocess_training_batch(batch_i, batch_size):\n",
    "            train_neural_network(sess, optimizer, keep_probability, batch_features, batch_labels)\n",
    "        print('Epoch {:>2}, CIFAR-10 Batch {}:  '.format(epoch + 1, batch_i), end='')\n",
    "        print_stats(sess, batch_features, batch_labels, cost, accuracy)"
   ]
  },
  {
   "cell_type": "markdown",
   "metadata": {
    "deletable": true,
    "editable": true
   },
   "source": [
    "### Fully Train the Model\n",
    "Now that you got a good accuracy with a single CIFAR-10 batch, try it with all five batches."
   ]
  },
  {
   "cell_type": "code",
   "execution_count": 18,
   "metadata": {
    "collapsed": false,
    "deletable": true,
    "editable": true
   },
   "outputs": [
    {
     "name": "stdout",
     "output_type": "stream",
     "text": [
      "Training...\n",
      "Epoch  1, CIFAR-10 Batch 1:  Loss: 2.23110032081604  Accuracy: 0.15000000596046448\n",
      "Epoch  1, CIFAR-10 Batch 2:  Loss: 2.0811448097229004  Accuracy: 0.22499999403953552\n",
      "Epoch  1, CIFAR-10 Batch 3:  Loss: 1.8150386810302734  Accuracy: 0.17500001192092896\n",
      "Epoch  1, CIFAR-10 Batch 4:  Loss: 1.8493655920028687  Accuracy: 0.2750000059604645\n",
      "Epoch  1, CIFAR-10 Batch 5:  Loss: 1.8605520725250244  Accuracy: 0.3500000238418579\n",
      "Epoch  2, CIFAR-10 Batch 1:  Loss: 2.019744396209717  Accuracy: 0.44999998807907104\n",
      "Epoch  2, CIFAR-10 Batch 2:  Loss: 1.9853380918502808  Accuracy: 0.30000001192092896\n",
      "Epoch  2, CIFAR-10 Batch 3:  Loss: 1.6398416757583618  Accuracy: 0.375\n",
      "Epoch  2, CIFAR-10 Batch 4:  Loss: 1.7518644332885742  Accuracy: 0.25\n",
      "Epoch  2, CIFAR-10 Batch 5:  Loss: 1.8215985298156738  Accuracy: 0.375\n",
      "Epoch  3, CIFAR-10 Batch 1:  Loss: 1.916717529296875  Accuracy: 0.42500001192092896\n",
      "Epoch  3, CIFAR-10 Batch 2:  Loss: 1.913380742073059  Accuracy: 0.42500001192092896\n",
      "Epoch  3, CIFAR-10 Batch 3:  Loss: 1.4368817806243896  Accuracy: 0.42500001192092896\n",
      "Epoch  3, CIFAR-10 Batch 4:  Loss: 1.6417381763458252  Accuracy: 0.32500001788139343\n",
      "Epoch  3, CIFAR-10 Batch 5:  Loss: 1.7000699043273926  Accuracy: 0.4000000059604645\n",
      "Epoch  4, CIFAR-10 Batch 1:  Loss: 1.7133715152740479  Accuracy: 0.42499998211860657\n",
      "Epoch  4, CIFAR-10 Batch 2:  Loss: 1.67940092086792  Accuracy: 0.45000001788139343\n",
      "Epoch  4, CIFAR-10 Batch 3:  Loss: 1.3231269121170044  Accuracy: 0.550000011920929\n",
      "Epoch  4, CIFAR-10 Batch 4:  Loss: 1.5031896829605103  Accuracy: 0.4000000059604645\n",
      "Epoch  4, CIFAR-10 Batch 5:  Loss: 1.5663249492645264  Accuracy: 0.4749999940395355\n",
      "Epoch  5, CIFAR-10 Batch 1:  Loss: 1.7101452350616455  Accuracy: 0.42500001192092896\n",
      "Epoch  5, CIFAR-10 Batch 2:  Loss: 1.5743016004562378  Accuracy: 0.42500001192092896\n",
      "Epoch  5, CIFAR-10 Batch 3:  Loss: 1.2226723432540894  Accuracy: 0.6000000238418579\n",
      "Epoch  5, CIFAR-10 Batch 4:  Loss: 1.486209511756897  Accuracy: 0.5\n",
      "Epoch  5, CIFAR-10 Batch 5:  Loss: 1.467037320137024  Accuracy: 0.44999998807907104\n",
      "Epoch  6, CIFAR-10 Batch 1:  Loss: 1.5536984205245972  Accuracy: 0.4749999940395355\n",
      "Epoch  6, CIFAR-10 Batch 2:  Loss: 1.5144978761672974  Accuracy: 0.42500001192092896\n",
      "Epoch  6, CIFAR-10 Batch 3:  Loss: 1.2242553234100342  Accuracy: 0.6000000238418579\n",
      "Epoch  6, CIFAR-10 Batch 4:  Loss: 1.3814189434051514  Accuracy: 0.42500001192092896\n",
      "Epoch  6, CIFAR-10 Batch 5:  Loss: 1.4493277072906494  Accuracy: 0.4749999940395355\n",
      "Epoch  7, CIFAR-10 Batch 1:  Loss: 1.4712653160095215  Accuracy: 0.45000001788139343\n",
      "Epoch  7, CIFAR-10 Batch 2:  Loss: 1.3827488422393799  Accuracy: 0.5\n",
      "Epoch  7, CIFAR-10 Batch 3:  Loss: 1.1559580564498901  Accuracy: 0.6499999761581421\n",
      "Epoch  7, CIFAR-10 Batch 4:  Loss: 1.4258947372436523  Accuracy: 0.4750000238418579\n",
      "Epoch  7, CIFAR-10 Batch 5:  Loss: 1.3920469284057617  Accuracy: 0.44999998807907104\n",
      "Epoch  8, CIFAR-10 Batch 1:  Loss: 1.4808540344238281  Accuracy: 0.5\n",
      "Epoch  8, CIFAR-10 Batch 2:  Loss: 1.3411957025527954  Accuracy: 0.5249999761581421\n",
      "Epoch  8, CIFAR-10 Batch 3:  Loss: 1.09787917137146  Accuracy: 0.550000011920929\n",
      "Epoch  8, CIFAR-10 Batch 4:  Loss: 1.3426928520202637  Accuracy: 0.44999998807907104\n",
      "Epoch  8, CIFAR-10 Batch 5:  Loss: 1.3565239906311035  Accuracy: 0.4749999940395355\n",
      "Epoch  9, CIFAR-10 Batch 1:  Loss: 1.4338445663452148  Accuracy: 0.550000011920929\n",
      "Epoch  9, CIFAR-10 Batch 2:  Loss: 1.2871595621109009  Accuracy: 0.5750000476837158\n",
      "Epoch  9, CIFAR-10 Batch 3:  Loss: 1.0873887538909912  Accuracy: 0.6499999761581421\n",
      "Epoch  9, CIFAR-10 Batch 4:  Loss: 1.3388457298278809  Accuracy: 0.5\n",
      "Epoch  9, CIFAR-10 Batch 5:  Loss: 1.2978086471557617  Accuracy: 0.5249999761581421\n",
      "Epoch 10, CIFAR-10 Batch 1:  Loss: 1.4439756870269775  Accuracy: 0.5249999761581421\n",
      "Epoch 10, CIFAR-10 Batch 2:  Loss: 1.3849257230758667  Accuracy: 0.5\n",
      "Epoch 10, CIFAR-10 Batch 3:  Loss: 1.0836002826690674  Accuracy: 0.625\n",
      "Epoch 10, CIFAR-10 Batch 4:  Loss: 1.2903239727020264  Accuracy: 0.6000000238418579\n",
      "Epoch 10, CIFAR-10 Batch 5:  Loss: 1.2644927501678467  Accuracy: 0.5\n",
      "Epoch 11, CIFAR-10 Batch 1:  Loss: 1.3972760438919067  Accuracy: 0.4749999940395355\n",
      "Epoch 11, CIFAR-10 Batch 2:  Loss: 1.221336007118225  Accuracy: 0.5249999761581421\n",
      "Epoch 11, CIFAR-10 Batch 3:  Loss: 1.0579137802124023  Accuracy: 0.625\n",
      "Epoch 11, CIFAR-10 Batch 4:  Loss: 1.2623875141143799  Accuracy: 0.42500001192092896\n",
      "Epoch 11, CIFAR-10 Batch 5:  Loss: 1.2691011428833008  Accuracy: 0.5249999761581421\n",
      "Epoch 12, CIFAR-10 Batch 1:  Loss: 1.343327522277832  Accuracy: 0.550000011920929\n",
      "Epoch 12, CIFAR-10 Batch 2:  Loss: 1.2044663429260254  Accuracy: 0.5250000357627869\n",
      "Epoch 12, CIFAR-10 Batch 3:  Loss: 0.9600749015808105  Accuracy: 0.7000000476837158\n",
      "Epoch 12, CIFAR-10 Batch 4:  Loss: 1.213534951210022  Accuracy: 0.4750000238418579\n",
      "Epoch 12, CIFAR-10 Batch 5:  Loss: 1.209592580795288  Accuracy: 0.574999988079071\n",
      "Epoch 13, CIFAR-10 Batch 1:  Loss: 1.2592591047286987  Accuracy: 0.550000011920929\n",
      "Epoch 13, CIFAR-10 Batch 2:  Loss: 1.1696985960006714  Accuracy: 0.5250000357627869\n",
      "Epoch 13, CIFAR-10 Batch 3:  Loss: 0.9733403921127319  Accuracy: 0.6000000238418579\n",
      "Epoch 13, CIFAR-10 Batch 4:  Loss: 1.2110590934753418  Accuracy: 0.6000000238418579\n",
      "Epoch 13, CIFAR-10 Batch 5:  Loss: 1.1639094352722168  Accuracy: 0.625\n",
      "Epoch 14, CIFAR-10 Batch 1:  Loss: 1.2656292915344238  Accuracy: 0.6000000238418579\n",
      "Epoch 14, CIFAR-10 Batch 2:  Loss: 1.1498247385025024  Accuracy: 0.5250000357627869\n",
      "Epoch 14, CIFAR-10 Batch 3:  Loss: 0.962860107421875  Accuracy: 0.6499999761581421\n",
      "Epoch 14, CIFAR-10 Batch 4:  Loss: 1.1424386501312256  Accuracy: 0.6000000238418579\n",
      "Epoch 14, CIFAR-10 Batch 5:  Loss: 1.0945703983306885  Accuracy: 0.6750000715255737\n",
      "Epoch 15, CIFAR-10 Batch 1:  Loss: 1.230555772781372  Accuracy: 0.6000000238418579\n",
      "Epoch 15, CIFAR-10 Batch 2:  Loss: 1.1145973205566406  Accuracy: 0.5250000357627869\n",
      "Epoch 15, CIFAR-10 Batch 3:  Loss: 0.9216179251670837  Accuracy: 0.625\n",
      "Epoch 15, CIFAR-10 Batch 4:  Loss: 1.1144943237304688  Accuracy: 0.574999988079071\n",
      "Epoch 15, CIFAR-10 Batch 5:  Loss: 1.070365309715271  Accuracy: 0.6000000238418579\n",
      "Epoch 16, CIFAR-10 Batch 1:  Loss: 1.240067958831787  Accuracy: 0.5249999761581421\n",
      "Epoch 16, CIFAR-10 Batch 2:  Loss: 1.0623787641525269  Accuracy: 0.5250000357627869\n",
      "Epoch 16, CIFAR-10 Batch 3:  Loss: 0.9263936281204224  Accuracy: 0.6499999761581421\n",
      "Epoch 16, CIFAR-10 Batch 4:  Loss: 1.1004995107650757  Accuracy: 0.5249999761581421\n",
      "Epoch 16, CIFAR-10 Batch 5:  Loss: 1.034615397453308  Accuracy: 0.7250000238418579\n",
      "Epoch 17, CIFAR-10 Batch 1:  Loss: 1.2193970680236816  Accuracy: 0.5750000476837158\n",
      "Epoch 17, CIFAR-10 Batch 2:  Loss: 1.1141372919082642  Accuracy: 0.574999988079071\n",
      "Epoch 17, CIFAR-10 Batch 3:  Loss: 0.9371082782745361  Accuracy: 0.6499999761581421\n",
      "Epoch 17, CIFAR-10 Batch 4:  Loss: 1.068742275238037  Accuracy: 0.6499999761581421\n",
      "Epoch 17, CIFAR-10 Batch 5:  Loss: 0.9734494090080261  Accuracy: 0.7250000238418579\n",
      "Epoch 18, CIFAR-10 Batch 1:  Loss: 1.1158758401870728  Accuracy: 0.625\n",
      "Epoch 18, CIFAR-10 Batch 2:  Loss: 1.0888922214508057  Accuracy: 0.625\n",
      "Epoch 18, CIFAR-10 Batch 3:  Loss: 0.8671084642410278  Accuracy: 0.7000000476837158\n",
      "Epoch 18, CIFAR-10 Batch 4:  Loss: 1.0716979503631592  Accuracy: 0.6499999761581421\n",
      "Epoch 18, CIFAR-10 Batch 5:  Loss: 0.9723024368286133  Accuracy: 0.7000000476837158\n",
      "Epoch 19, CIFAR-10 Batch 1:  Loss: 1.1063026189804077  Accuracy: 0.625\n",
      "Epoch 19, CIFAR-10 Batch 2:  Loss: 0.9935147762298584  Accuracy: 0.550000011920929\n",
      "Epoch 19, CIFAR-10 Batch 3:  Loss: 0.8511490821838379  Accuracy: 0.6749999523162842\n",
      "Epoch 19, CIFAR-10 Batch 4:  Loss: 1.0412847995758057  Accuracy: 0.6000000238418579\n",
      "Epoch 19, CIFAR-10 Batch 5:  Loss: 0.9734756946563721  Accuracy: 0.6500000357627869\n",
      "Epoch 20, CIFAR-10 Batch 1:  Loss: 1.042868971824646  Accuracy: 0.7000000476837158\n",
      "Epoch 20, CIFAR-10 Batch 2:  Loss: 1.0307788848876953  Accuracy: 0.625\n",
      "Epoch 20, CIFAR-10 Batch 3:  Loss: 0.8848550319671631  Accuracy: 0.7250000238418579\n",
      "Epoch 20, CIFAR-10 Batch 4:  Loss: 1.0202441215515137  Accuracy: 0.6749999523162842\n",
      "Epoch 20, CIFAR-10 Batch 5:  Loss: 0.9579033851623535  Accuracy: 0.675000011920929\n",
      "Epoch 21, CIFAR-10 Batch 1:  Loss: 1.102536678314209  Accuracy: 0.6499999761581421\n",
      "Epoch 21, CIFAR-10 Batch 2:  Loss: 0.9837994575500488  Accuracy: 0.625\n",
      "Epoch 21, CIFAR-10 Batch 3:  Loss: 0.832116425037384  Accuracy: 0.7250000238418579\n",
      "Epoch 21, CIFAR-10 Batch 4:  Loss: 0.9960418939590454  Accuracy: 0.7000000476837158\n",
      "Epoch 21, CIFAR-10 Batch 5:  Loss: 0.9210911393165588  Accuracy: 0.7750000357627869\n",
      "Epoch 22, CIFAR-10 Batch 1:  Loss: 1.0429655313491821  Accuracy: 0.6499999761581421\n",
      "Epoch 22, CIFAR-10 Batch 2:  Loss: 1.0270652770996094  Accuracy: 0.550000011920929\n",
      "Epoch 22, CIFAR-10 Batch 3:  Loss: 0.8190514445304871  Accuracy: 0.75\n",
      "Epoch 22, CIFAR-10 Batch 4:  Loss: 0.9444938898086548  Accuracy: 0.6750000715255737\n",
      "Epoch 22, CIFAR-10 Batch 5:  Loss: 0.9368729591369629  Accuracy: 0.7250000238418579\n",
      "Epoch 23, CIFAR-10 Batch 1:  Loss: 1.039150595664978  Accuracy: 0.6749999523162842\n",
      "Epoch 23, CIFAR-10 Batch 2:  Loss: 0.9249392151832581  Accuracy: 0.625\n",
      "Epoch 23, CIFAR-10 Batch 3:  Loss: 0.7896725535392761  Accuracy: 0.6749999523162842\n",
      "Epoch 23, CIFAR-10 Batch 4:  Loss: 0.9269677996635437  Accuracy: 0.675000011920929\n",
      "Epoch 23, CIFAR-10 Batch 5:  Loss: 0.873988151550293  Accuracy: 0.8250000476837158\n",
      "Epoch 24, CIFAR-10 Batch 1:  Loss: 0.9583244919776917  Accuracy: 0.7000000476837158\n",
      "Epoch 24, CIFAR-10 Batch 2:  Loss: 0.9512051939964294  Accuracy: 0.625\n",
      "Epoch 24, CIFAR-10 Batch 3:  Loss: 0.7910996675491333  Accuracy: 0.7250000238418579\n",
      "Epoch 24, CIFAR-10 Batch 4:  Loss: 0.9486210346221924  Accuracy: 0.675000011920929\n",
      "Epoch 24, CIFAR-10 Batch 5:  Loss: 0.8825958371162415  Accuracy: 0.7749999761581421\n",
      "Epoch 25, CIFAR-10 Batch 1:  Loss: 1.0138028860092163  Accuracy: 0.6499999761581421\n",
      "Epoch 25, CIFAR-10 Batch 2:  Loss: 0.9612095355987549  Accuracy: 0.6500000357627869\n",
      "Epoch 25, CIFAR-10 Batch 3:  Loss: 0.7776152491569519  Accuracy: 0.7000000476837158\n",
      "Epoch 25, CIFAR-10 Batch 4:  Loss: 0.87645024061203  Accuracy: 0.6500000357627869\n",
      "Epoch 25, CIFAR-10 Batch 5:  Loss: 0.8664568066596985  Accuracy: 0.7750000357627869\n",
      "Epoch 26, CIFAR-10 Batch 1:  Loss: 0.952670156955719  Accuracy: 0.6750000715255737\n",
      "Epoch 26, CIFAR-10 Batch 2:  Loss: 0.8760198354721069  Accuracy: 0.6500000357627869\n",
      "Epoch 26, CIFAR-10 Batch 3:  Loss: 0.7460619211196899  Accuracy: 0.7500000596046448\n",
      "Epoch 26, CIFAR-10 Batch 4:  Loss: 0.8729841709136963  Accuracy: 0.625\n",
      "Epoch 26, CIFAR-10 Batch 5:  Loss: 0.8575835227966309  Accuracy: 0.8250000476837158\n",
      "Epoch 27, CIFAR-10 Batch 1:  Loss: 0.8838459253311157  Accuracy: 0.6750000715255737\n",
      "Epoch 27, CIFAR-10 Batch 2:  Loss: 0.8334695100784302  Accuracy: 0.6500000357627869\n",
      "Epoch 27, CIFAR-10 Batch 3:  Loss: 0.7118016481399536  Accuracy: 0.75\n",
      "Epoch 27, CIFAR-10 Batch 4:  Loss: 0.8705730438232422  Accuracy: 0.675000011920929\n",
      "Epoch 27, CIFAR-10 Batch 5:  Loss: 0.783484697341919  Accuracy: 0.800000011920929\n",
      "Epoch 28, CIFAR-10 Batch 1:  Loss: 0.9139881134033203  Accuracy: 0.7000000476837158\n",
      "Epoch 28, CIFAR-10 Batch 2:  Loss: 0.820401668548584  Accuracy: 0.675000011920929\n",
      "Epoch 28, CIFAR-10 Batch 3:  Loss: 0.7305981516838074  Accuracy: 0.75\n",
      "Epoch 28, CIFAR-10 Batch 4:  Loss: 0.8941338062286377  Accuracy: 0.7000000476837158\n",
      "Epoch 28, CIFAR-10 Batch 5:  Loss: 0.8252873420715332  Accuracy: 0.75\n",
      "Epoch 29, CIFAR-10 Batch 1:  Loss: 0.8736841678619385  Accuracy: 0.7250000238418579\n",
      "Epoch 29, CIFAR-10 Batch 2:  Loss: 0.8691093921661377  Accuracy: 0.675000011920929\n",
      "Epoch 29, CIFAR-10 Batch 3:  Loss: 0.7348831295967102  Accuracy: 0.75\n",
      "Epoch 29, CIFAR-10 Batch 4:  Loss: 0.8299388885498047  Accuracy: 0.7749999761581421\n",
      "Epoch 29, CIFAR-10 Batch 5:  Loss: 0.7947132587432861  Accuracy: 0.8000000715255737\n",
      "Epoch 30, CIFAR-10 Batch 1:  Loss: 0.8744235634803772  Accuracy: 0.7000000476837158\n",
      "Epoch 30, CIFAR-10 Batch 2:  Loss: 0.8310083150863647  Accuracy: 0.6750000715255737\n",
      "Epoch 30, CIFAR-10 Batch 3:  Loss: 0.6563887596130371  Accuracy: 0.7500000596046448\n",
      "Epoch 30, CIFAR-10 Batch 4:  Loss: 0.8170052766799927  Accuracy: 0.75\n",
      "Epoch 30, CIFAR-10 Batch 5:  Loss: 0.7439149618148804  Accuracy: 0.8750000596046448\n",
      "Epoch 31, CIFAR-10 Batch 1:  Loss: 0.8486785888671875  Accuracy: 0.7250000238418579\n",
      "Epoch 31, CIFAR-10 Batch 2:  Loss: 0.7808666229248047  Accuracy: 0.6749999523162842\n",
      "Epoch 31, CIFAR-10 Batch 3:  Loss: 0.6931952238082886  Accuracy: 0.75\n",
      "Epoch 31, CIFAR-10 Batch 4:  Loss: 0.8125457763671875  Accuracy: 0.75\n",
      "Epoch 31, CIFAR-10 Batch 5:  Loss: 0.770286500453949  Accuracy: 0.824999988079071\n",
      "Epoch 32, CIFAR-10 Batch 1:  Loss: 0.8063017129898071  Accuracy: 0.75\n",
      "Epoch 32, CIFAR-10 Batch 2:  Loss: 0.8523920774459839  Accuracy: 0.6000000238418579\n",
      "Epoch 32, CIFAR-10 Batch 3:  Loss: 0.6719104051589966  Accuracy: 0.8250000476837158\n",
      "Epoch 32, CIFAR-10 Batch 4:  Loss: 0.8580383062362671  Accuracy: 0.75\n",
      "Epoch 32, CIFAR-10 Batch 5:  Loss: 0.7523517608642578  Accuracy: 0.8250000476837158\n",
      "Epoch 33, CIFAR-10 Batch 1:  Loss: 0.7924887537956238  Accuracy: 0.7749999761581421\n",
      "Epoch 33, CIFAR-10 Batch 2:  Loss: 0.820236086845398  Accuracy: 0.6000000238418579\n",
      "Epoch 33, CIFAR-10 Batch 3:  Loss: 0.6889471411705017  Accuracy: 0.75\n",
      "Epoch 33, CIFAR-10 Batch 4:  Loss: 0.807335615158081  Accuracy: 0.75\n",
      "Epoch 33, CIFAR-10 Batch 5:  Loss: 0.7538562417030334  Accuracy: 0.875\n",
      "Epoch 34, CIFAR-10 Batch 1:  Loss: 0.8301761150360107  Accuracy: 0.7250000238418579\n",
      "Epoch 34, CIFAR-10 Batch 2:  Loss: 0.7955083847045898  Accuracy: 0.6500000357627869\n",
      "Epoch 34, CIFAR-10 Batch 3:  Loss: 0.6791221499443054  Accuracy: 0.8000000715255737\n",
      "Epoch 34, CIFAR-10 Batch 4:  Loss: 0.7320631146430969  Accuracy: 0.7250000238418579\n",
      "Epoch 34, CIFAR-10 Batch 5:  Loss: 0.691175639629364  Accuracy: 0.8500000238418579\n",
      "Epoch 35, CIFAR-10 Batch 1:  Loss: 0.8008819818496704  Accuracy: 0.75\n",
      "Epoch 35, CIFAR-10 Batch 2:  Loss: 0.799242377281189  Accuracy: 0.7000000476837158\n",
      "Epoch 35, CIFAR-10 Batch 3:  Loss: 0.6865039467811584  Accuracy: 0.800000011920929\n",
      "Epoch 35, CIFAR-10 Batch 4:  Loss: 0.796400785446167  Accuracy: 0.7250000238418579\n",
      "Epoch 35, CIFAR-10 Batch 5:  Loss: 0.7252539396286011  Accuracy: 0.824999988079071\n",
      "Epoch 36, CIFAR-10 Batch 1:  Loss: 0.7610399723052979  Accuracy: 0.75\n",
      "Epoch 36, CIFAR-10 Batch 2:  Loss: 0.7959044575691223  Accuracy: 0.6499999761581421\n",
      "Epoch 36, CIFAR-10 Batch 3:  Loss: 0.6554377675056458  Accuracy: 0.824999988079071\n",
      "Epoch 36, CIFAR-10 Batch 4:  Loss: 0.761343240737915  Accuracy: 0.7250000238418579\n",
      "Epoch 36, CIFAR-10 Batch 5:  Loss: 0.6772751808166504  Accuracy: 0.875\n",
      "Epoch 37, CIFAR-10 Batch 1:  Loss: 0.7543923854827881  Accuracy: 0.7999999523162842\n",
      "Epoch 37, CIFAR-10 Batch 2:  Loss: 0.7450873851776123  Accuracy: 0.7000000476837158\n",
      "Epoch 37, CIFAR-10 Batch 3:  Loss: 0.6577857136726379  Accuracy: 0.7749999761581421\n",
      "Epoch 37, CIFAR-10 Batch 4:  Loss: 0.7555899024009705  Accuracy: 0.7250000238418579\n",
      "Epoch 37, CIFAR-10 Batch 5:  Loss: 0.6940380334854126  Accuracy: 0.824999988079071\n",
      "Epoch 38, CIFAR-10 Batch 1:  Loss: 0.7442790269851685  Accuracy: 0.8000000715255737\n",
      "Epoch 38, CIFAR-10 Batch 2:  Loss: 0.700381338596344  Accuracy: 0.7250000238418579\n",
      "Epoch 38, CIFAR-10 Batch 3:  Loss: 0.629246711730957  Accuracy: 0.7750000357627869\n",
      "Epoch 38, CIFAR-10 Batch 4:  Loss: 0.8179243803024292  Accuracy: 0.7749999761581421\n",
      "Epoch 38, CIFAR-10 Batch 5:  Loss: 0.6665362119674683  Accuracy: 0.875\n",
      "Epoch 39, CIFAR-10 Batch 1:  Loss: 0.7102428674697876  Accuracy: 0.7999999523162842\n",
      "Epoch 39, CIFAR-10 Batch 2:  Loss: 0.7238787412643433  Accuracy: 0.7750000357627869\n",
      "Epoch 39, CIFAR-10 Batch 3:  Loss: 0.6348865628242493  Accuracy: 0.8500000238418579\n",
      "Epoch 39, CIFAR-10 Batch 4:  Loss: 0.7310954332351685  Accuracy: 0.7749999761581421\n",
      "Epoch 39, CIFAR-10 Batch 5:  Loss: 0.6342898607254028  Accuracy: 0.824999988079071\n",
      "Epoch 40, CIFAR-10 Batch 1:  Loss: 0.7528787851333618  Accuracy: 0.7999999523162842\n",
      "Epoch 40, CIFAR-10 Batch 2:  Loss: 0.72086501121521  Accuracy: 0.75\n",
      "Epoch 40, CIFAR-10 Batch 3:  Loss: 0.5924488306045532  Accuracy: 0.8250000476837158\n",
      "Epoch 40, CIFAR-10 Batch 4:  Loss: 0.7160943746566772  Accuracy: 0.7250000238418579\n",
      "Epoch 40, CIFAR-10 Batch 5:  Loss: 0.6955044865608215  Accuracy: 0.8500000238418579\n",
      "Epoch 41, CIFAR-10 Batch 1:  Loss: 0.7489249110221863  Accuracy: 0.7749999761581421\n",
      "Epoch 41, CIFAR-10 Batch 2:  Loss: 0.7338624000549316  Accuracy: 0.7250000238418579\n",
      "Epoch 41, CIFAR-10 Batch 3:  Loss: 0.6021895408630371  Accuracy: 0.7750000357627869\n",
      "Epoch 41, CIFAR-10 Batch 4:  Loss: 0.7022051811218262  Accuracy: 0.7749999761581421\n",
      "Epoch 41, CIFAR-10 Batch 5:  Loss: 0.6302499771118164  Accuracy: 0.8500000238418579\n",
      "Epoch 42, CIFAR-10 Batch 1:  Loss: 0.7002386450767517  Accuracy: 0.7749999761581421\n",
      "Epoch 42, CIFAR-10 Batch 2:  Loss: 0.6776924729347229  Accuracy: 0.8250000476837158\n",
      "Epoch 42, CIFAR-10 Batch 3:  Loss: 0.5836955308914185  Accuracy: 0.8250000476837158\n",
      "Epoch 42, CIFAR-10 Batch 4:  Loss: 0.6918164491653442  Accuracy: 0.7250000238418579\n",
      "Epoch 42, CIFAR-10 Batch 5:  Loss: 0.6051977872848511  Accuracy: 0.9000000357627869\n",
      "Epoch 43, CIFAR-10 Batch 1:  Loss: 0.6813311576843262  Accuracy: 0.7749999761581421\n",
      "Epoch 43, CIFAR-10 Batch 2:  Loss: 0.6769447922706604  Accuracy: 0.7250000238418579\n",
      "Epoch 43, CIFAR-10 Batch 3:  Loss: 0.5585309863090515  Accuracy: 0.7750000357627869\n",
      "Epoch 43, CIFAR-10 Batch 4:  Loss: 0.6802701950073242  Accuracy: 0.7250000238418579\n",
      "Epoch 43, CIFAR-10 Batch 5:  Loss: 0.6330714225769043  Accuracy: 0.875\n",
      "Epoch 44, CIFAR-10 Batch 1:  Loss: 0.7033467292785645  Accuracy: 0.7749999761581421\n",
      "Epoch 44, CIFAR-10 Batch 2:  Loss: 0.708723783493042  Accuracy: 0.7750000357627869\n",
      "Epoch 44, CIFAR-10 Batch 3:  Loss: 0.6280953884124756  Accuracy: 0.824999988079071\n",
      "Epoch 44, CIFAR-10 Batch 4:  Loss: 0.6523956656455994  Accuracy: 0.7749999761581421\n",
      "Epoch 44, CIFAR-10 Batch 5:  Loss: 0.6290645003318787  Accuracy: 0.875\n",
      "Epoch 45, CIFAR-10 Batch 1:  Loss: 0.7439923286437988  Accuracy: 0.8000000715255737\n",
      "Epoch 45, CIFAR-10 Batch 2:  Loss: 0.6811327934265137  Accuracy: 0.800000011920929\n",
      "Epoch 45, CIFAR-10 Batch 3:  Loss: 0.5775207877159119  Accuracy: 0.824999988079071\n",
      "Epoch 45, CIFAR-10 Batch 4:  Loss: 0.6137106418609619  Accuracy: 0.75\n",
      "Epoch 45, CIFAR-10 Batch 5:  Loss: 0.608634889125824  Accuracy: 0.875\n",
      "Epoch 46, CIFAR-10 Batch 1:  Loss: 0.6735010147094727  Accuracy: 0.8250000476837158\n",
      "Epoch 46, CIFAR-10 Batch 2:  Loss: 0.6586877107620239  Accuracy: 0.7750000357627869\n",
      "Epoch 46, CIFAR-10 Batch 3:  Loss: 0.5698540210723877  Accuracy: 0.8250000476837158\n",
      "Epoch 46, CIFAR-10 Batch 4:  Loss: 0.7268081307411194  Accuracy: 0.75\n",
      "Epoch 46, CIFAR-10 Batch 5:  Loss: 0.613332986831665  Accuracy: 0.875\n",
      "Epoch 47, CIFAR-10 Batch 1:  Loss: 0.6626255512237549  Accuracy: 0.8000000715255737\n",
      "Epoch 47, CIFAR-10 Batch 2:  Loss: 0.6675000786781311  Accuracy: 0.824999988079071\n",
      "Epoch 47, CIFAR-10 Batch 3:  Loss: 0.5682872533798218  Accuracy: 0.875\n",
      "Epoch 47, CIFAR-10 Batch 4:  Loss: 0.6648656129837036  Accuracy: 0.7749999761581421\n",
      "Epoch 47, CIFAR-10 Batch 5:  Loss: 0.573401927947998  Accuracy: 0.875\n",
      "Epoch 48, CIFAR-10 Batch 1:  Loss: 0.6343249082565308  Accuracy: 0.8250000476837158\n",
      "Epoch 48, CIFAR-10 Batch 2:  Loss: 0.6182407140731812  Accuracy: 0.8750000596046448\n",
      "Epoch 48, CIFAR-10 Batch 3:  Loss: 0.5610108375549316  Accuracy: 0.8499999642372131\n",
      "Epoch 48, CIFAR-10 Batch 4:  Loss: 0.6648831367492676  Accuracy: 0.75\n",
      "Epoch 48, CIFAR-10 Batch 5:  Loss: 0.6129615902900696  Accuracy: 0.875\n",
      "Epoch 49, CIFAR-10 Batch 1:  Loss: 0.7101210355758667  Accuracy: 0.7999999523162842\n",
      "Epoch 49, CIFAR-10 Batch 2:  Loss: 0.6482696533203125  Accuracy: 0.800000011920929\n",
      "Epoch 49, CIFAR-10 Batch 3:  Loss: 0.5820777416229248  Accuracy: 0.7749999761581421\n",
      "Epoch 49, CIFAR-10 Batch 4:  Loss: 0.6448624730110168  Accuracy: 0.7749999761581421\n",
      "Epoch 49, CIFAR-10 Batch 5:  Loss: 0.5784995555877686  Accuracy: 0.875\n",
      "Epoch 50, CIFAR-10 Batch 1:  Loss: 0.6831316947937012  Accuracy: 0.824999988079071\n",
      "Epoch 50, CIFAR-10 Batch 2:  Loss: 0.6551389694213867  Accuracy: 0.800000011920929\n",
      "Epoch 50, CIFAR-10 Batch 3:  Loss: 0.5542770624160767  Accuracy: 0.7750000357627869\n",
      "Epoch 50, CIFAR-10 Batch 4:  Loss: 0.645607054233551  Accuracy: 0.8250000476837158\n",
      "Epoch 50, CIFAR-10 Batch 5:  Loss: 0.5876340866088867  Accuracy: 0.8999999761581421\n",
      "Epoch 51, CIFAR-10 Batch 1:  Loss: 0.6773068904876709  Accuracy: 0.800000011920929\n",
      "Epoch 51, CIFAR-10 Batch 2:  Loss: 0.6231859922409058  Accuracy: 0.824999988079071\n",
      "Epoch 51, CIFAR-10 Batch 3:  Loss: 0.5632785558700562  Accuracy: 0.8500000238418579\n",
      "Epoch 51, CIFAR-10 Batch 4:  Loss: 0.6490558385848999  Accuracy: 0.800000011920929\n",
      "Epoch 51, CIFAR-10 Batch 5:  Loss: 0.5667940378189087  Accuracy: 0.9000000357627869\n",
      "Epoch 52, CIFAR-10 Batch 1:  Loss: 0.6737438440322876  Accuracy: 0.7749999761581421\n",
      "Epoch 52, CIFAR-10 Batch 2:  Loss: 0.634798526763916  Accuracy: 0.8499999642372131\n",
      "Epoch 52, CIFAR-10 Batch 3:  Loss: 0.5383480787277222  Accuracy: 0.8499999642372131\n",
      "Epoch 52, CIFAR-10 Batch 4:  Loss: 0.61073899269104  Accuracy: 0.824999988079071\n",
      "Epoch 52, CIFAR-10 Batch 5:  Loss: 0.5232391357421875  Accuracy: 0.875\n",
      "Epoch 53, CIFAR-10 Batch 1:  Loss: 0.6572322845458984  Accuracy: 0.7749999761581421\n",
      "Epoch 53, CIFAR-10 Batch 2:  Loss: 0.5918306112289429  Accuracy: 0.875\n",
      "Epoch 53, CIFAR-10 Batch 3:  Loss: 0.4984568953514099  Accuracy: 0.875\n",
      "Epoch 53, CIFAR-10 Batch 4:  Loss: 0.567333459854126  Accuracy: 0.7749999761581421\n",
      "Epoch 53, CIFAR-10 Batch 5:  Loss: 0.5955728888511658  Accuracy: 0.8500000238418579\n",
      "Epoch 54, CIFAR-10 Batch 1:  Loss: 0.6198824644088745  Accuracy: 0.8250000476837158\n",
      "Epoch 54, CIFAR-10 Batch 2:  Loss: 0.5972663164138794  Accuracy: 0.8499999642372131\n",
      "Epoch 54, CIFAR-10 Batch 3:  Loss: 0.545509397983551  Accuracy: 0.8500000238418579\n",
      "Epoch 54, CIFAR-10 Batch 4:  Loss: 0.637814998626709  Accuracy: 0.75\n",
      "Epoch 54, CIFAR-10 Batch 5:  Loss: 0.5649527311325073  Accuracy: 0.8500000238418579\n",
      "Epoch 55, CIFAR-10 Batch 1:  Loss: 0.5868768095970154  Accuracy: 0.8250000476837158\n",
      "Epoch 55, CIFAR-10 Batch 2:  Loss: 0.5554423332214355  Accuracy: 0.8500000238418579\n",
      "Epoch 55, CIFAR-10 Batch 3:  Loss: 0.5205017328262329  Accuracy: 0.824999988079071\n",
      "Epoch 55, CIFAR-10 Batch 4:  Loss: 0.5814539194107056  Accuracy: 0.800000011920929\n",
      "Epoch 55, CIFAR-10 Batch 5:  Loss: 0.5816644430160522  Accuracy: 0.875\n",
      "Epoch 56, CIFAR-10 Batch 1:  Loss: 0.6117392182350159  Accuracy: 0.7999999523162842\n",
      "Epoch 56, CIFAR-10 Batch 2:  Loss: 0.5659514665603638  Accuracy: 0.875\n",
      "Epoch 56, CIFAR-10 Batch 3:  Loss: 0.5546659231185913  Accuracy: 0.875\n",
      "Epoch 56, CIFAR-10 Batch 4:  Loss: 0.5823464393615723  Accuracy: 0.8500000238418579\n",
      "Epoch 56, CIFAR-10 Batch 5:  Loss: 0.6195489168167114  Accuracy: 0.875\n",
      "Epoch 57, CIFAR-10 Batch 1:  Loss: 0.6554155945777893  Accuracy: 0.7999999523162842\n",
      "Epoch 57, CIFAR-10 Batch 2:  Loss: 0.5714291334152222  Accuracy: 0.800000011920929\n",
      "Epoch 57, CIFAR-10 Batch 3:  Loss: 0.514080286026001  Accuracy: 0.925000011920929\n",
      "Epoch 57, CIFAR-10 Batch 4:  Loss: 0.5897172689437866  Accuracy: 0.75\n",
      "Epoch 57, CIFAR-10 Batch 5:  Loss: 0.5460026264190674  Accuracy: 0.875\n",
      "Epoch 58, CIFAR-10 Batch 1:  Loss: 0.554981529712677  Accuracy: 0.7999999523162842\n",
      "Epoch 58, CIFAR-10 Batch 2:  Loss: 0.5634796619415283  Accuracy: 0.8999999761581421\n",
      "Epoch 58, CIFAR-10 Batch 3:  Loss: 0.49345600605010986  Accuracy: 0.8750000596046448\n",
      "Epoch 58, CIFAR-10 Batch 4:  Loss: 0.6373656988143921  Accuracy: 0.75\n",
      "Epoch 58, CIFAR-10 Batch 5:  Loss: 0.5355686545372009  Accuracy: 0.8500000238418579\n",
      "Epoch 59, CIFAR-10 Batch 1:  Loss: 0.5922667384147644  Accuracy: 0.7999999523162842\n",
      "Epoch 59, CIFAR-10 Batch 2:  Loss: 0.6263180375099182  Accuracy: 0.800000011920929\n",
      "Epoch 59, CIFAR-10 Batch 3:  Loss: 0.46471068263053894  Accuracy: 0.9000000357627869\n",
      "Epoch 59, CIFAR-10 Batch 4:  Loss: 0.5869492292404175  Accuracy: 0.75\n",
      "Epoch 59, CIFAR-10 Batch 5:  Loss: 0.5222798585891724  Accuracy: 0.875\n",
      "Epoch 60, CIFAR-10 Batch 1:  Loss: 0.5789551734924316  Accuracy: 0.7999999523162842\n",
      "Epoch 60, CIFAR-10 Batch 2:  Loss: 0.5836320519447327  Accuracy: 0.8500000238418579\n",
      "Epoch 60, CIFAR-10 Batch 3:  Loss: 0.4980255365371704  Accuracy: 0.925000011920929\n",
      "Epoch 60, CIFAR-10 Batch 4:  Loss: 0.6093240976333618  Accuracy: 0.7749999761581421\n",
      "Epoch 60, CIFAR-10 Batch 5:  Loss: 0.5462216138839722  Accuracy: 0.875\n",
      "Epoch 61, CIFAR-10 Batch 1:  Loss: 0.5797140598297119  Accuracy: 0.824999988079071\n",
      "Epoch 61, CIFAR-10 Batch 2:  Loss: 0.5497565269470215  Accuracy: 0.8750000596046448\n",
      "Epoch 61, CIFAR-10 Batch 3:  Loss: 0.5036051273345947  Accuracy: 0.9000000357627869\n",
      "Epoch 61, CIFAR-10 Batch 4:  Loss: 0.5273306369781494  Accuracy: 0.8250000476837158\n",
      "Epoch 61, CIFAR-10 Batch 5:  Loss: 0.4988590180873871  Accuracy: 0.875\n",
      "Epoch 62, CIFAR-10 Batch 1:  Loss: 0.5820245146751404  Accuracy: 0.7999999523162842\n",
      "Epoch 62, CIFAR-10 Batch 2:  Loss: 0.5714734792709351  Accuracy: 0.875\n",
      "Epoch 62, CIFAR-10 Batch 3:  Loss: 0.47786664962768555  Accuracy: 0.925000011920929\n",
      "Epoch 62, CIFAR-10 Batch 4:  Loss: 0.5552741885185242  Accuracy: 0.800000011920929\n",
      "Epoch 62, CIFAR-10 Batch 5:  Loss: 0.49824488162994385  Accuracy: 0.875\n",
      "Epoch 63, CIFAR-10 Batch 1:  Loss: 0.6300913691520691  Accuracy: 0.7999999523162842\n",
      "Epoch 63, CIFAR-10 Batch 2:  Loss: 0.5392513871192932  Accuracy: 0.8750000596046448\n",
      "Epoch 63, CIFAR-10 Batch 3:  Loss: 0.4614351689815521  Accuracy: 0.949999988079071\n",
      "Epoch 63, CIFAR-10 Batch 4:  Loss: 0.5560354590415955  Accuracy: 0.8500000238418579\n",
      "Epoch 63, CIFAR-10 Batch 5:  Loss: 0.5164194107055664  Accuracy: 0.875\n",
      "Epoch 64, CIFAR-10 Batch 1:  Loss: 0.6093074679374695  Accuracy: 0.8250000476837158\n",
      "Epoch 64, CIFAR-10 Batch 2:  Loss: 0.5433090329170227  Accuracy: 0.8500000834465027\n",
      "Epoch 64, CIFAR-10 Batch 3:  Loss: 0.47623181343078613  Accuracy: 0.9000000357627869\n",
      "Epoch 64, CIFAR-10 Batch 4:  Loss: 0.5456979274749756  Accuracy: 0.7749999761581421\n",
      "Epoch 64, CIFAR-10 Batch 5:  Loss: 0.49138951301574707  Accuracy: 0.8999999761581421\n",
      "Epoch 65, CIFAR-10 Batch 1:  Loss: 0.5517524480819702  Accuracy: 0.8250000476837158\n",
      "Epoch 65, CIFAR-10 Batch 2:  Loss: 0.5013831853866577  Accuracy: 0.875\n",
      "Epoch 65, CIFAR-10 Batch 3:  Loss: 0.4740610718727112  Accuracy: 0.9000000357627869\n",
      "Epoch 65, CIFAR-10 Batch 4:  Loss: 0.5567876696586609  Accuracy: 0.800000011920929\n",
      "Epoch 65, CIFAR-10 Batch 5:  Loss: 0.49834921956062317  Accuracy: 0.8500000238418579\n",
      "Epoch 66, CIFAR-10 Batch 1:  Loss: 0.5776047110557556  Accuracy: 0.7999999523162842\n",
      "Epoch 66, CIFAR-10 Batch 2:  Loss: 0.5216009616851807  Accuracy: 0.824999988079071\n",
      "Epoch 66, CIFAR-10 Batch 3:  Loss: 0.4869041442871094  Accuracy: 0.8750000596046448\n",
      "Epoch 66, CIFAR-10 Batch 4:  Loss: 0.5470088124275208  Accuracy: 0.800000011920929\n",
      "Epoch 66, CIFAR-10 Batch 5:  Loss: 0.5117713212966919  Accuracy: 0.8500000238418579\n",
      "Epoch 67, CIFAR-10 Batch 1:  Loss: 0.5605161190032959  Accuracy: 0.7999999523162842\n",
      "Epoch 67, CIFAR-10 Batch 2:  Loss: 0.5918833613395691  Accuracy: 0.875\n",
      "Epoch 67, CIFAR-10 Batch 3:  Loss: 0.4717021882534027  Accuracy: 0.949999988079071\n",
      "Epoch 67, CIFAR-10 Batch 4:  Loss: 0.56577467918396  Accuracy: 0.8000000715255737\n",
      "Epoch 67, CIFAR-10 Batch 5:  Loss: 0.4979410171508789  Accuracy: 0.875\n",
      "Epoch 68, CIFAR-10 Batch 1:  Loss: 0.5665677785873413  Accuracy: 0.8250000476837158\n",
      "Epoch 68, CIFAR-10 Batch 2:  Loss: 0.5256177186965942  Accuracy: 0.824999988079071\n",
      "Epoch 68, CIFAR-10 Batch 3:  Loss: 0.4334830939769745  Accuracy: 0.949999988079071\n",
      "Epoch 68, CIFAR-10 Batch 4:  Loss: 0.5656387209892273  Accuracy: 0.7999999523162842\n",
      "Epoch 68, CIFAR-10 Batch 5:  Loss: 0.4603649079799652  Accuracy: 0.875\n",
      "Epoch 69, CIFAR-10 Batch 1:  Loss: 0.5836236476898193  Accuracy: 0.7999999523162842\n",
      "Epoch 69, CIFAR-10 Batch 2:  Loss: 0.528413712978363  Accuracy: 0.8500000238418579\n",
      "Epoch 69, CIFAR-10 Batch 3:  Loss: 0.4627034068107605  Accuracy: 0.925000011920929\n",
      "Epoch 69, CIFAR-10 Batch 4:  Loss: 0.5561561584472656  Accuracy: 0.800000011920929\n",
      "Epoch 69, CIFAR-10 Batch 5:  Loss: 0.5071883797645569  Accuracy: 0.875\n",
      "Epoch 70, CIFAR-10 Batch 1:  Loss: 0.5803813338279724  Accuracy: 0.7999999523162842\n",
      "Epoch 70, CIFAR-10 Batch 2:  Loss: 0.5344058275222778  Accuracy: 0.8750000596046448\n",
      "Epoch 70, CIFAR-10 Batch 3:  Loss: 0.4588455557823181  Accuracy: 0.9000000357627869\n",
      "Epoch 70, CIFAR-10 Batch 4:  Loss: 0.5063591003417969  Accuracy: 0.824999988079071\n",
      "Epoch 70, CIFAR-10 Batch 5:  Loss: 0.49279695749282837  Accuracy: 0.875\n",
      "Epoch 71, CIFAR-10 Batch 1:  Loss: 0.555836021900177  Accuracy: 0.7999999523162842\n",
      "Epoch 71, CIFAR-10 Batch 2:  Loss: 0.5227870345115662  Accuracy: 0.8500000238418579\n",
      "Epoch 71, CIFAR-10 Batch 3:  Loss: 0.45415782928466797  Accuracy: 0.9000000357627869\n",
      "Epoch 71, CIFAR-10 Batch 4:  Loss: 0.5175523161888123  Accuracy: 0.7750000357627869\n",
      "Epoch 71, CIFAR-10 Batch 5:  Loss: 0.46856483817100525  Accuracy: 0.875\n",
      "Epoch 72, CIFAR-10 Batch 1:  Loss: 0.5601439476013184  Accuracy: 0.8750000596046448\n",
      "Epoch 72, CIFAR-10 Batch 2:  Loss: 0.5010230541229248  Accuracy: 0.9000000357627869\n",
      "Epoch 72, CIFAR-10 Batch 3:  Loss: 0.47539979219436646  Accuracy: 0.9000000357627869\n",
      "Epoch 72, CIFAR-10 Batch 4:  Loss: 0.5252974033355713  Accuracy: 0.7999999523162842\n",
      "Epoch 72, CIFAR-10 Batch 5:  Loss: 0.47053244709968567  Accuracy: 0.9000000357627869\n",
      "Epoch 73, CIFAR-10 Batch 1:  Loss: 0.6395816802978516  Accuracy: 0.800000011920929\n",
      "Epoch 73, CIFAR-10 Batch 2:  Loss: 0.4915643334388733  Accuracy: 0.925000011920929\n",
      "Epoch 73, CIFAR-10 Batch 3:  Loss: 0.40615028142929077  Accuracy: 0.949999988079071\n",
      "Epoch 73, CIFAR-10 Batch 4:  Loss: 0.520693302154541  Accuracy: 0.7749999761581421\n",
      "Epoch 73, CIFAR-10 Batch 5:  Loss: 0.4773341715335846  Accuracy: 0.8999999761581421\n",
      "Epoch 74, CIFAR-10 Batch 1:  Loss: 0.527849555015564  Accuracy: 0.8250000476837158\n",
      "Epoch 74, CIFAR-10 Batch 2:  Loss: 0.513948380947113  Accuracy: 0.875\n",
      "Epoch 74, CIFAR-10 Batch 3:  Loss: 0.3852476477622986  Accuracy: 0.949999988079071\n",
      "Epoch 74, CIFAR-10 Batch 4:  Loss: 0.4873175024986267  Accuracy: 0.8500000238418579\n",
      "Epoch 74, CIFAR-10 Batch 5:  Loss: 0.48271214962005615  Accuracy: 0.9000000357627869\n",
      "Epoch 75, CIFAR-10 Batch 1:  Loss: 0.5627638697624207  Accuracy: 0.7999999523162842\n",
      "Epoch 75, CIFAR-10 Batch 2:  Loss: 0.5359938144683838  Accuracy: 0.8750000596046448\n",
      "Epoch 75, CIFAR-10 Batch 3:  Loss: 0.45509999990463257  Accuracy: 0.949999988079071\n",
      "Epoch 75, CIFAR-10 Batch 4:  Loss: 0.48172295093536377  Accuracy: 0.8250000476837158\n",
      "Epoch 75, CIFAR-10 Batch 5:  Loss: 0.45888713002204895  Accuracy: 0.8999999761581421\n",
      "Epoch 76, CIFAR-10 Batch 1:  Loss: 0.5367531180381775  Accuracy: 0.8250000476837158\n",
      "Epoch 76, CIFAR-10 Batch 2:  Loss: 0.4797091484069824  Accuracy: 0.9000000357627869\n",
      "Epoch 76, CIFAR-10 Batch 3:  Loss: 0.4335055649280548  Accuracy: 0.925000011920929\n",
      "Epoch 76, CIFAR-10 Batch 4:  Loss: 0.4860774278640747  Accuracy: 0.875\n",
      "Epoch 76, CIFAR-10 Batch 5:  Loss: 0.46437644958496094  Accuracy: 0.8750000596046448\n",
      "Epoch 77, CIFAR-10 Batch 1:  Loss: 0.5350688099861145  Accuracy: 0.824999988079071\n",
      "Epoch 77, CIFAR-10 Batch 2:  Loss: 0.49346667528152466  Accuracy: 0.9000000357627869\n",
      "Epoch 77, CIFAR-10 Batch 3:  Loss: 0.41470903158187866  Accuracy: 0.9749999642372131\n",
      "Epoch 77, CIFAR-10 Batch 4:  Loss: 0.5534900426864624  Accuracy: 0.7749999761581421\n",
      "Epoch 77, CIFAR-10 Batch 5:  Loss: 0.3994062840938568  Accuracy: 0.925000011920929\n",
      "Epoch 78, CIFAR-10 Batch 1:  Loss: 0.4932031035423279  Accuracy: 0.8500000238418579\n",
      "Epoch 78, CIFAR-10 Batch 2:  Loss: 0.5124200582504272  Accuracy: 0.9000000357627869\n",
      "Epoch 78, CIFAR-10 Batch 3:  Loss: 0.4132407009601593  Accuracy: 0.925000011920929\n",
      "Epoch 78, CIFAR-10 Batch 4:  Loss: 0.49130064249038696  Accuracy: 0.8250000476837158\n",
      "Epoch 78, CIFAR-10 Batch 5:  Loss: 0.4320776164531708  Accuracy: 0.8999999761581421\n",
      "Epoch 79, CIFAR-10 Batch 1:  Loss: 0.52849942445755  Accuracy: 0.7999999523162842\n",
      "Epoch 79, CIFAR-10 Batch 2:  Loss: 0.4536125659942627  Accuracy: 0.9000000357627869\n",
      "Epoch 79, CIFAR-10 Batch 3:  Loss: 0.4199475646018982  Accuracy: 0.949999988079071\n",
      "Epoch 79, CIFAR-10 Batch 4:  Loss: 0.49114957451820374  Accuracy: 0.8250000476837158\n",
      "Epoch 79, CIFAR-10 Batch 5:  Loss: 0.44638580083847046  Accuracy: 0.8999999761581421\n",
      "Epoch 80, CIFAR-10 Batch 1:  Loss: 0.5138638019561768  Accuracy: 0.8250000476837158\n",
      "Epoch 80, CIFAR-10 Batch 2:  Loss: 0.4713696241378784  Accuracy: 0.925000011920929\n",
      "Epoch 80, CIFAR-10 Batch 3:  Loss: 0.3991614580154419  Accuracy: 0.925000011920929\n",
      "Epoch 80, CIFAR-10 Batch 4:  Loss: 0.4725037217140198  Accuracy: 0.8500000238418579\n",
      "Epoch 80, CIFAR-10 Batch 5:  Loss: 0.4475167691707611  Accuracy: 0.875\n",
      "Epoch 81, CIFAR-10 Batch 1:  Loss: 0.5074122548103333  Accuracy: 0.875\n",
      "Epoch 81, CIFAR-10 Batch 2:  Loss: 0.5103331208229065  Accuracy: 0.8750000596046448\n",
      "Epoch 81, CIFAR-10 Batch 3:  Loss: 0.43124815821647644  Accuracy: 0.925000011920929\n",
      "Epoch 81, CIFAR-10 Batch 4:  Loss: 0.4807467460632324  Accuracy: 0.8250000476837158\n",
      "Epoch 81, CIFAR-10 Batch 5:  Loss: 0.4688108563423157  Accuracy: 0.9000000357627869\n",
      "Epoch 82, CIFAR-10 Batch 1:  Loss: 0.5268018245697021  Accuracy: 0.7749999761581421\n",
      "Epoch 82, CIFAR-10 Batch 2:  Loss: 0.46008867025375366  Accuracy: 0.8500000238418579\n",
      "Epoch 82, CIFAR-10 Batch 3:  Loss: 0.4082874059677124  Accuracy: 0.949999988079071\n",
      "Epoch 82, CIFAR-10 Batch 4:  Loss: 0.43556106090545654  Accuracy: 0.9000000357627869\n",
      "Epoch 82, CIFAR-10 Batch 5:  Loss: 0.4480403661727905  Accuracy: 0.8999999761581421\n",
      "Epoch 83, CIFAR-10 Batch 1:  Loss: 0.5017156600952148  Accuracy: 0.8500000238418579\n",
      "Epoch 83, CIFAR-10 Batch 2:  Loss: 0.4532700777053833  Accuracy: 0.925000011920929\n",
      "Epoch 83, CIFAR-10 Batch 3:  Loss: 0.41962140798568726  Accuracy: 0.8750000596046448\n",
      "Epoch 83, CIFAR-10 Batch 4:  Loss: 0.4509429931640625  Accuracy: 0.824999988079071\n",
      "Epoch 83, CIFAR-10 Batch 5:  Loss: 0.4453253448009491  Accuracy: 0.9000000357627869\n",
      "Epoch 84, CIFAR-10 Batch 1:  Loss: 0.5327025651931763  Accuracy: 0.875\n",
      "Epoch 84, CIFAR-10 Batch 2:  Loss: 0.4434005618095398  Accuracy: 0.925000011920929\n",
      "Epoch 84, CIFAR-10 Batch 3:  Loss: 0.445281445980072  Accuracy: 0.949999988079071\n",
      "Epoch 84, CIFAR-10 Batch 4:  Loss: 0.4704941213130951  Accuracy: 0.8250000476837158\n",
      "Epoch 84, CIFAR-10 Batch 5:  Loss: 0.4893897771835327  Accuracy: 0.9000000357627869\n",
      "Epoch 85, CIFAR-10 Batch 1:  Loss: 0.47670358419418335  Accuracy: 0.875\n",
      "Epoch 85, CIFAR-10 Batch 2:  Loss: 0.4707574248313904  Accuracy: 0.925000011920929\n",
      "Epoch 85, CIFAR-10 Batch 3:  Loss: 0.42232057452201843  Accuracy: 0.925000011920929\n",
      "Epoch 85, CIFAR-10 Batch 4:  Loss: 0.44672122597694397  Accuracy: 0.8750000596046448\n",
      "Epoch 85, CIFAR-10 Batch 5:  Loss: 0.4530647397041321  Accuracy: 0.925000011920929\n",
      "Epoch 86, CIFAR-10 Batch 1:  Loss: 0.5361612439155579  Accuracy: 0.824999988079071\n",
      "Epoch 86, CIFAR-10 Batch 2:  Loss: 0.4819130301475525  Accuracy: 0.925000011920929\n",
      "Epoch 86, CIFAR-10 Batch 3:  Loss: 0.40725865960121155  Accuracy: 0.925000011920929\n",
      "Epoch 86, CIFAR-10 Batch 4:  Loss: 0.4360653758049011  Accuracy: 0.925000011920929\n",
      "Epoch 86, CIFAR-10 Batch 5:  Loss: 0.4354846477508545  Accuracy: 0.925000011920929\n",
      "Epoch 87, CIFAR-10 Batch 1:  Loss: 0.585614800453186  Accuracy: 0.8000000715255737\n",
      "Epoch 87, CIFAR-10 Batch 2:  Loss: 0.47769877314567566  Accuracy: 0.9000000357627869\n",
      "Epoch 87, CIFAR-10 Batch 3:  Loss: 0.42399775981903076  Accuracy: 0.8750000596046448\n",
      "Epoch 87, CIFAR-10 Batch 4:  Loss: 0.4432288408279419  Accuracy: 0.9000000357627869\n",
      "Epoch 87, CIFAR-10 Batch 5:  Loss: 0.4361962676048279  Accuracy: 0.9000000357627869\n",
      "Epoch 88, CIFAR-10 Batch 1:  Loss: 0.4948970377445221  Accuracy: 0.8500000238418579\n",
      "Epoch 88, CIFAR-10 Batch 2:  Loss: 0.45406121015548706  Accuracy: 0.8750000596046448\n",
      "Epoch 88, CIFAR-10 Batch 3:  Loss: 0.42105138301849365  Accuracy: 0.925000011920929\n",
      "Epoch 88, CIFAR-10 Batch 4:  Loss: 0.4741789400577545  Accuracy: 0.8499999642372131\n",
      "Epoch 88, CIFAR-10 Batch 5:  Loss: 0.4368743300437927  Accuracy: 0.925000011920929\n",
      "Epoch 89, CIFAR-10 Batch 1:  Loss: 0.5003077387809753  Accuracy: 0.7999999523162842\n",
      "Epoch 89, CIFAR-10 Batch 2:  Loss: 0.45168381929397583  Accuracy: 0.925000011920929\n",
      "Epoch 89, CIFAR-10 Batch 3:  Loss: 0.4417693614959717  Accuracy: 0.925000011920929\n",
      "Epoch 89, CIFAR-10 Batch 4:  Loss: 0.4557325541973114  Accuracy: 0.824999988079071\n",
      "Epoch 89, CIFAR-10 Batch 5:  Loss: 0.4122638702392578  Accuracy: 0.875\n",
      "Epoch 90, CIFAR-10 Batch 1:  Loss: 0.5037797689437866  Accuracy: 0.8500000238418579\n",
      "Epoch 90, CIFAR-10 Batch 2:  Loss: 0.4668366014957428  Accuracy: 0.925000011920929\n",
      "Epoch 90, CIFAR-10 Batch 3:  Loss: 0.4012939929962158  Accuracy: 0.9749999642372131\n",
      "Epoch 90, CIFAR-10 Batch 4:  Loss: 0.5334030985832214  Accuracy: 0.824999988079071\n",
      "Epoch 90, CIFAR-10 Batch 5:  Loss: 0.427778959274292  Accuracy: 0.875\n",
      "Epoch 91, CIFAR-10 Batch 1:  Loss: 0.47177428007125854  Accuracy: 0.8500000238418579\n",
      "Epoch 91, CIFAR-10 Batch 2:  Loss: 0.44412776827812195  Accuracy: 0.925000011920929\n",
      "Epoch 91, CIFAR-10 Batch 3:  Loss: 0.433327853679657  Accuracy: 0.925000011920929\n",
      "Epoch 91, CIFAR-10 Batch 4:  Loss: 0.46019139885902405  Accuracy: 0.875\n",
      "Epoch 91, CIFAR-10 Batch 5:  Loss: 0.40195217728614807  Accuracy: 0.925000011920929\n",
      "Epoch 92, CIFAR-10 Batch 1:  Loss: 0.5016571879386902  Accuracy: 0.875\n",
      "Epoch 92, CIFAR-10 Batch 2:  Loss: 0.4719041585922241  Accuracy: 0.8750000596046448\n",
      "Epoch 92, CIFAR-10 Batch 3:  Loss: 0.40708351135253906  Accuracy: 0.949999988079071\n",
      "Epoch 92, CIFAR-10 Batch 4:  Loss: 0.4350295662879944  Accuracy: 0.9000000357627869\n",
      "Epoch 92, CIFAR-10 Batch 5:  Loss: 0.43782514333724976  Accuracy: 0.9000000357627869\n",
      "Epoch 93, CIFAR-10 Batch 1:  Loss: 0.4755593538284302  Accuracy: 0.8500000238418579\n",
      "Epoch 93, CIFAR-10 Batch 2:  Loss: 0.46002277731895447  Accuracy: 0.9000000357627869\n",
      "Epoch 93, CIFAR-10 Batch 3:  Loss: 0.43686342239379883  Accuracy: 0.925000011920929\n",
      "Epoch 93, CIFAR-10 Batch 4:  Loss: 0.4528343081474304  Accuracy: 0.8250000476837158\n",
      "Epoch 93, CIFAR-10 Batch 5:  Loss: 0.4422810673713684  Accuracy: 0.949999988079071\n",
      "Epoch 94, CIFAR-10 Batch 1:  Loss: 0.4636343717575073  Accuracy: 0.824999988079071\n",
      "Epoch 94, CIFAR-10 Batch 2:  Loss: 0.4477485418319702  Accuracy: 0.8750000596046448\n",
      "Epoch 94, CIFAR-10 Batch 3:  Loss: 0.4259894788265228  Accuracy: 0.949999988079071\n",
      "Epoch 94, CIFAR-10 Batch 4:  Loss: 0.3997395932674408  Accuracy: 0.8750000596046448\n",
      "Epoch 94, CIFAR-10 Batch 5:  Loss: 0.44356387853622437  Accuracy: 0.8999999761581421\n",
      "Epoch 95, CIFAR-10 Batch 1:  Loss: 0.4360564649105072  Accuracy: 0.8750000596046448\n",
      "Epoch 95, CIFAR-10 Batch 2:  Loss: 0.43425658345222473  Accuracy: 0.925000011920929\n",
      "Epoch 95, CIFAR-10 Batch 3:  Loss: 0.39660847187042236  Accuracy: 0.9749999642372131\n",
      "Epoch 95, CIFAR-10 Batch 4:  Loss: 0.41853058338165283  Accuracy: 0.925000011920929\n",
      "Epoch 95, CIFAR-10 Batch 5:  Loss: 0.42736130952835083  Accuracy: 0.925000011920929\n",
      "Epoch 96, CIFAR-10 Batch 1:  Loss: 0.4284200668334961  Accuracy: 0.9000000357627869\n",
      "Epoch 96, CIFAR-10 Batch 2:  Loss: 0.4133313000202179  Accuracy: 0.925000011920929\n",
      "Epoch 96, CIFAR-10 Batch 3:  Loss: 0.3990733325481415  Accuracy: 0.9749999642372131\n",
      "Epoch 96, CIFAR-10 Batch 4:  Loss: 0.44739168882369995  Accuracy: 0.8750000596046448\n",
      "Epoch 96, CIFAR-10 Batch 5:  Loss: 0.42141634225845337  Accuracy: 0.925000011920929\n",
      "Epoch 97, CIFAR-10 Batch 1:  Loss: 0.46514585614204407  Accuracy: 0.875\n",
      "Epoch 97, CIFAR-10 Batch 2:  Loss: 0.4361332356929779  Accuracy: 0.9000000357627869\n",
      "Epoch 97, CIFAR-10 Batch 3:  Loss: 0.3624825179576874  Accuracy: 0.925000011920929\n",
      "Epoch 97, CIFAR-10 Batch 4:  Loss: 0.44200295209884644  Accuracy: 0.8250000476837158\n",
      "Epoch 97, CIFAR-10 Batch 5:  Loss: 0.41490626335144043  Accuracy: 0.949999988079071\n",
      "Epoch 98, CIFAR-10 Batch 1:  Loss: 0.44696712493896484  Accuracy: 0.8500000238418579\n",
      "Epoch 98, CIFAR-10 Batch 2:  Loss: 0.4214779734611511  Accuracy: 0.925000011920929\n",
      "Epoch 98, CIFAR-10 Batch 3:  Loss: 0.4066413938999176  Accuracy: 0.949999988079071\n",
      "Epoch 98, CIFAR-10 Batch 4:  Loss: 0.4176161587238312  Accuracy: 0.9000000357627869\n",
      "Epoch 98, CIFAR-10 Batch 5:  Loss: 0.43653205037117004  Accuracy: 0.8999999761581421\n",
      "Epoch 99, CIFAR-10 Batch 1:  Loss: 0.4674310088157654  Accuracy: 0.8750000596046448\n",
      "Epoch 99, CIFAR-10 Batch 2:  Loss: 0.4181707501411438  Accuracy: 0.925000011920929\n",
      "Epoch 99, CIFAR-10 Batch 3:  Loss: 0.42220258712768555  Accuracy: 0.925000011920929\n",
      "Epoch 99, CIFAR-10 Batch 4:  Loss: 0.45675647258758545  Accuracy: 0.8500000238418579\n",
      "Epoch 99, CIFAR-10 Batch 5:  Loss: 0.4327235221862793  Accuracy: 0.949999988079071\n",
      "Epoch 100, CIFAR-10 Batch 1:  Loss: 0.444960355758667  Accuracy: 0.8750000596046448\n",
      "Epoch 100, CIFAR-10 Batch 2:  Loss: 0.4240715503692627  Accuracy: 0.8750000596046448\n",
      "Epoch 100, CIFAR-10 Batch 3:  Loss: 0.39079946279525757  Accuracy: 0.9749999642372131\n",
      "Epoch 100, CIFAR-10 Batch 4:  Loss: 0.44300034642219543  Accuracy: 0.8500000238418579\n",
      "Epoch 100, CIFAR-10 Batch 5:  Loss: 0.44980841875076294  Accuracy: 0.8999999761581421\n"
     ]
    }
   ],
   "source": [
    "\"\"\"\n",
    "DON'T MODIFY ANYTHING IN THIS CELL\n",
    "\"\"\"\n",
    "save_model_path = './image_classification'\n",
    "\n",
    "print('Training...')\n",
    "with tf.Session() as sess:\n",
    "    # Initializing the variables\n",
    "    sess.run(tf.global_variables_initializer())\n",
    "    \n",
    "    # Training cycle\n",
    "    for epoch in range(epochs):\n",
    "        # Loop over all batches\n",
    "        n_batches = 5\n",
    "        for batch_i in range(1, n_batches + 1):\n",
    "            for batch_features, batch_labels in helper.load_preprocess_training_batch(batch_i, batch_size):\n",
    "                train_neural_network(sess, optimizer, keep_probability, batch_features, batch_labels)\n",
    "            print('Epoch {:>2}, CIFAR-10 Batch {}:  '.format(epoch + 1, batch_i), end='')\n",
    "            print_stats(sess, batch_features, batch_labels, cost, accuracy)\n",
    "            \n",
    "    # Save Model\n",
    "    saver = tf.train.Saver()\n",
    "    save_path = saver.save(sess, save_model_path)"
   ]
  },
  {
   "cell_type": "markdown",
   "metadata": {
    "deletable": true,
    "editable": true
   },
   "source": [
    "# Checkpoint\n",
    "The model has been saved to disk.\n",
    "## Test Model\n",
    "Test your model against the test dataset.  This will be your final accuracy. You should have an accuracy greater than 50%. If you don't, keep tweaking the model architecture and parameters."
   ]
  },
  {
   "cell_type": "code",
   "execution_count": 23,
   "metadata": {
    "collapsed": false,
    "deletable": true,
    "editable": true
   },
   "outputs": [
    {
     "name": "stdout",
     "output_type": "stream",
     "text": [
      "Testing Accuracy: 0.7051028481012658\n",
      "\n"
     ]
    },
    {
     "data": {
      "image/png": "[encoded data removed]",
      "text/plain": [
       "<matplotlib.figure.Figure at 0x7f16dc0eb4a8>"
      ]
     },
     "metadata": {
      "image/png": {
       "height": 319,
       "width": 355
      }
     },
     "output_type": "display_data"
    }
   ],
   "source": [
    "\"\"\"\n",
    "DON'T MODIFY ANYTHING IN THIS CELL\n",
    "\"\"\"\n",
    "%matplotlib inline\n",
    "%config InlineBackend.figure_format = 'retina'\n",
    "\n",
    "import tensorflow as tf\n",
    "import pickle\n",
    "import helper\n",
    "import random\n",
    "\n",
    "# Set batch size if not already set\n",
    "try:\n",
    "    if batch_size:\n",
    "        pass\n",
    "except NameError:\n",
    "    batch_size = 64\n",
    "\n",
    "save_model_path = './image_classification'\n",
    "n_samples = 4\n",
    "top_n_predictions = 3\n",
    "\n",
    "def test_model():\n",
    "    \"\"\"\n",
    "    Test the saved model against the test dataset\n",
    "    \"\"\"\n",
    "\n",
    "    test_features, test_labels = pickle.load(open('preprocess_test.p', mode='rb'))\n",
    "    loaded_graph = tf.Graph()\n",
    "\n",
    "    with tf.Session(graph=loaded_graph) as sess:\n",
    "        # Load model\n",
    "        loader = tf.train.import_meta_graph(save_model_path + '.meta')\n",
    "        loader.restore(sess, save_model_path)\n",
    "\n",
    "        # Get Tensors from loaded model\n",
    "        loaded_x = loaded_graph.get_tensor_by_name('x:0')\n",
    "        loaded_y = loaded_graph.get_tensor_by_name('y:0')\n",
    "        loaded_keep_prob = loaded_graph.get_tensor_by_name('keep_prob:0')\n",
    "        loaded_logits = loaded_graph.get_tensor_by_name('logits:0')\n",
    "        loaded_acc = loaded_graph.get_tensor_by_name('accuracy:0')\n",
    "        \n",
    "        # Get accuracy in batches for memory limitations\n",
    "        test_batch_acc_total = 0\n",
    "        test_batch_count = 0\n",
    "        \n",
    "        for test_feature_batch, test_label_batch in helper.batch_features_labels(test_features, test_labels, batch_size):\n",
    "            test_batch_acc_total += sess.run(\n",
    "                loaded_acc,\n",
    "                feed_dict={loaded_x: test_feature_batch, loaded_y: test_label_batch, loaded_keep_prob: 1.0})\n",
    "            test_batch_count += 1\n",
    "\n",
    "        print('Testing Accuracy: {}\\n'.format(test_batch_acc_total/test_batch_count))\n",
    "\n",
    "        # Print Random Samples\n",
    "        random_test_features, random_test_labels = tuple(zip(*random.sample(list(zip(test_features, test_labels)), n_samples)))\n",
    "        random_test_predictions = sess.run(\n",
    "            tf.nn.top_k(tf.nn.softmax(loaded_logits), top_n_predictions),\n",
    "            feed_dict={loaded_x: random_test_features, loaded_y: random_test_labels, loaded_keep_prob: 1.0})\n",
    "        helper.display_image_predictions(random_test_features, random_test_labels, random_test_predictions)\n",
    "\n",
    "\n",
    "test_model()"
   ]
  },
  {
   "cell_type": "markdown",
   "metadata": {
    "deletable": true,
    "editable": true
   },
   "source": [
    "## Why 50-80% Accuracy?\n",
    "You might be wondering why you can't get an accuracy any higher. First things first, 50% isn't bad for a simple CNN.  Pure guessing would get you 10% accuracy. However, you might notice people are getting scores [well above 80%](http://rodrigob.github.io/are_we_there_yet/build/classification_datasets_results.html#43494641522d3130).  That's because we haven't taught you all there is to know about neural networks. We still need to cover a few more techniques.\n",
    "## Submitting This Project\n",
    "When submitting this project, make sure to run all the cells before saving the notebook.  Save the notebook file as \"dlnd_image_classification.ipynb\" and save it as a HTML file under \"File\" -> \"Download as\".  Include the \"helper.py\" and \"problem_unittests.py\" files in your submission."
   ]
  }
 ],
 "metadata": {
  "kernelspec": {
   "display_name": "Python 3",
   "language": "python",
   "name": "python3"
  },
  "language_info": {
   "codemirror_mode": {
    "name": "ipython",
    "version": 3
   },
   "file_extension": ".py",
   "mimetype": "text/x-python",
   "name": "python",
   "nbconvert_exporter": "python",
   "pygments_lexer": "ipython3",
   "version": "3.5.2"
  },
  "widgets": {
   "state": {},
   "version": "1.1.2"
  }
 },
 "nbformat": 4,
 "nbformat_minor": 0
}
