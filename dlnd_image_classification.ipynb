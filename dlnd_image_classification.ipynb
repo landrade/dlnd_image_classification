{
 "cells": [
  {
   "cell_type": "markdown",
   "metadata": {
    "collapsed": true,
    "deletable": true,
    "editable": true
   },
   "source": [
    "# Image Classification\n",
    "In this project, you'll classify images from the [CIFAR-10 dataset](https://www.cs.toronto.edu/~kriz/cifar.html).  The dataset consists of airplanes, dogs, cats, and other objects. You'll preprocess the images, then train a convolutional neural network on all the samples. The images need to be normalized and the labels need to be one-hot encoded.  You'll get to apply what you learned and build a convolutional, max pooling, dropout, and fully connected layers.  At the end, you'll get to see your neural network's predictions on the sample images.\n",
    "## Get the Data\n",
    "Run the following cell to download the [CIFAR-10 dataset for python](https://www.cs.toronto.edu/~kriz/cifar-10-python.tar.gz)."
   ]
  },
  {
   "cell_type": "code",
   "execution_count": 1,
   "metadata": {
    "collapsed": false,
    "deletable": true,
    "editable": true
   },
   "outputs": [
    {
     "name": "stdout",
     "output_type": "stream",
     "text": [
      "All files found!\n"
     ]
    }
   ],
   "source": [
    "\"\"\"\n",
    "DON'T MODIFY ANYTHING IN THIS CELL THAT IS BELOW THIS LINE\n",
    "\"\"\"\n",
    "from urllib.request import urlretrieve\n",
    "from os.path import isfile, isdir\n",
    "from tqdm import tqdm\n",
    "import problem_unittests as tests\n",
    "import tarfile\n",
    "\n",
    "cifar10_dataset_folder_path = 'cifar-10-batches-py'\n",
    "\n",
    "# Use Floyd's cifar-10 dataset if present\n",
    "floyd_cifar10_location = '/input/cifar-10/python.tar.gz'\n",
    "if isfile(floyd_cifar10_location):\n",
    "    tar_gz_path = floyd_cifar10_location\n",
    "else:\n",
    "    tar_gz_path = 'cifar-10-python.tar.gz'\n",
    "\n",
    "class DLProgress(tqdm):\n",
    "    last_block = 0\n",
    "\n",
    "    def hook(self, block_num=1, block_size=1, total_size=None):\n",
    "        self.total = total_size\n",
    "        self.update((block_num - self.last_block) * block_size)\n",
    "        self.last_block = block_num\n",
    "\n",
    "if not isfile(tar_gz_path):\n",
    "    with DLProgress(unit='B', unit_scale=True, miniters=1, desc='CIFAR-10 Dataset') as pbar:\n",
    "        urlretrieve(\n",
    "            'https://www.cs.toronto.edu/~kriz/cifar-10-python.tar.gz',\n",
    "            tar_gz_path,\n",
    "            pbar.hook)\n",
    "\n",
    "if not isdir(cifar10_dataset_folder_path):\n",
    "    with tarfile.open(tar_gz_path) as tar:\n",
    "        tar.extractall()\n",
    "        tar.close()\n",
    "\n",
    "\n",
    "tests.test_folder_path(cifar10_dataset_folder_path)"
   ]
  },
  {
   "cell_type": "markdown",
   "metadata": {
    "deletable": true,
    "editable": true
   },
   "source": [
    "## Explore the Data\n",
    "The dataset is broken into batches to prevent your machine from running out of memory.  The CIFAR-10 dataset consists of 5 batches, named `data_batch_1`, `data_batch_2`, etc.. Each batch contains the labels and images that are one of the following:\n",
    "* airplane\n",
    "* automobile\n",
    "* bird\n",
    "* cat\n",
    "* deer\n",
    "* dog\n",
    "* frog\n",
    "* horse\n",
    "* ship\n",
    "* truck\n",
    "\n",
    "Understanding a dataset is part of making predictions on the data.  Play around with the code cell below by changing the `batch_id` and `sample_id`. The `batch_id` is the id for a batch (1-5). The `sample_id` is the id for a image and label pair in the batch.\n",
    "\n",
    "Ask yourself \"What are all possible labels?\", \"What is the range of values for the image data?\", \"Are the labels in order or random?\".  Answers to questions like these will help you preprocess the data and end up with better predictions."
   ]
  },
  {
   "cell_type": "code",
   "execution_count": 2,
   "metadata": {
    "collapsed": false,
    "deletable": true,
    "editable": true
   },
   "outputs": [
    {
     "name": "stdout",
     "output_type": "stream",
     "text": [
      "\n",
      "Stats of batch 1:\n",
      "Samples: 10000\n",
      "Label Counts: {0: 1005, 1: 974, 2: 1032, 3: 1016, 4: 999, 5: 937, 6: 1030, 7: 1001, 8: 1025, 9: 981}\n",
      "First 20 Labels: [6, 9, 9, 4, 1, 1, 2, 7, 8, 3, 4, 7, 7, 2, 9, 9, 9, 3, 2, 6]\n",
      "\n",
      "Example of Image 5:\n",
      "Image - Min Value: 0 Max Value: 252\n",
      "Image - Shape: (32, 32, 3)\n",
      "Label - Label Id: 1 Name: automobile\n"
     ]
    },
    {
     "data": {
      "image/png": "[encoded data removed]",
      "text/plain": [
       "<matplotlib.figure.Figure at 0x7f1142737400>"
      ]
     },
     "metadata": {
      "image/png": {
       "height": 250,
       "width": 253
      }
     },
     "output_type": "display_data"
    }
   ],
   "source": [
    "%matplotlib inline\n",
    "%config InlineBackend.figure_format = 'retina'\n",
    "\n",
    "import helper\n",
    "import numpy as np\n",
    "\n",
    "# Explore the dataset\n",
    "batch_id = 1\n",
    "sample_id = 5\n",
    "helper.display_stats(cifar10_dataset_folder_path, batch_id, sample_id)"
   ]
  },
  {
   "cell_type": "markdown",
   "metadata": {
    "deletable": true,
    "editable": true
   },
   "source": [
    "## Implement Preprocess Functions\n",
    "### Normalize\n",
    "In the cell below, implement the `normalize` function to take in image data, `x`, and return it as a normalized Numpy array. The values should be in the range of 0 to 1, inclusive.  The return object should be the same shape as `x`."
   ]
  },
  {
   "cell_type": "code",
   "execution_count": 3,
   "metadata": {
    "collapsed": false,
    "deletable": true,
    "editable": true
   },
   "outputs": [
    {
     "name": "stdout",
     "output_type": "stream",
     "text": [
      "Tests Passed\n"
     ]
    }
   ],
   "source": [
    "def normalize(x):\n",
    "    \"\"\"\n",
    "    Normalize a list of sample image data in the range of 0 to 1\n",
    "    : x: List of image data.  The image shape is (32, 32, 3)\n",
    "    : return: Numpy array of normalize data\n",
    "    \"\"\"\n",
    "    # TODO: Implement Function\n",
    "    return (x-x.min())/(x.max()-x.min())\n",
    "\n",
    "\n",
    "\"\"\"\n",
    "DON'T MODIFY ANYTHING IN THIS CELL THAT IS BELOW THIS LINE\n",
    "\"\"\"\n",
    "tests.test_normalize(normalize)"
   ]
  },
  {
   "cell_type": "markdown",
   "metadata": {
    "deletable": true,
    "editable": true
   },
   "source": [
    "### One-hot encode\n",
    "Just like the previous code cell, you'll be implementing a function for preprocessing.  This time, you'll implement the `one_hot_encode` function. The input, `x`, are a list of labels.  Implement the function to return the list of labels as One-Hot encoded Numpy array.  The possible values for labels are 0 to 9. The one-hot encoding function should return the same encoding for each value between each call to `one_hot_encode`.  Make sure to save the map of encodings outside the function.\n",
    "\n",
    "Hint: Don't reinvent the wheel."
   ]
  },
  {
   "cell_type": "code",
   "execution_count": 4,
   "metadata": {
    "collapsed": false,
    "deletable": true,
    "editable": true
   },
   "outputs": [
    {
     "name": "stdout",
     "output_type": "stream",
     "text": [
      "Tests Passed\n"
     ]
    }
   ],
   "source": [
    "def one_hot_encode(x):\n",
    "    \"\"\"\n",
    "    One hot encode a list of sample labels. Return a one-hot encoded vector for each label.\n",
    "    : x: List of sample Labels\n",
    "    : return: Numpy array of one-hot encoded labels\n",
    "    \"\"\"\n",
    "    # TODO: Implement Function\n",
    "    return np.eye(10)[x]\n",
    "\n",
    "\n",
    "\"\"\"\n",
    "DON'T MODIFY ANYTHING IN THIS CELL THAT IS BELOW THIS LINE\n",
    "\"\"\"\n",
    "tests.test_one_hot_encode(one_hot_encode)"
   ]
  },
  {
   "cell_type": "markdown",
   "metadata": {
    "deletable": true,
    "editable": true
   },
   "source": [
    "### Randomize Data\n",
    "As you saw from exploring the data above, the order of the samples are randomized.  It doesn't hurt to randomize it again, but you don't need to for this dataset."
   ]
  },
  {
   "cell_type": "markdown",
   "metadata": {
    "deletable": true,
    "editable": true
   },
   "source": [
    "## Preprocess all the data and save it\n",
    "Running the code cell below will preprocess all the CIFAR-10 data and save it to file. The code below also uses 10% of the training data for validation."
   ]
  },
  {
   "cell_type": "code",
   "execution_count": 5,
   "metadata": {
    "collapsed": false,
    "deletable": true,
    "editable": true
   },
   "outputs": [],
   "source": [
    "\"\"\"\n",
    "DON'T MODIFY ANYTHING IN THIS CELL\n",
    "\"\"\"\n",
    "# Preprocess Training, Validation, and Testing Data\n",
    "helper.preprocess_and_save_data(cifar10_dataset_folder_path, normalize, one_hot_encode)"
   ]
  },
  {
   "cell_type": "markdown",
   "metadata": {
    "deletable": true,
    "editable": true
   },
   "source": [
    "# Check Point\n",
    "This is your first checkpoint.  If you ever decide to come back to this notebook or have to restart the notebook, you can start from here.  The preprocessed data has been saved to disk."
   ]
  },
  {
   "cell_type": "code",
   "execution_count": 6,
   "metadata": {
    "collapsed": true,
    "deletable": true,
    "editable": true
   },
   "outputs": [],
   "source": [
    "\"\"\"\n",
    "DON'T MODIFY ANYTHING IN THIS CELL\n",
    "\"\"\"\n",
    "import pickle\n",
    "import problem_unittests as tests\n",
    "import helper\n",
    "\n",
    "# Load the Preprocessed Validation data\n",
    "valid_features, valid_labels = pickle.load(open('preprocess_validation.p', mode='rb'))"
   ]
  },
  {
   "cell_type": "markdown",
   "metadata": {
    "deletable": true,
    "editable": true
   },
   "source": [
    "## Build the network\n",
    "For the neural network, you'll build each layer into a function.  Most of the code you've seen has been outside of functions. To test your code more thoroughly, we require that you put each layer in a function.  This allows us to give you better feedback and test for simple mistakes using our unittests before you submit your project.\n",
    "\n",
    ">**Note:** If you're finding it hard to dedicate enough time for this course each week, we've provided a small shortcut to this part of the project. In the next couple of problems, you'll have the option to use classes from the [TensorFlow Layers](https://www.tensorflow.org/api_docs/python/tf/layers) or [TensorFlow Layers (contrib)](https://www.tensorflow.org/api_guides/python/contrib.layers) packages to build each layer, except the layers you build in the \"Convolutional and Max Pooling Layer\" section.  TF Layers is similar to Keras's and TFLearn's abstraction to layers, so it's easy to pickup.\n",
    "\n",
    ">However, if you would like to get the most out of this course, try to solve all the problems _without_ using anything from the TF Layers packages. You **can** still use classes from other packages that happen to have the same name as ones you find in TF Layers! For example, instead of using the TF Layers version of the `conv2d` class, [tf.layers.conv2d](https://www.tensorflow.org/api_docs/python/tf/layers/conv2d), you would want to use the TF Neural Network version of `conv2d`, [tf.nn.conv2d](https://www.tensorflow.org/api_docs/python/tf/nn/conv2d). \n",
    "\n",
    "Let's begin!\n",
    "\n",
    "### Input\n",
    "The neural network needs to read the image data, one-hot encoded labels, and dropout keep probability. Implement the following functions\n",
    "* Implement `neural_net_image_input`\n",
    " * Return a [TF Placeholder](https://www.tensorflow.org/api_docs/python/tf/placeholder)\n",
    " * Set the shape using `image_shape` with batch size set to `None`.\n",
    " * Name the TensorFlow placeholder \"x\" using the TensorFlow `name` parameter in the [TF Placeholder](https://www.tensorflow.org/api_docs/python/tf/placeholder).\n",
    "* Implement `neural_net_label_input`\n",
    " * Return a [TF Placeholder](https://www.tensorflow.org/api_docs/python/tf/placeholder)\n",
    " * Set the shape using `n_classes` with batch size set to `None`.\n",
    " * Name the TensorFlow placeholder \"y\" using the TensorFlow `name` parameter in the [TF Placeholder](https://www.tensorflow.org/api_docs/python/tf/placeholder).\n",
    "* Implement `neural_net_keep_prob_input`\n",
    " * Return a [TF Placeholder](https://www.tensorflow.org/api_docs/python/tf/placeholder) for dropout keep probability.\n",
    " * Name the TensorFlow placeholder \"keep_prob\" using the TensorFlow `name` parameter in the [TF Placeholder](https://www.tensorflow.org/api_docs/python/tf/placeholder).\n",
    "\n",
    "These names will be used at the end of the project to load your saved model.\n",
    "\n",
    "Note: `None` for shapes in TensorFlow allow for a dynamic size."
   ]
  },
  {
   "cell_type": "code",
   "execution_count": 7,
   "metadata": {
    "collapsed": false,
    "deletable": true,
    "editable": true
   },
   "outputs": [
    {
     "name": "stdout",
     "output_type": "stream",
     "text": [
      "Image Input Tests Passed.\n",
      "Label Input Tests Passed.\n",
      "Keep Prob Tests Passed.\n"
     ]
    }
   ],
   "source": [
    "import tensorflow as tf\n",
    "\n",
    "def neural_net_image_input(image_shape):\n",
    "    \"\"\"\n",
    "    Return a Tensor for a batch of image input\n",
    "    : image_shape: Shape of the images\n",
    "    : return: Tensor for image input.\n",
    "    \"\"\"\n",
    "    # TODO: Implement Function\n",
    "    return tf.placeholder(tf.float32, (None, *image_shape), name='x')\n",
    "\n",
    "\n",
    "def neural_net_label_input(n_classes):\n",
    "    \"\"\"\n",
    "    Return a Tensor for a batch of label input\n",
    "    : n_classes: Number of classes\n",
    "    : return: Tensor for label input.\n",
    "    \"\"\"\n",
    "    # TODO: Implement Function\n",
    "    return tf.placeholder(tf.float32, [None,n_classes], name='y')\n",
    "\n",
    "\n",
    "def neural_net_keep_prob_input():\n",
    "    \"\"\"\n",
    "    Return a Tensor for keep probability\n",
    "    : return: Tensor for keep probability.\n",
    "    \"\"\"\n",
    "    # TODO: Implement Function\n",
    "    return tf.placeholder(tf.float32,None, name='keep_prob')\n",
    "\n",
    "\n",
    "\"\"\"\n",
    "DON'T MODIFY ANYTHING IN THIS CELL THAT IS BELOW THIS LINE\n",
    "\"\"\"\n",
    "tf.reset_default_graph()\n",
    "tests.test_nn_image_inputs(neural_net_image_input)\n",
    "tests.test_nn_label_inputs(neural_net_label_input)\n",
    "tests.test_nn_keep_prob_inputs(neural_net_keep_prob_input)"
   ]
  },
  {
   "cell_type": "markdown",
   "metadata": {
    "deletable": true,
    "editable": true
   },
   "source": [
    "### Convolution and Max Pooling Layer\n",
    "Convolution layers have a lot of success with images. For this code cell, you should implement the function `conv2d_maxpool` to apply convolution then max pooling:\n",
    "* Create the weight and bias using `conv_ksize`, `conv_num_outputs` and the shape of `x_tensor`.\n",
    "* Apply a convolution to `x_tensor` using weight and `conv_strides`.\n",
    " * We recommend you use same padding, but you're welcome to use any padding.\n",
    "* Add bias\n",
    "* Add a nonlinear activation to the convolution.\n",
    "* Apply Max Pooling using `pool_ksize` and `pool_strides`.\n",
    " * We recommend you use same padding, but you're welcome to use any padding.\n",
    "\n",
    "**Note:** You **can't** use [TensorFlow Layers](https://www.tensorflow.org/api_docs/python/tf/layers) or [TensorFlow Layers (contrib)](https://www.tensorflow.org/api_guides/python/contrib.layers) for **this** layer, but you can still use TensorFlow's [Neural Network](https://www.tensorflow.org/api_docs/python/tf/nn) package. You may still use the shortcut option for all the **other** layers."
   ]
  },
  {
   "cell_type": "code",
   "execution_count": 8,
   "metadata": {
    "collapsed": false,
    "deletable": true,
    "editable": true
   },
   "outputs": [
    {
     "name": "stdout",
     "output_type": "stream",
     "text": [
      "Tests Passed\n"
     ]
    }
   ],
   "source": [
    "from math import sqrt\n",
    "def conv2d_maxpool(x_tensor, conv_num_outputs, conv_ksize, conv_strides, pool_ksize, pool_strides):\n",
    "    \"\"\"\n",
    "    Apply convolution then max pooling to x_tensor\n",
    "    :param x_tensor: TensorFlow Tensor\n",
    "    :param conv_num_outputs: Number of outputs for the convolutional layer\n",
    "    :param conv_ksize: kernal size 2-D Tuple for the convolutional layer\n",
    "    :param conv_strides: Stride 2-D Tuple for convolution\n",
    "    :param pool_ksize: kernal size 2-D Tuple for pool\n",
    "    :param pool_strides: Stride 2-D Tuple for pool\n",
    "    : return: A tensor that represents convolution and max pooling of x_tensor\n",
    "    \"\"\"\n",
    "    # TODO: Implement Function\n",
    "    shape = x_tensor.get_shape().as_list()\n",
    "    size = (conv_ksize[0], conv_ksize[1], shape[3], conv_num_outputs)\n",
    "    W = tf.Variable(tf.truncated_normal(size, 0, (1/ sqrt(shape[1]*shape[2]*shape[3]))))\n",
    "    B = tf.Variable(tf.zeros(conv_num_outputs))\n",
    "    tensor = tf.nn.conv2d(x_tensor, W, strides=[1, conv_strides[0], conv_strides[1], 1], padding='SAME')\n",
    "    tensor = tf.nn.bias_add(tensor, B)\n",
    "    tensor = tf.nn.relu(tensor)\n",
    "    tensor = tf.nn.max_pool(tensor, ksize=[1, pool_ksize[0], pool_ksize[1], 1], strides=[1, pool_strides[0], pool_strides[1], 1], padding='SAME')\n",
    "    return tensor\n",
    "\n",
    "\n",
    "\"\"\"\n",
    "DON'T MODIFY ANYTHING IN THIS CELL THAT IS BELOW THIS LINE\n",
    "\"\"\"\n",
    "tests.test_con_pool(conv2d_maxpool)"
   ]
  },
  {
   "cell_type": "markdown",
   "metadata": {
    "deletable": true,
    "editable": true
   },
   "source": [
    "### Flatten Layer\n",
    "Implement the `flatten` function to change the dimension of `x_tensor` from a 4-D tensor to a 2-D tensor.  The output should be the shape (*Batch Size*, *Flattened Image Size*). Shortcut option: you can use classes from the [TensorFlow Layers](https://www.tensorflow.org/api_docs/python/tf/layers) or [TensorFlow Layers (contrib)](https://www.tensorflow.org/api_guides/python/contrib.layers) packages for this layer. For more of a challenge, only use other TensorFlow packages."
   ]
  },
  {
   "cell_type": "code",
   "execution_count": 9,
   "metadata": {
    "collapsed": false,
    "deletable": true,
    "editable": true
   },
   "outputs": [
    {
     "name": "stdout",
     "output_type": "stream",
     "text": [
      "Tests Passed\n"
     ]
    }
   ],
   "source": [
    "def flatten(x_tensor):\n",
    "    \"\"\"\n",
    "    Flatten x_tensor to (Batch Size, Flattened Image Size)\n",
    "    : x_tensor: A tensor of size (Batch Size, ...), where ... are the image dimensions.\n",
    "    : return: A tensor of size (Batch Size, Flattened Image Size).\n",
    "    \"\"\"\n",
    "    # TODO: Implement Function\n",
    "    return tf.reshape(x_tensor, [-1, x_tensor.shape[1].value * x_tensor.shape[2].value* x_tensor.shape[3].value])\n",
    "\n",
    "\n",
    "\"\"\"\n",
    "DON'T MODIFY ANYTHING IN THIS CELL THAT IS BELOW THIS LINE\n",
    "\"\"\"\n",
    "tests.test_flatten(flatten)"
   ]
  },
  {
   "cell_type": "markdown",
   "metadata": {
    "deletable": true,
    "editable": true
   },
   "source": [
    "### Fully-Connected Layer\n",
    "Implement the `fully_conn` function to apply a fully connected layer to `x_tensor` with the shape (*Batch Size*, *num_outputs*). Shortcut option: you can use classes from the [TensorFlow Layers](https://www.tensorflow.org/api_docs/python/tf/layers) or [TensorFlow Layers (contrib)](https://www.tensorflow.org/api_guides/python/contrib.layers) packages for this layer. For more of a challenge, only use other TensorFlow packages."
   ]
  },
  {
   "cell_type": "code",
   "execution_count": 10,
   "metadata": {
    "collapsed": false,
    "deletable": true,
    "editable": true
   },
   "outputs": [
    {
     "name": "stdout",
     "output_type": "stream",
     "text": [
      "Tests Passed\n"
     ]
    }
   ],
   "source": [
    "def fully_conn(x_tensor, num_outputs):\n",
    "    \"\"\"\n",
    "    Apply a fully connected layer to x_tensor using weight and bias\n",
    "    : x_tensor: A 2-D tensor where the first dimension is batch size.\n",
    "    : num_outputs: The number of output that the new tensor should be.\n",
    "    : return: A 2-D tensor where the second dimension is num_outputs.\n",
    "    \"\"\"\n",
    "    # TODO: Implement Function\n",
    "    weight= tf.Variable(tf.truncated_normal([x_tensor.shape[1].value, num_outputs], mean=0.0, stddev=0.1))\n",
    "    bias = tf.Variable(tf.zeros(num_outputs))\n",
    "    \n",
    "    return tf.nn.relu(tf.nn.bias_add(tf.matmul(x_tensor, weight), bias))\n",
    "\n",
    "\n",
    "\"\"\"\n",
    "DON'T MODIFY ANYTHING IN THIS CELL THAT IS BELOW THIS LINE\n",
    "\"\"\"\n",
    "tests.test_fully_conn(fully_conn)"
   ]
  },
  {
   "cell_type": "markdown",
   "metadata": {
    "deletable": true,
    "editable": true
   },
   "source": [
    "### Output Layer\n",
    "Implement the `output` function to apply a fully connected layer to `x_tensor` with the shape (*Batch Size*, *num_outputs*). Shortcut option: you can use classes from the [TensorFlow Layers](https://www.tensorflow.org/api_docs/python/tf/layers) or [TensorFlow Layers (contrib)](https://www.tensorflow.org/api_guides/python/contrib.layers) packages for this layer. For more of a challenge, only use other TensorFlow packages.\n",
    "\n",
    "**Note:** Activation, softmax, or cross entropy should **not** be applied to this."
   ]
  },
  {
   "cell_type": "code",
   "execution_count": 11,
   "metadata": {
    "collapsed": false,
    "deletable": true,
    "editable": true
   },
   "outputs": [
    {
     "name": "stdout",
     "output_type": "stream",
     "text": [
      "Tests Passed\n"
     ]
    }
   ],
   "source": [
    "def output(x_tensor, num_outputs):\n",
    "    \"\"\"\n",
    "    Apply a output layer to x_tensor using weight and bias\n",
    "    : x_tensor: A 2-D tensor where the first dimension is batch size.\n",
    "    : num_outputs: The number of output that the new tensor should be.\n",
    "    : return: A 2-D tensor where the second dimension is num_outputs.\n",
    "    \"\"\"\n",
    "    # TODO: Implement Function\n",
    "    weight= tf.Variable(tf.truncated_normal([x_tensor.shape[1].value, num_outputs], mean=0.0, stddev=0.01))\n",
    "    bias = tf.Variable(tf.zeros(num_outputs))\n",
    "    return tf.nn.bias_add(tf.matmul(x_tensor, weight), bias)\n",
    "\n",
    "\n",
    "\"\"\"\n",
    "DON'T MODIFY ANYTHING IN THIS CELL THAT IS BELOW THIS LINE\n",
    "\"\"\"\n",
    "tests.test_output(output)"
   ]
  },
  {
   "cell_type": "markdown",
   "metadata": {
    "deletable": true,
    "editable": true
   },
   "source": [
    "### Create Convolutional Model\n",
    "Implement the function `conv_net` to create a convolutional neural network model. The function takes in a batch of images, `x`, and outputs logits.  Use the layers you created above to create this model:\n",
    "\n",
    "* Apply 1, 2, or 3 Convolution and Max Pool layers\n",
    "* Apply a Flatten Layer\n",
    "* Apply 1, 2, or 3 Fully Connected Layers\n",
    "* Apply an Output Layer\n",
    "* Return the output\n",
    "* Apply [TensorFlow's Dropout](https://www.tensorflow.org/api_docs/python/tf/nn/dropout) to one or more layers in the model using `keep_prob`. "
   ]
  },
  {
   "cell_type": "code",
   "execution_count": 12,
   "metadata": {
    "collapsed": false,
    "deletable": true,
    "editable": true
   },
   "outputs": [
    {
     "name": "stdout",
     "output_type": "stream",
     "text": [
      "Neural Network Built!\n"
     ]
    }
   ],
   "source": [
    "def conv_net(x, keep_prob):\n",
    "    \"\"\"\n",
    "    Create a convolutional neural network model\n",
    "    : x: Placeholder tensor that holds image data.\n",
    "    : keep_prob: Placeholder tensor that hold dropout keep probability.\n",
    "    : return: Tensor that represents logits\n",
    "    \"\"\"\n",
    "    # TODO: Apply 1, 2, or 3 Convolution and Max Pool layers\n",
    "    #    Play around with different number of outputs, kernel size and stride\n",
    "    # Function Definition from Above:\n",
    "    #    conv2d_maxpool(x_tensor, conv_num_outputs, conv_ksize, conv_strides, pool_ksize, pool_strides)\n",
    "    conv1 = conv2d_maxpool(x, 20, [5,5], [1,1], [2,2], [2,2])\n",
    "    conv2 = conv2d_maxpool(conv1, 50, conv_ksize=[3,3], conv_strides=[1,1], pool_ksize=[2,2], pool_strides=[2,2])\n",
    "    conv2 = tf.nn.dropout(conv2, keep_prob)\n",
    "    \n",
    "    conv_out = conv2\n",
    "    \n",
    "\n",
    "    # TODO: Apply a Flatten Layer\n",
    "    # Function Definition from Above:\n",
    "    #   flatten(x_tensor)\n",
    "    fl0 = flatten(conv_out)\n",
    "    \n",
    "\n",
    "    # TODO: Apply 1, 2, or 3 Fully Connected Layers\n",
    "    #    Play around with different number of outputs\n",
    "    # Function Definition from Above:\n",
    "    #   fully_conn(x_tensor, num_outputs)\n",
    "    fl1 = fully_conn(fl0, 100)\n",
    "    fl1 = tf.nn.dropout(fl1, keep_prob)\n",
    "    \n",
    "    fl2 = fully_conn(fl1, 50)\n",
    "    fl2 = tf.nn.dropout(fl2, keep_prob+0.2)\n",
    "    \n",
    "    \n",
    "    # TODO: Apply an Output Layer\n",
    "    #    Set this to the number of classes\n",
    "    # Function Definition from Above:\n",
    "    #   output(x_tensor, num_outputs)\n",
    "    out = output(fl2,10)\n",
    "    \n",
    "    \n",
    "    # TODO: return output\n",
    "    return out\n",
    "\n",
    "\n",
    "\"\"\"\n",
    "DON'T MODIFY ANYTHING IN THIS CELL THAT IS BELOW THIS LINE\n",
    "\"\"\"\n",
    "\n",
    "##############################\n",
    "## Build the Neural Network ##\n",
    "##############################\n",
    "\n",
    "# Remove previous weights, bias, inputs, etc..\n",
    "tf.reset_default_graph()\n",
    "\n",
    "# Inputs\n",
    "x = neural_net_image_input((32, 32, 3))\n",
    "y = neural_net_label_input(10)\n",
    "keep_prob = neural_net_keep_prob_input()\n",
    "\n",
    "# Model\n",
    "logits = conv_net(x, keep_prob)\n",
    "\n",
    "# Name logits Tensor, so that is can be loaded from disk after training\n",
    "logits = tf.identity(logits, name='logits')\n",
    "\n",
    "# Loss and Optimizer\n",
    "cost = tf.reduce_mean(tf.nn.softmax_cross_entropy_with_logits(logits=logits, labels=y))\n",
    "optimizer = tf.train.AdamOptimizer().minimize(cost)\n",
    "\n",
    "# Accuracy\n",
    "correct_pred = tf.equal(tf.argmax(logits, 1), tf.argmax(y, 1))\n",
    "accuracy = tf.reduce_mean(tf.cast(correct_pred, tf.float32), name='accuracy')\n",
    "\n",
    "tests.test_conv_net(conv_net)"
   ]
  },
  {
   "cell_type": "markdown",
   "metadata": {
    "deletable": true,
    "editable": true
   },
   "source": [
    "## Train the Neural Network\n",
    "### Single Optimization\n",
    "Implement the function `train_neural_network` to do a single optimization.  The optimization should use `optimizer` to optimize in `session` with a `feed_dict` of the following:\n",
    "* `x` for image input\n",
    "* `y` for labels\n",
    "* `keep_prob` for keep probability for dropout\n",
    "\n",
    "This function will be called for each batch, so `tf.global_variables_initializer()` has already been called.\n",
    "\n",
    "Note: Nothing needs to be returned. This function is only optimizing the neural network."
   ]
  },
  {
   "cell_type": "code",
   "execution_count": 13,
   "metadata": {
    "collapsed": false,
    "deletable": true,
    "editable": true
   },
   "outputs": [
    {
     "name": "stdout",
     "output_type": "stream",
     "text": [
      "Tests Passed\n"
     ]
    }
   ],
   "source": [
    "def train_neural_network(session, optimizer, keep_probability, feature_batch, label_batch):\n",
    "    \"\"\"\n",
    "    Optimize the session on a batch of images and labels\n",
    "    : session: Current TensorFlow session\n",
    "    : optimizer: TensorFlow optimizer function\n",
    "    : keep_probability: keep probability\n",
    "    : feature_batch: Batch of Numpy image data\n",
    "    : label_batch: Batch of Numpy label data\n",
    "    \"\"\"\n",
    "    # TODO: Implement Function\n",
    "    session.run(optimizer,feed_dict={x:feature_batch, y:label_batch, keep_prob: keep_probability})\n",
    "\n",
    "\n",
    "\"\"\"\n",
    "DON'T MODIFY ANYTHING IN THIS CELL THAT IS BELOW THIS LINE\n",
    "\"\"\"\n",
    "tests.test_train_nn(train_neural_network)"
   ]
  },
  {
   "cell_type": "markdown",
   "metadata": {
    "deletable": true,
    "editable": true
   },
   "source": [
    "### Show Stats\n",
    "Implement the function `print_stats` to print loss and validation accuracy.  Use the global variables `valid_features` and `valid_labels` to calculate validation accuracy.  Use a keep probability of `1.0` to calculate the loss and validation accuracy."
   ]
  },
  {
   "cell_type": "code",
   "execution_count": 14,
   "metadata": {
    "collapsed": false,
    "deletable": true,
    "editable": true
   },
   "outputs": [],
   "source": [
    "def print_stats(session, feature_batch, label_batch, cost, accuracy):\n",
    "    \"\"\"\n",
    "    Print information about loss and validation accuracy\n",
    "    : session: Current TensorFlow session\n",
    "    : feature_batch: Batch of Numpy image data\n",
    "    : label_batch: Batch of Numpy label data\n",
    "    : cost: TensorFlow cost function\n",
    "    : accuracy: TensorFlow accuracy function\n",
    "    \"\"\"\n",
    "    loss = session.run(cost, feed_dict={x:feature_batch, y: label_batch, keep_prob:1.0 })\n",
    "    valid_acc =session.run(accuracy, feed_dict={x:valid_features, y: valid_labels, keep_prob:1.0})\n",
    "    print('cost: {}  accuracy: {}'.format(loss, valid_acc))"
   ]
  },
  {
   "cell_type": "markdown",
   "metadata": {
    "deletable": true,
    "editable": true
   },
   "source": [
    "### Hyperparameters\n",
    "Tune the following parameters:\n",
    "* Set `epochs` to the number of iterations until the network stops learning or start overfitting\n",
    "* Set `batch_size` to the highest number that your machine has memory for.  Most people set them to common sizes of memory:\n",
    " * 64\n",
    " * 128\n",
    " * 256\n",
    " * ...\n",
    "* Set `keep_probability` to the probability of keeping a node using dropout"
   ]
  },
  {
   "cell_type": "code",
   "execution_count": 15,
   "metadata": {
    "collapsed": true,
    "deletable": true,
    "editable": true
   },
   "outputs": [],
   "source": [
    "# TODO: Tune Parameters\n",
    "epochs = 100\n",
    "batch_size = 128\n",
    "keep_probability = 0.5"
   ]
  },
  {
   "cell_type": "markdown",
   "metadata": {
    "deletable": true,
    "editable": true
   },
   "source": [
    "### Train on a Single CIFAR-10 Batch\n",
    "Instead of training the neural network on all the CIFAR-10 batches of data, let's use a single batch. This should save time while you iterate on the model to get a better accuracy.  Once the final validation accuracy is 50% or greater, run the model on all the data in the next section."
   ]
  },
  {
   "cell_type": "code",
   "execution_count": 16,
   "metadata": {
    "collapsed": false,
    "deletable": true,
    "editable": true
   },
   "outputs": [
    {
     "name": "stdout",
     "output_type": "stream",
     "text": [
      "Checking the Training on a Single Batch...\n",
      "Epoch  1, CIFAR-10 Batch 1:  cost: 2.231597423553467  accuracy: 0.19840000569820404\n",
      "Epoch  2, CIFAR-10 Batch 1:  cost: 2.2107367515563965  accuracy: 0.2637999951839447\n",
      "Epoch  3, CIFAR-10 Batch 1:  cost: 2.190366506576538  accuracy: 0.2825999855995178\n",
      "Epoch  4, CIFAR-10 Batch 1:  cost: 2.083747625350952  accuracy: 0.34619995951652527\n",
      "Epoch  5, CIFAR-10 Batch 1:  cost: 2.036180257797241  accuracy: 0.36039999127388\n",
      "Epoch  6, CIFAR-10 Batch 1:  cost: 1.9624292850494385  accuracy: 0.38540002703666687\n",
      "Epoch  7, CIFAR-10 Batch 1:  cost: 1.8592631816864014  accuracy: 0.3951999545097351\n",
      "Epoch  8, CIFAR-10 Batch 1:  cost: 1.8503713607788086  accuracy: 0.4131999611854553\n",
      "Epoch  9, CIFAR-10 Batch 1:  cost: 1.8234999179840088  accuracy: 0.4261999726295471\n",
      "Epoch 10, CIFAR-10 Batch 1:  cost: 1.7098644971847534  accuracy: 0.42959997057914734\n",
      "Epoch 11, CIFAR-10 Batch 1:  cost: 1.7015666961669922  accuracy: 0.4472000002861023\n",
      "Epoch 12, CIFAR-10 Batch 1:  cost: 1.6282379627227783  accuracy: 0.45260000228881836\n",
      "Epoch 13, CIFAR-10 Batch 1:  cost: 1.6486237049102783  accuracy: 0.45139995217323303\n",
      "Epoch 14, CIFAR-10 Batch 1:  cost: 1.6000173091888428  accuracy: 0.4580000042915344\n",
      "Epoch 15, CIFAR-10 Batch 1:  cost: 1.528435468673706  accuracy: 0.4749999940395355\n",
      "Epoch 16, CIFAR-10 Batch 1:  cost: 1.50962495803833  accuracy: 0.47199997305870056\n",
      "Epoch 17, CIFAR-10 Batch 1:  cost: 1.51210618019104  accuracy: 0.4691999554634094\n",
      "Epoch 18, CIFAR-10 Batch 1:  cost: 1.416234016418457  accuracy: 0.47339996695518494\n",
      "Epoch 19, CIFAR-10 Batch 1:  cost: 1.5248641967773438  accuracy: 0.4797999858856201\n",
      "Epoch 20, CIFAR-10 Batch 1:  cost: 1.426177740097046  accuracy: 0.48179998993873596\n",
      "Epoch 21, CIFAR-10 Batch 1:  cost: 1.3235218524932861  accuracy: 0.48719993233680725\n",
      "Epoch 22, CIFAR-10 Batch 1:  cost: 1.361550211906433  accuracy: 0.47380000352859497\n",
      "Epoch 23, CIFAR-10 Batch 1:  cost: 1.3588347434997559  accuracy: 0.4893999695777893\n",
      "Epoch 24, CIFAR-10 Batch 1:  cost: 1.3103249073028564  accuracy: 0.4949999451637268\n",
      "Epoch 25, CIFAR-10 Batch 1:  cost: 1.301250696182251  accuracy: 0.5021999478340149\n",
      "Epoch 26, CIFAR-10 Batch 1:  cost: 1.3234885931015015  accuracy: 0.5033999681472778\n",
      "Epoch 27, CIFAR-10 Batch 1:  cost: 1.2237080335617065  accuracy: 0.5079999566078186\n",
      "Epoch 28, CIFAR-10 Batch 1:  cost: 1.2509640455245972  accuracy: 0.5009999871253967\n",
      "Epoch 29, CIFAR-10 Batch 1:  cost: 1.2265434265136719  accuracy: 0.5107999444007874\n",
      "Epoch 30, CIFAR-10 Batch 1:  cost: 1.2101763486862183  accuracy: 0.5203999280929565\n",
      "Epoch 31, CIFAR-10 Batch 1:  cost: 1.1659245491027832  accuracy: 0.5165998935699463\n",
      "Epoch 32, CIFAR-10 Batch 1:  cost: 1.1671884059906006  accuracy: 0.5185999870300293\n",
      "Epoch 33, CIFAR-10 Batch 1:  cost: 1.1145615577697754  accuracy: 0.5241999626159668\n",
      "Epoch 34, CIFAR-10 Batch 1:  cost: 1.115221619606018  accuracy: 0.5227999091148376\n",
      "Epoch 35, CIFAR-10 Batch 1:  cost: 1.1125352382659912  accuracy: 0.5245999693870544\n",
      "Epoch 36, CIFAR-10 Batch 1:  cost: 1.0935026407241821  accuracy: 0.5151999592781067\n",
      "Epoch 37, CIFAR-10 Batch 1:  cost: 1.0750640630722046  accuracy: 0.5181999206542969\n",
      "Epoch 38, CIFAR-10 Batch 1:  cost: 1.1227667331695557  accuracy: 0.5101999044418335\n",
      "Epoch 39, CIFAR-10 Batch 1:  cost: 1.063636302947998  accuracy: 0.5277999639511108\n",
      "Epoch 40, CIFAR-10 Batch 1:  cost: 1.0239648818969727  accuracy: 0.5265999436378479\n",
      "Epoch 41, CIFAR-10 Batch 1:  cost: 0.9946589469909668  accuracy: 0.5321999192237854\n",
      "Epoch 42, CIFAR-10 Batch 1:  cost: 0.984756588935852  accuracy: 0.5283998847007751\n",
      "Epoch 43, CIFAR-10 Batch 1:  cost: 0.9540690183639526  accuracy: 0.5241999626159668\n",
      "Epoch 44, CIFAR-10 Batch 1:  cost: 0.964361310005188  accuracy: 0.5231999158859253\n",
      "Epoch 45, CIFAR-10 Batch 1:  cost: 0.9448233842849731  accuracy: 0.5405999422073364\n",
      "Epoch 46, CIFAR-10 Batch 1:  cost: 0.9320048093795776  accuracy: 0.5437999367713928\n",
      "Epoch 47, CIFAR-10 Batch 1:  cost: 0.9451249837875366  accuracy: 0.5347999334335327\n",
      "Epoch 48, CIFAR-10 Batch 1:  cost: 0.86942058801651  accuracy: 0.5461999177932739\n",
      "Epoch 49, CIFAR-10 Batch 1:  cost: 0.862623929977417  accuracy: 0.5499998927116394\n",
      "Epoch 50, CIFAR-10 Batch 1:  cost: 0.8727645874023438  accuracy: 0.5401999354362488\n",
      "Epoch 51, CIFAR-10 Batch 1:  cost: 0.8577927350997925  accuracy: 0.5553999543190002\n",
      "Epoch 52, CIFAR-10 Batch 1:  cost: 0.8251951932907104  accuracy: 0.555199921131134\n",
      "Epoch 53, CIFAR-10 Batch 1:  cost: 0.8560818433761597  accuracy: 0.5463999509811401\n",
      "Epoch 54, CIFAR-10 Batch 1:  cost: 0.7900370359420776  accuracy: 0.5621999502182007\n",
      "Epoch 55, CIFAR-10 Batch 1:  cost: 0.7872939109802246  accuracy: 0.5625998973846436\n",
      "Epoch 56, CIFAR-10 Batch 1:  cost: 0.8091259002685547  accuracy: 0.5615999102592468\n",
      "Epoch 57, CIFAR-10 Batch 1:  cost: 0.7913995981216431  accuracy: 0.561199963092804\n",
      "Epoch 58, CIFAR-10 Batch 1:  cost: 0.7902736663818359  accuracy: 0.5625998973846436\n",
      "Epoch 59, CIFAR-10 Batch 1:  cost: 0.7554190158843994  accuracy: 0.5631999373435974\n",
      "Epoch 60, CIFAR-10 Batch 1:  cost: 0.7644822001457214  accuracy: 0.5619999170303345\n",
      "Epoch 61, CIFAR-10 Batch 1:  cost: 0.726452112197876  accuracy: 0.5751999020576477\n",
      "Epoch 62, CIFAR-10 Batch 1:  cost: 0.7255934476852417  accuracy: 0.5655999183654785\n",
      "Epoch 63, CIFAR-10 Batch 1:  cost: 0.7163260579109192  accuracy: 0.5717998743057251\n",
      "Epoch 64, CIFAR-10 Batch 1:  cost: 0.7247798442840576  accuracy: 0.5709998607635498\n",
      "Epoch 65, CIFAR-10 Batch 1:  cost: 0.7085899114608765  accuracy: 0.5741999745368958\n",
      "Epoch 66, CIFAR-10 Batch 1:  cost: 0.6715614199638367  accuracy: 0.5761998891830444\n",
      "Epoch 67, CIFAR-10 Batch 1:  cost: 0.6669738292694092  accuracy: 0.5727999210357666\n",
      "Epoch 68, CIFAR-10 Batch 1:  cost: 0.6636948585510254  accuracy: 0.5681999325752258\n",
      "Epoch 69, CIFAR-10 Batch 1:  cost: 0.6278833746910095  accuracy: 0.5871999859809875\n",
      "Epoch 70, CIFAR-10 Batch 1:  cost: 0.6655145287513733  accuracy: 0.5671999454498291\n",
      "Epoch 71, CIFAR-10 Batch 1:  cost: 0.6122816205024719  accuracy: 0.5775998830795288\n",
      "Epoch 72, CIFAR-10 Batch 1:  cost: 0.6199139356613159  accuracy: 0.5871999263763428\n",
      "Epoch 73, CIFAR-10 Batch 1:  cost: 0.6010194420814514  accuracy: 0.5821998715400696\n",
      "Epoch 74, CIFAR-10 Batch 1:  cost: 0.5790889859199524  accuracy: 0.5685999393463135\n",
      "Epoch 75, CIFAR-10 Batch 1:  cost: 0.5899062752723694  accuracy: 0.5839999318122864\n",
      "Epoch 76, CIFAR-10 Batch 1:  cost: 0.5903230905532837  accuracy: 0.5807998776435852\n",
      "Epoch 77, CIFAR-10 Batch 1:  cost: 0.591974675655365  accuracy: 0.5869999527931213\n",
      "Epoch 78, CIFAR-10 Batch 1:  cost: 0.5554203391075134  accuracy: 0.5849999189376831\n",
      "Epoch 79, CIFAR-10 Batch 1:  cost: 0.5643033385276794  accuracy: 0.5813999176025391\n",
      "Epoch 80, CIFAR-10 Batch 1:  cost: 0.5800198912620544  accuracy: 0.5733999013900757\n",
      "Epoch 81, CIFAR-10 Batch 1:  cost: 0.5593591332435608  accuracy: 0.5895999670028687\n",
      "Epoch 82, CIFAR-10 Batch 1:  cost: 0.5292356014251709  accuracy: 0.5847999453544617\n",
      "Epoch 83, CIFAR-10 Batch 1:  cost: 0.5215239524841309  accuracy: 0.5867999196052551\n",
      "Epoch 84, CIFAR-10 Batch 1:  cost: 0.5279545783996582  accuracy: 0.5935999751091003\n",
      "Epoch 85, CIFAR-10 Batch 1:  cost: 0.5173993706703186  accuracy: 0.5927999019622803\n",
      "Epoch 86, CIFAR-10 Batch 1:  cost: 0.5184982419013977  accuracy: 0.5977998971939087\n",
      "Epoch 87, CIFAR-10 Batch 1:  cost: 0.5052600502967834  accuracy: 0.5963999629020691\n",
      "Epoch 88, CIFAR-10 Batch 1:  cost: 0.4947493076324463  accuracy: 0.584399938583374\n",
      "Epoch 89, CIFAR-10 Batch 1:  cost: 0.4808087646961212  accuracy: 0.595599889755249\n",
      "Epoch 90, CIFAR-10 Batch 1:  cost: 0.49776679277420044  accuracy: 0.5953999161720276\n",
      "Epoch 91, CIFAR-10 Batch 1:  cost: 0.48216813802719116  accuracy: 0.5977999567985535\n",
      "Epoch 92, CIFAR-10 Batch 1:  cost: 0.4891985058784485  accuracy: 0.5931998491287231\n",
      "Epoch 93, CIFAR-10 Batch 1:  cost: 0.4704414904117584  accuracy: 0.5831999182701111\n",
      "Epoch 94, CIFAR-10 Batch 1:  cost: 0.4551391303539276  accuracy: 0.5945999026298523\n",
      "Epoch 95, CIFAR-10 Batch 1:  cost: 0.47818583250045776  accuracy: 0.6023998856544495\n",
      "Epoch 96, CIFAR-10 Batch 1:  cost: 0.4579312801361084  accuracy: 0.5915999412536621\n",
      "Epoch 97, CIFAR-10 Batch 1:  cost: 0.4663427472114563  accuracy: 0.5941998958587646\n",
      "Epoch 98, CIFAR-10 Batch 1:  cost: 0.47419339418411255  accuracy: 0.5981999039649963\n",
      "Epoch 99, CIFAR-10 Batch 1:  cost: 0.4505620300769806  accuracy: 0.5935999155044556\n",
      "Epoch 100, CIFAR-10 Batch 1:  cost: 0.4201992154121399  accuracy: 0.597399890422821\n"
     ]
    }
   ],
   "source": [
    "\"\"\"\n",
    "DON'T MODIFY ANYTHING IN THIS CELL\n",
    "\"\"\"\n",
    "print('Checking the Training on a Single Batch...')\n",
    "with tf.Session() as sess:\n",
    "    # Initializing the variables\n",
    "    sess.run(tf.global_variables_initializer())\n",
    "    \n",
    "    # Training cycle\n",
    "    for epoch in range(epochs):\n",
    "        batch_i = 1\n",
    "        for batch_features, batch_labels in helper.load_preprocess_training_batch(batch_i, batch_size):\n",
    "            train_neural_network(sess, optimizer, keep_probability, batch_features, batch_labels)\n",
    "        print('Epoch {:>2}, CIFAR-10 Batch {}:  '.format(epoch + 1, batch_i), end='')\n",
    "        print_stats(sess, batch_features, batch_labels, cost, accuracy)"
   ]
  },
  {
   "cell_type": "markdown",
   "metadata": {
    "deletable": true,
    "editable": true
   },
   "source": [
    "### Fully Train the Model\n",
    "Now that you got a good accuracy with a single CIFAR-10 batch, try it with all five batches."
   ]
  },
  {
   "cell_type": "code",
   "execution_count": 17,
   "metadata": {
    "collapsed": false,
    "deletable": true,
    "editable": true
   },
   "outputs": [
    {
     "name": "stdout",
     "output_type": "stream",
     "text": [
      "Training...\n",
      "Epoch  1, CIFAR-10 Batch 1:  cost: 2.2457945346832275  accuracy: 0.16599999368190765\n",
      "Epoch  1, CIFAR-10 Batch 2:  cost: 2.0626144409179688  accuracy: 0.2818000018596649\n",
      "Epoch  1, CIFAR-10 Batch 3:  cost: 1.807671070098877  accuracy: 0.26579999923706055\n",
      "Epoch  1, CIFAR-10 Batch 4:  cost: 1.7551674842834473  accuracy: 0.32259997725486755\n",
      "Epoch  1, CIFAR-10 Batch 5:  cost: 1.8569859266281128  accuracy: 0.3612000048160553\n",
      "Epoch  2, CIFAR-10 Batch 1:  cost: 1.992284893989563  accuracy: 0.3887999951839447\n",
      "Epoch  2, CIFAR-10 Batch 2:  cost: 1.842621922492981  accuracy: 0.40519994497299194\n",
      "Epoch  2, CIFAR-10 Batch 3:  cost: 1.4393196105957031  accuracy: 0.4065999686717987\n",
      "Epoch  2, CIFAR-10 Batch 4:  cost: 1.557274341583252  accuracy: 0.4349999725818634\n",
      "Epoch  2, CIFAR-10 Batch 5:  cost: 1.7007018327713013  accuracy: 0.43999993801116943\n",
      "Epoch  3, CIFAR-10 Batch 1:  cost: 1.7768754959106445  accuracy: 0.4577999711036682\n",
      "Epoch  3, CIFAR-10 Batch 2:  cost: 1.6110060214996338  accuracy: 0.46359995007514954\n",
      "Epoch  3, CIFAR-10 Batch 3:  cost: 1.240493655204773  accuracy: 0.4607999920845032\n",
      "Epoch  3, CIFAR-10 Batch 4:  cost: 1.477034330368042  accuracy: 0.4787999391555786\n",
      "Epoch  3, CIFAR-10 Batch 5:  cost: 1.6384835243225098  accuracy: 0.4615999758243561\n",
      "Epoch  4, CIFAR-10 Batch 1:  cost: 1.6081255674362183  accuracy: 0.47819995880126953\n",
      "Epoch  4, CIFAR-10 Batch 2:  cost: 1.4779292345046997  accuracy: 0.4769999384880066\n",
      "Epoch  4, CIFAR-10 Batch 3:  cost: 1.138390302658081  accuracy: 0.48339998722076416\n",
      "Epoch  4, CIFAR-10 Batch 4:  cost: 1.4311623573303223  accuracy: 0.4957999587059021\n",
      "Epoch  4, CIFAR-10 Batch 5:  cost: 1.5541768074035645  accuracy: 0.4971999526023865\n",
      "Epoch  5, CIFAR-10 Batch 1:  cost: 1.542224645614624  accuracy: 0.5061998963356018\n",
      "Epoch  5, CIFAR-10 Batch 2:  cost: 1.4397941827774048  accuracy: 0.4981999397277832\n",
      "Epoch  5, CIFAR-10 Batch 3:  cost: 1.0921244621276855  accuracy: 0.4989999532699585\n",
      "Epoch  5, CIFAR-10 Batch 4:  cost: 1.4252028465270996  accuracy: 0.4989999532699585\n",
      "Epoch  5, CIFAR-10 Batch 5:  cost: 1.5370831489562988  accuracy: 0.5005999803543091\n",
      "Epoch  6, CIFAR-10 Batch 1:  cost: 1.4653246402740479  accuracy: 0.517799973487854\n",
      "Epoch  6, CIFAR-10 Batch 2:  cost: 1.2995015382766724  accuracy: 0.5197999477386475\n",
      "Epoch  6, CIFAR-10 Batch 3:  cost: 1.0832422971725464  accuracy: 0.5039999485015869\n",
      "Epoch  6, CIFAR-10 Batch 4:  cost: 1.2481920719146729  accuracy: 0.5269999504089355\n",
      "Epoch  6, CIFAR-10 Batch 5:  cost: 1.4192994832992554  accuracy: 0.5239999294281006\n",
      "Epoch  7, CIFAR-10 Batch 1:  cost: 1.4664934873580933  accuracy: 0.5349999666213989\n",
      "Epoch  7, CIFAR-10 Batch 2:  cost: 1.2641401290893555  accuracy: 0.5267999172210693\n",
      "Epoch  7, CIFAR-10 Batch 3:  cost: 1.0062789916992188  accuracy: 0.5215999484062195\n",
      "Epoch  7, CIFAR-10 Batch 4:  cost: 1.2127920389175415  accuracy: 0.5415999293327332\n",
      "Epoch  7, CIFAR-10 Batch 5:  cost: 1.3663712739944458  accuracy: 0.5277999639511108\n",
      "Epoch  8, CIFAR-10 Batch 1:  cost: 1.3809669017791748  accuracy: 0.5525999069213867\n",
      "Epoch  8, CIFAR-10 Batch 2:  cost: 1.1960794925689697  accuracy: 0.5501999258995056\n",
      "Epoch  8, CIFAR-10 Batch 3:  cost: 1.0048500299453735  accuracy: 0.5437999367713928\n",
      "Epoch  8, CIFAR-10 Batch 4:  cost: 1.172358512878418  accuracy: 0.5549999475479126\n",
      "Epoch  8, CIFAR-10 Batch 5:  cost: 1.2817150354385376  accuracy: 0.553399920463562\n",
      "Epoch  9, CIFAR-10 Batch 1:  cost: 1.3117340803146362  accuracy: 0.5547999143600464\n",
      "Epoch  9, CIFAR-10 Batch 2:  cost: 1.1290380954742432  accuracy: 0.5547999739646912\n",
      "Epoch  9, CIFAR-10 Batch 3:  cost: 0.9849210381507874  accuracy: 0.5561999082565308\n",
      "Epoch  9, CIFAR-10 Batch 4:  cost: 1.1105434894561768  accuracy: 0.568399965763092\n",
      "Epoch  9, CIFAR-10 Batch 5:  cost: 1.2383617162704468  accuracy: 0.5655999183654785\n",
      "Epoch 10, CIFAR-10 Batch 1:  cost: 1.2894501686096191  accuracy: 0.5701999664306641\n",
      "Epoch 10, CIFAR-10 Batch 2:  cost: 1.1076297760009766  accuracy: 0.5607998967170715\n",
      "Epoch 10, CIFAR-10 Batch 3:  cost: 0.9036020040512085  accuracy: 0.5683999061584473\n",
      "Epoch 10, CIFAR-10 Batch 4:  cost: 1.0566165447235107  accuracy: 0.5739999413490295\n",
      "Epoch 10, CIFAR-10 Batch 5:  cost: 1.1677124500274658  accuracy: 0.5751999616622925\n",
      "Epoch 11, CIFAR-10 Batch 1:  cost: 1.2301872968673706  accuracy: 0.58079993724823\n",
      "Epoch 11, CIFAR-10 Batch 2:  cost: 1.013649821281433  accuracy: 0.5771998763084412\n",
      "Epoch 11, CIFAR-10 Batch 3:  cost: 0.8667186498641968  accuracy: 0.5755999088287354\n",
      "Epoch 11, CIFAR-10 Batch 4:  cost: 1.0103179216384888  accuracy: 0.5907999873161316\n",
      "Epoch 11, CIFAR-10 Batch 5:  cost: 1.1169722080230713  accuracy: 0.5845998525619507\n",
      "Epoch 12, CIFAR-10 Batch 1:  cost: 1.1552746295928955  accuracy: 0.5941999554634094\n",
      "Epoch 12, CIFAR-10 Batch 2:  cost: 0.9965904951095581  accuracy: 0.5863999724388123\n",
      "Epoch 12, CIFAR-10 Batch 3:  cost: 0.8414152264595032  accuracy: 0.5933999419212341\n",
      "Epoch 12, CIFAR-10 Batch 4:  cost: 1.0291674137115479  accuracy: 0.5921999216079712\n",
      "Epoch 12, CIFAR-10 Batch 5:  cost: 1.0903046131134033  accuracy: 0.5993998646736145\n",
      "Epoch 13, CIFAR-10 Batch 1:  cost: 1.135954737663269  accuracy: 0.5971999168395996\n",
      "Epoch 13, CIFAR-10 Batch 2:  cost: 0.9418503046035767  accuracy: 0.5931999087333679\n",
      "Epoch 13, CIFAR-10 Batch 3:  cost: 0.8424960970878601  accuracy: 0.5913999676704407\n",
      "Epoch 13, CIFAR-10 Batch 4:  cost: 0.9865822792053223  accuracy: 0.6031998991966248\n",
      "Epoch 13, CIFAR-10 Batch 5:  cost: 0.997858464717865  accuracy: 0.6045998930931091\n",
      "Epoch 14, CIFAR-10 Batch 1:  cost: 1.0820021629333496  accuracy: 0.6055998802185059\n",
      "Epoch 14, CIFAR-10 Batch 2:  cost: 0.9732010960578918  accuracy: 0.603399932384491\n",
      "Epoch 14, CIFAR-10 Batch 3:  cost: 0.7746144533157349  accuracy: 0.614799976348877\n",
      "Epoch 14, CIFAR-10 Batch 4:  cost: 0.9335899353027344  accuracy: 0.6129998564720154\n",
      "Epoch 14, CIFAR-10 Batch 5:  cost: 1.004145860671997  accuracy: 0.6001999378204346\n",
      "Epoch 15, CIFAR-10 Batch 1:  cost: 1.0452584028244019  accuracy: 0.6127999424934387\n",
      "Epoch 15, CIFAR-10 Batch 2:  cost: 0.9440367221832275  accuracy: 0.6069998741149902\n",
      "Epoch 15, CIFAR-10 Batch 3:  cost: 0.7709468603134155  accuracy: 0.6123999357223511\n",
      "Epoch 15, CIFAR-10 Batch 4:  cost: 0.9210984706878662  accuracy: 0.6087998747825623\n",
      "Epoch 15, CIFAR-10 Batch 5:  cost: 1.017339825630188  accuracy: 0.6085999011993408\n",
      "Epoch 16, CIFAR-10 Batch 1:  cost: 0.9881192445755005  accuracy: 0.6239999532699585\n",
      "Epoch 16, CIFAR-10 Batch 2:  cost: 0.8981592059135437  accuracy: 0.6129999160766602\n",
      "Epoch 16, CIFAR-10 Batch 3:  cost: 0.769059419631958  accuracy: 0.6125999093055725\n",
      "Epoch 16, CIFAR-10 Batch 4:  cost: 0.8721596002578735  accuracy: 0.6275999546051025\n",
      "Epoch 16, CIFAR-10 Batch 5:  cost: 0.9478088617324829  accuracy: 0.6279998421669006\n",
      "Epoch 17, CIFAR-10 Batch 1:  cost: 1.007070541381836  accuracy: 0.626599907875061\n",
      "Epoch 17, CIFAR-10 Batch 2:  cost: 0.8628305792808533  accuracy: 0.6201999187469482\n",
      "Epoch 17, CIFAR-10 Batch 3:  cost: 0.7382961511611938  accuracy: 0.6245999336242676\n",
      "Epoch 17, CIFAR-10 Batch 4:  cost: 0.8681846261024475  accuracy: 0.6171998977661133\n",
      "Epoch 17, CIFAR-10 Batch 5:  cost: 0.8990747332572937  accuracy: 0.626599907875061\n",
      "Epoch 18, CIFAR-10 Batch 1:  cost: 0.8822497129440308  accuracy: 0.6331998705863953\n",
      "Epoch 18, CIFAR-10 Batch 2:  cost: 0.881851315498352  accuracy: 0.6357998847961426\n",
      "Epoch 18, CIFAR-10 Batch 3:  cost: 0.6756216883659363  accuracy: 0.6399998664855957\n",
      "Epoch 18, CIFAR-10 Batch 4:  cost: 0.8124587535858154  accuracy: 0.6413998603820801\n",
      "Epoch 18, CIFAR-10 Batch 5:  cost: 0.8182375431060791  accuracy: 0.6313998699188232\n",
      "Epoch 19, CIFAR-10 Batch 1:  cost: 0.9704770445823669  accuracy: 0.6329998970031738\n",
      "Epoch 19, CIFAR-10 Batch 2:  cost: 0.8385305404663086  accuracy: 0.6431999206542969\n",
      "Epoch 19, CIFAR-10 Batch 3:  cost: 0.6352170705795288  accuracy: 0.6437998414039612\n",
      "Epoch 19, CIFAR-10 Batch 4:  cost: 0.8486833572387695  accuracy: 0.6441999673843384\n",
      "Epoch 19, CIFAR-10 Batch 5:  cost: 0.8441634178161621  accuracy: 0.6469998955726624\n",
      "Epoch 20, CIFAR-10 Batch 1:  cost: 0.9427915811538696  accuracy: 0.644399881362915\n",
      "Epoch 20, CIFAR-10 Batch 2:  cost: 0.7745019793510437  accuracy: 0.6333999037742615\n",
      "Epoch 20, CIFAR-10 Batch 3:  cost: 0.691311240196228  accuracy: 0.6423999071121216\n",
      "Epoch 20, CIFAR-10 Batch 4:  cost: 0.7770861387252808  accuracy: 0.6483998894691467\n",
      "Epoch 20, CIFAR-10 Batch 5:  cost: 0.7987934350967407  accuracy: 0.6483998894691467\n",
      "Epoch 21, CIFAR-10 Batch 1:  cost: 0.8600484728813171  accuracy: 0.6505998969078064\n",
      "Epoch 21, CIFAR-10 Batch 2:  cost: 0.7871882915496826  accuracy: 0.6545998454093933\n",
      "Epoch 21, CIFAR-10 Batch 3:  cost: 0.6071614027023315  accuracy: 0.6467998623847961\n",
      "Epoch 21, CIFAR-10 Batch 4:  cost: 0.7694414258003235  accuracy: 0.654999852180481\n",
      "Epoch 21, CIFAR-10 Batch 5:  cost: 0.8099629282951355  accuracy: 0.6471999287605286\n",
      "Epoch 22, CIFAR-10 Batch 1:  cost: 0.8799927234649658  accuracy: 0.6489999294281006\n",
      "Epoch 22, CIFAR-10 Batch 2:  cost: 0.758376955986023  accuracy: 0.6549999117851257\n",
      "Epoch 22, CIFAR-10 Batch 3:  cost: 0.5890371799468994  accuracy: 0.6497998833656311\n",
      "Epoch 22, CIFAR-10 Batch 4:  cost: 0.74897700548172  accuracy: 0.6563998460769653\n",
      "Epoch 22, CIFAR-10 Batch 5:  cost: 0.7715266346931458  accuracy: 0.64739990234375\n",
      "Epoch 23, CIFAR-10 Batch 1:  cost: 0.8536548614501953  accuracy: 0.6525999307632446\n",
      "Epoch 23, CIFAR-10 Batch 2:  cost: 0.7460029721260071  accuracy: 0.6553998589515686\n",
      "Epoch 23, CIFAR-10 Batch 3:  cost: 0.5773692727088928  accuracy: 0.654999852180481\n",
      "Epoch 23, CIFAR-10 Batch 4:  cost: 0.7240825295448303  accuracy: 0.6529998183250427\n",
      "Epoch 23, CIFAR-10 Batch 5:  cost: 0.7529346942901611  accuracy: 0.6629998683929443\n",
      "Epoch 24, CIFAR-10 Batch 1:  cost: 0.8250154256820679  accuracy: 0.6445999145507812\n",
      "Epoch 24, CIFAR-10 Batch 2:  cost: 0.705894410610199  accuracy: 0.6609999537467957\n",
      "Epoch 24, CIFAR-10 Batch 3:  cost: 0.556020200252533  accuracy: 0.6587998867034912\n",
      "Epoch 24, CIFAR-10 Batch 4:  cost: 0.7187646627426147  accuracy: 0.6569998860359192\n",
      "Epoch 24, CIFAR-10 Batch 5:  cost: 0.7542855739593506  accuracy: 0.6651999354362488\n",
      "Epoch 25, CIFAR-10 Batch 1:  cost: 0.7913020849227905  accuracy: 0.6659998893737793\n",
      "Epoch 25, CIFAR-10 Batch 2:  cost: 0.7102277874946594  accuracy: 0.6689999103546143\n",
      "Epoch 25, CIFAR-10 Batch 3:  cost: 0.6092687845230103  accuracy: 0.6563998460769653\n",
      "Epoch 25, CIFAR-10 Batch 4:  cost: 0.6854145526885986  accuracy: 0.6673998832702637\n",
      "Epoch 25, CIFAR-10 Batch 5:  cost: 0.7130077481269836  accuracy: 0.6673998832702637\n",
      "Epoch 26, CIFAR-10 Batch 1:  cost: 0.8219857215881348  accuracy: 0.66159987449646\n",
      "Epoch 26, CIFAR-10 Batch 2:  cost: 0.697236180305481  accuracy: 0.6641998291015625\n",
      "Epoch 26, CIFAR-10 Batch 3:  cost: 0.5783988833427429  accuracy: 0.6649999022483826\n",
      "Epoch 26, CIFAR-10 Batch 4:  cost: 0.6661113500595093  accuracy: 0.6777998805046082\n",
      "Epoch 26, CIFAR-10 Batch 5:  cost: 0.7133237719535828  accuracy: 0.6731998920440674\n",
      "Epoch 27, CIFAR-10 Batch 1:  cost: 0.7288762927055359  accuracy: 0.6755998730659485\n",
      "Epoch 27, CIFAR-10 Batch 2:  cost: 0.6641041040420532  accuracy: 0.6811999082565308\n",
      "Epoch 27, CIFAR-10 Batch 3:  cost: 0.5489420294761658  accuracy: 0.6675999164581299\n",
      "Epoch 27, CIFAR-10 Batch 4:  cost: 0.6846352815628052  accuracy: 0.665199875831604\n",
      "Epoch 27, CIFAR-10 Batch 5:  cost: 0.7152993083000183  accuracy: 0.6755998730659485\n",
      "Epoch 28, CIFAR-10 Batch 1:  cost: 0.7361581325531006  accuracy: 0.6767998933792114\n",
      "Epoch 28, CIFAR-10 Batch 2:  cost: 0.6856704354286194  accuracy: 0.6759998798370361\n",
      "Epoch 28, CIFAR-10 Batch 3:  cost: 0.5199756622314453  accuracy: 0.6721999049186707\n",
      "Epoch 28, CIFAR-10 Batch 4:  cost: 0.6243939995765686  accuracy: 0.6831998825073242\n",
      "Epoch 28, CIFAR-10 Batch 5:  cost: 0.7306625843048096  accuracy: 0.6821998357772827\n",
      "Epoch 29, CIFAR-10 Batch 1:  cost: 0.6768651008605957  accuracy: 0.672999918460846\n",
      "Epoch 29, CIFAR-10 Batch 2:  cost: 0.6145041584968567  accuracy: 0.6803998351097107\n",
      "Epoch 29, CIFAR-10 Batch 3:  cost: 0.5072826147079468  accuracy: 0.6757999658584595\n",
      "Epoch 29, CIFAR-10 Batch 4:  cost: 0.6680829524993896  accuracy: 0.663399875164032\n",
      "Epoch 29, CIFAR-10 Batch 5:  cost: 0.6881427764892578  accuracy: 0.679999828338623\n",
      "Epoch 30, CIFAR-10 Batch 1:  cost: 0.6965040564537048  accuracy: 0.6743998527526855\n",
      "Epoch 30, CIFAR-10 Batch 2:  cost: 0.6598066091537476  accuracy: 0.6811999082565308\n",
      "Epoch 30, CIFAR-10 Batch 3:  cost: 0.5131011009216309  accuracy: 0.6789999604225159\n",
      "Epoch 30, CIFAR-10 Batch 4:  cost: 0.6246544122695923  accuracy: 0.6857998371124268\n",
      "Epoch 30, CIFAR-10 Batch 5:  cost: 0.6981576085090637  accuracy: 0.6757999062538147\n",
      "Epoch 31, CIFAR-10 Batch 1:  cost: 0.6835793852806091  accuracy: 0.6823998689651489\n",
      "Epoch 31, CIFAR-10 Batch 2:  cost: 0.6769999861717224  accuracy: 0.6893998980522156\n",
      "Epoch 31, CIFAR-10 Batch 3:  cost: 0.5237396955490112  accuracy: 0.6813998222351074\n",
      "Epoch 31, CIFAR-10 Batch 4:  cost: 0.598100483417511  accuracy: 0.6767999529838562\n",
      "Epoch 31, CIFAR-10 Batch 5:  cost: 0.6480492353439331  accuracy: 0.6845998764038086\n",
      "Epoch 32, CIFAR-10 Batch 1:  cost: 0.6661234498023987  accuracy: 0.6881998777389526\n",
      "Epoch 32, CIFAR-10 Batch 2:  cost: 0.6874678134918213  accuracy: 0.6777999401092529\n",
      "Epoch 32, CIFAR-10 Batch 3:  cost: 0.5024082064628601  accuracy: 0.6901999115943909\n",
      "Epoch 32, CIFAR-10 Batch 4:  cost: 0.574047327041626  accuracy: 0.6917998790740967\n",
      "Epoch 32, CIFAR-10 Batch 5:  cost: 0.6786254644393921  accuracy: 0.6945998668670654\n",
      "Epoch 33, CIFAR-10 Batch 1:  cost: 0.6563788056373596  accuracy: 0.6839998364448547\n",
      "Epoch 33, CIFAR-10 Batch 2:  cost: 0.6466660499572754  accuracy: 0.6773998737335205\n",
      "Epoch 33, CIFAR-10 Batch 3:  cost: 0.46438068151474  accuracy: 0.6917998790740967\n",
      "Epoch 33, CIFAR-10 Batch 4:  cost: 0.5443361401557922  accuracy: 0.6909998655319214\n",
      "Epoch 33, CIFAR-10 Batch 5:  cost: 0.6149719953536987  accuracy: 0.682999849319458\n",
      "Epoch 34, CIFAR-10 Batch 1:  cost: 0.6965415477752686  accuracy: 0.6777998805046082\n",
      "Epoch 34, CIFAR-10 Batch 2:  cost: 0.6847589015960693  accuracy: 0.6813998818397522\n",
      "Epoch 34, CIFAR-10 Batch 3:  cost: 0.4947693943977356  accuracy: 0.6873999238014221\n",
      "Epoch 34, CIFAR-10 Batch 4:  cost: 0.5542553067207336  accuracy: 0.6899998188018799\n",
      "Epoch 34, CIFAR-10 Batch 5:  cost: 0.6506265997886658  accuracy: 0.6931998133659363\n",
      "Epoch 35, CIFAR-10 Batch 1:  cost: 0.6376423239707947  accuracy: 0.6825999021530151\n",
      "Epoch 35, CIFAR-10 Batch 2:  cost: 0.601910412311554  accuracy: 0.69159996509552\n",
      "Epoch 35, CIFAR-10 Batch 3:  cost: 0.4507732093334198  accuracy: 0.6835998296737671\n",
      "Epoch 35, CIFAR-10 Batch 4:  cost: 0.5478083491325378  accuracy: 0.6857998967170715\n",
      "Epoch 35, CIFAR-10 Batch 5:  cost: 0.6199108958244324  accuracy: 0.6889998316764832\n",
      "Epoch 36, CIFAR-10 Batch 1:  cost: 0.6195929050445557  accuracy: 0.6873998641967773\n",
      "Epoch 36, CIFAR-10 Batch 2:  cost: 0.6449271440505981  accuracy: 0.6875998973846436\n",
      "Epoch 36, CIFAR-10 Batch 3:  cost: 0.49700820446014404  accuracy: 0.6871998310089111\n",
      "Epoch 36, CIFAR-10 Batch 4:  cost: 0.5535992383956909  accuracy: 0.6921998858451843\n",
      "Epoch 36, CIFAR-10 Batch 5:  cost: 0.5851097702980042  accuracy: 0.6935998797416687\n",
      "Epoch 37, CIFAR-10 Batch 1:  cost: 0.6071743369102478  accuracy: 0.6955997943878174\n",
      "Epoch 37, CIFAR-10 Batch 2:  cost: 0.6211071610450745  accuracy: 0.6849998831748962\n",
      "Epoch 37, CIFAR-10 Batch 3:  cost: 0.4960569739341736  accuracy: 0.6829999089241028\n",
      "Epoch 37, CIFAR-10 Batch 4:  cost: 0.5310785174369812  accuracy: 0.6969997882843018\n",
      "Epoch 37, CIFAR-10 Batch 5:  cost: 0.5893509387969971  accuracy: 0.6987999081611633\n",
      "Epoch 38, CIFAR-10 Batch 1:  cost: 0.6057633757591248  accuracy: 0.689599871635437\n",
      "Epoch 38, CIFAR-10 Batch 2:  cost: 0.5461957454681396  accuracy: 0.6993998885154724\n",
      "Epoch 38, CIFAR-10 Batch 3:  cost: 0.47409769892692566  accuracy: 0.6891998648643494\n",
      "Epoch 38, CIFAR-10 Batch 4:  cost: 0.5209406018257141  accuracy: 0.6911998391151428\n",
      "Epoch 38, CIFAR-10 Batch 5:  cost: 0.5861363410949707  accuracy: 0.6849998831748962\n",
      "Epoch 39, CIFAR-10 Batch 1:  cost: 0.5730130076408386  accuracy: 0.6929998397827148\n",
      "Epoch 39, CIFAR-10 Batch 2:  cost: 0.6160890460014343  accuracy: 0.6957998275756836\n",
      "Epoch 39, CIFAR-10 Batch 3:  cost: 0.42847132682800293  accuracy: 0.6939998269081116\n",
      "Epoch 39, CIFAR-10 Batch 4:  cost: 0.5118178129196167  accuracy: 0.6951999068260193\n",
      "Epoch 39, CIFAR-10 Batch 5:  cost: 0.5802181959152222  accuracy: 0.6943998336791992\n",
      "Epoch 40, CIFAR-10 Batch 1:  cost: 0.5672914385795593  accuracy: 0.707399845123291\n",
      "Epoch 40, CIFAR-10 Batch 2:  cost: 0.566367506980896  accuracy: 0.6891998648643494\n",
      "Epoch 40, CIFAR-10 Batch 3:  cost: 0.4141460657119751  accuracy: 0.6985998749732971\n",
      "Epoch 40, CIFAR-10 Batch 4:  cost: 0.5325881838798523  accuracy: 0.6781998872756958\n",
      "Epoch 40, CIFAR-10 Batch 5:  cost: 0.6227381229400635  accuracy: 0.6941998600959778\n",
      "Epoch 41, CIFAR-10 Batch 1:  cost: 0.5729798674583435  accuracy: 0.6945998668670654\n",
      "Epoch 41, CIFAR-10 Batch 2:  cost: 0.6131904125213623  accuracy: 0.6935998797416687\n",
      "Epoch 41, CIFAR-10 Batch 3:  cost: 0.4117226302623749  accuracy: 0.7005999088287354\n",
      "Epoch 41, CIFAR-10 Batch 4:  cost: 0.5118089318275452  accuracy: 0.6913999319076538\n",
      "Epoch 41, CIFAR-10 Batch 5:  cost: 0.5488344430923462  accuracy: 0.7003998160362244\n",
      "Epoch 42, CIFAR-10 Batch 1:  cost: 0.5643824934959412  accuracy: 0.709199845790863\n",
      "Epoch 42, CIFAR-10 Batch 2:  cost: 0.6210413575172424  accuracy: 0.7011998891830444\n",
      "Epoch 42, CIFAR-10 Batch 3:  cost: 0.39792293310165405  accuracy: 0.7059998512268066\n",
      "Epoch 42, CIFAR-10 Batch 4:  cost: 0.44990265369415283  accuracy: 0.6917998790740967\n",
      "Epoch 42, CIFAR-10 Batch 5:  cost: 0.5291038751602173  accuracy: 0.696199893951416\n",
      "Epoch 43, CIFAR-10 Batch 1:  cost: 0.5806341171264648  accuracy: 0.6993998289108276\n",
      "Epoch 43, CIFAR-10 Batch 2:  cost: 0.5737005472183228  accuracy: 0.6927998661994934\n",
      "Epoch 43, CIFAR-10 Batch 3:  cost: 0.4248853325843811  accuracy: 0.6947999000549316\n",
      "Epoch 43, CIFAR-10 Batch 4:  cost: 0.5077019929885864  accuracy: 0.703799843788147\n",
      "Epoch 43, CIFAR-10 Batch 5:  cost: 0.5769401788711548  accuracy: 0.7061998844146729\n",
      "Epoch 44, CIFAR-10 Batch 1:  cost: 0.5249536633491516  accuracy: 0.6983998417854309\n",
      "Epoch 44, CIFAR-10 Batch 2:  cost: 0.5961924195289612  accuracy: 0.6869998574256897\n",
      "Epoch 44, CIFAR-10 Batch 3:  cost: 0.3811156451702118  accuracy: 0.7065998911857605\n",
      "Epoch 44, CIFAR-10 Batch 4:  cost: 0.4968465566635132  accuracy: 0.7041997909545898\n",
      "Epoch 44, CIFAR-10 Batch 5:  cost: 0.5720036029815674  accuracy: 0.7011998891830444\n",
      "Epoch 45, CIFAR-10 Batch 1:  cost: 0.5195974111557007  accuracy: 0.7021998167037964\n",
      "Epoch 45, CIFAR-10 Batch 2:  cost: 0.5846892595291138  accuracy: 0.7013998031616211\n",
      "Epoch 45, CIFAR-10 Batch 3:  cost: 0.39693060517311096  accuracy: 0.7011998891830444\n",
      "Epoch 45, CIFAR-10 Batch 4:  cost: 0.443600594997406  accuracy: 0.7045998573303223\n",
      "Epoch 45, CIFAR-10 Batch 5:  cost: 0.5684119462966919  accuracy: 0.6987998485565186\n",
      "Epoch 46, CIFAR-10 Batch 1:  cost: 0.5568195581436157  accuracy: 0.7035998702049255\n",
      "Epoch 46, CIFAR-10 Batch 2:  cost: 0.5365380048751831  accuracy: 0.7025998830795288\n",
      "Epoch 46, CIFAR-10 Batch 3:  cost: 0.38596150279045105  accuracy: 0.7083998918533325\n",
      "Epoch 46, CIFAR-10 Batch 4:  cost: 0.4434398412704468  accuracy: 0.6983999013900757\n",
      "Epoch 46, CIFAR-10 Batch 5:  cost: 0.5239994525909424  accuracy: 0.7027997970581055\n",
      "Epoch 47, CIFAR-10 Batch 1:  cost: 0.5364105701446533  accuracy: 0.707399845123291\n",
      "Epoch 47, CIFAR-10 Batch 2:  cost: 0.5853309035301208  accuracy: 0.7047998309135437\n",
      "Epoch 47, CIFAR-10 Batch 3:  cost: 0.42565983533859253  accuracy: 0.7039998173713684\n",
      "Epoch 47, CIFAR-10 Batch 4:  cost: 0.4475291967391968  accuracy: 0.697399914264679\n",
      "Epoch 47, CIFAR-10 Batch 5:  cost: 0.5805761814117432  accuracy: 0.6949998736381531\n",
      "Epoch 48, CIFAR-10 Batch 1:  cost: 0.5599331259727478  accuracy: 0.6977998614311218\n",
      "Epoch 48, CIFAR-10 Batch 2:  cost: 0.5467877388000488  accuracy: 0.7051998376846313\n",
      "Epoch 48, CIFAR-10 Batch 3:  cost: 0.3538781404495239  accuracy: 0.700999915599823\n",
      "Epoch 48, CIFAR-10 Batch 4:  cost: 0.4320143759250641  accuracy: 0.7035998702049255\n",
      "Epoch 48, CIFAR-10 Batch 5:  cost: 0.4839130938053131  accuracy: 0.7031998634338379\n",
      "Epoch 49, CIFAR-10 Batch 1:  cost: 0.5013617277145386  accuracy: 0.7111998796463013\n",
      "Epoch 49, CIFAR-10 Batch 2:  cost: 0.5202125310897827  accuracy: 0.6973998546600342\n",
      "Epoch 49, CIFAR-10 Batch 3:  cost: 0.35177046060562134  accuracy: 0.7051998376846313\n",
      "Epoch 49, CIFAR-10 Batch 4:  cost: 0.4202660322189331  accuracy: 0.7177998423576355\n",
      "Epoch 49, CIFAR-10 Batch 5:  cost: 0.504913330078125  accuracy: 0.7189998626708984\n",
      "Epoch 50, CIFAR-10 Batch 1:  cost: 0.5019165873527527  accuracy: 0.703799843788147\n",
      "Epoch 50, CIFAR-10 Batch 2:  cost: 0.526141881942749  accuracy: 0.7087998390197754\n",
      "Epoch 50, CIFAR-10 Batch 3:  cost: 0.3892771601676941  accuracy: 0.715599775314331\n",
      "Epoch 50, CIFAR-10 Batch 4:  cost: 0.48993632197380066  accuracy: 0.7113998532295227\n",
      "Epoch 50, CIFAR-10 Batch 5:  cost: 0.5030156373977661  accuracy: 0.7081998586654663\n",
      "Epoch 51, CIFAR-10 Batch 1:  cost: 0.4679226577281952  accuracy: 0.7079998254776001\n",
      "Epoch 51, CIFAR-10 Batch 2:  cost: 0.5304813385009766  accuracy: 0.7003999352455139\n",
      "Epoch 51, CIFAR-10 Batch 3:  cost: 0.40721967816352844  accuracy: 0.7061998248100281\n",
      "Epoch 51, CIFAR-10 Batch 4:  cost: 0.4136102497577667  accuracy: 0.7111998796463013\n",
      "Epoch 51, CIFAR-10 Batch 5:  cost: 0.5062459707260132  accuracy: 0.7027998566627502\n",
      "Epoch 52, CIFAR-10 Batch 1:  cost: 0.48341888189315796  accuracy: 0.7115998268127441\n",
      "Epoch 52, CIFAR-10 Batch 2:  cost: 0.5227574706077576  accuracy: 0.6985998749732971\n",
      "Epoch 52, CIFAR-10 Batch 3:  cost: 0.3414955735206604  accuracy: 0.7089998722076416\n",
      "Epoch 52, CIFAR-10 Batch 4:  cost: 0.47802430391311646  accuracy: 0.7147998809814453\n",
      "Epoch 52, CIFAR-10 Batch 5:  cost: 0.47510993480682373  accuracy: 0.709199845790863\n",
      "Epoch 53, CIFAR-10 Batch 1:  cost: 0.5362000465393066  accuracy: 0.7097998857498169\n",
      "Epoch 53, CIFAR-10 Batch 2:  cost: 0.4726996421813965  accuracy: 0.715199887752533\n",
      "Epoch 53, CIFAR-10 Batch 3:  cost: 0.39322608709335327  accuracy: 0.7059998512268066\n",
      "Epoch 53, CIFAR-10 Batch 4:  cost: 0.38474518060684204  accuracy: 0.710399866104126\n",
      "Epoch 53, CIFAR-10 Batch 5:  cost: 0.603538990020752  accuracy: 0.680199921131134\n",
      "Epoch 54, CIFAR-10 Batch 1:  cost: 0.46436989307403564  accuracy: 0.7127998471260071\n",
      "Epoch 54, CIFAR-10 Batch 2:  cost: 0.46816372871398926  accuracy: 0.7135998606681824\n",
      "Epoch 54, CIFAR-10 Batch 3:  cost: 0.353013277053833  accuracy: 0.7125998735427856\n",
      "Epoch 54, CIFAR-10 Batch 4:  cost: 0.43324053287506104  accuracy: 0.7101998329162598\n",
      "Epoch 54, CIFAR-10 Batch 5:  cost: 0.5139721035957336  accuracy: 0.7067998647689819\n",
      "Epoch 55, CIFAR-10 Batch 1:  cost: 0.4593799114227295  accuracy: 0.7167998552322388\n",
      "Epoch 55, CIFAR-10 Batch 2:  cost: 0.4258784353733063  accuracy: 0.7087998390197754\n",
      "Epoch 55, CIFAR-10 Batch 3:  cost: 0.35059958696365356  accuracy: 0.7147998213768005\n",
      "Epoch 55, CIFAR-10 Batch 4:  cost: 0.4186013638973236  accuracy: 0.7101998329162598\n",
      "Epoch 55, CIFAR-10 Batch 5:  cost: 0.466854453086853  accuracy: 0.7127998471260071\n",
      "Epoch 56, CIFAR-10 Batch 1:  cost: 0.435990571975708  accuracy: 0.7089998722076416\n",
      "Epoch 56, CIFAR-10 Batch 2:  cost: 0.45014339685440063  accuracy: 0.7133998274803162\n",
      "Epoch 56, CIFAR-10 Batch 3:  cost: 0.3083131015300751  accuracy: 0.7149998545646667\n",
      "Epoch 56, CIFAR-10 Batch 4:  cost: 0.4398874342441559  accuracy: 0.7207998037338257\n",
      "Epoch 56, CIFAR-10 Batch 5:  cost: 0.5062034726142883  accuracy: 0.7109999060630798\n",
      "Epoch 57, CIFAR-10 Batch 1:  cost: 0.48766815662384033  accuracy: 0.709199845790863\n",
      "Epoch 57, CIFAR-10 Batch 2:  cost: 0.48747509717941284  accuracy: 0.703799843788147\n",
      "Epoch 57, CIFAR-10 Batch 3:  cost: 0.3557435870170593  accuracy: 0.7081998586654663\n",
      "Epoch 57, CIFAR-10 Batch 4:  cost: 0.45189788937568665  accuracy: 0.7071998715400696\n",
      "Epoch 57, CIFAR-10 Batch 5:  cost: 0.4819834232330322  accuracy: 0.7225998044013977\n",
      "Epoch 58, CIFAR-10 Batch 1:  cost: 0.4639672040939331  accuracy: 0.7201998829841614\n",
      "Epoch 58, CIFAR-10 Batch 2:  cost: 0.4994582533836365  accuracy: 0.7057998776435852\n",
      "Epoch 58, CIFAR-10 Batch 3:  cost: 0.3203507661819458  accuracy: 0.7117998600006104\n",
      "Epoch 58, CIFAR-10 Batch 4:  cost: 0.40882307291030884  accuracy: 0.715199887752533\n",
      "Epoch 58, CIFAR-10 Batch 5:  cost: 0.4321863651275635  accuracy: 0.7087998986244202\n",
      "Epoch 59, CIFAR-10 Batch 1:  cost: 0.4857232868671417  accuracy: 0.7143998146057129\n",
      "Epoch 59, CIFAR-10 Batch 2:  cost: 0.43282419443130493  accuracy: 0.7117999196052551\n",
      "Epoch 59, CIFAR-10 Batch 3:  cost: 0.3435947895050049  accuracy: 0.7183997631072998\n",
      "Epoch 59, CIFAR-10 Batch 4:  cost: 0.45662248134613037  accuracy: 0.7113999128341675\n",
      "Epoch 59, CIFAR-10 Batch 5:  cost: 0.4941040277481079  accuracy: 0.7075998187065125\n",
      "Epoch 60, CIFAR-10 Batch 1:  cost: 0.5083067417144775  accuracy: 0.7109998464584351\n",
      "Epoch 60, CIFAR-10 Batch 2:  cost: 0.4521767497062683  accuracy: 0.7081998586654663\n",
      "Epoch 60, CIFAR-10 Batch 3:  cost: 0.33859002590179443  accuracy: 0.7179998159408569\n",
      "Epoch 60, CIFAR-10 Batch 4:  cost: 0.38485193252563477  accuracy: 0.719799816608429\n",
      "Epoch 60, CIFAR-10 Batch 5:  cost: 0.4224867820739746  accuracy: 0.7175998687744141\n",
      "Epoch 61, CIFAR-10 Batch 1:  cost: 0.44919446110725403  accuracy: 0.7119998931884766\n",
      "Epoch 61, CIFAR-10 Batch 2:  cost: 0.46461495757102966  accuracy: 0.7147998213768005\n",
      "Epoch 61, CIFAR-10 Batch 3:  cost: 0.3299597203731537  accuracy: 0.7093998789787292\n",
      "Epoch 61, CIFAR-10 Batch 4:  cost: 0.3768368661403656  accuracy: 0.7161998748779297\n",
      "Epoch 61, CIFAR-10 Batch 5:  cost: 0.39618775248527527  accuracy: 0.7109998464584351\n",
      "Epoch 62, CIFAR-10 Batch 1:  cost: 0.4550968408584595  accuracy: 0.7133998870849609\n",
      "Epoch 62, CIFAR-10 Batch 2:  cost: 0.46004366874694824  accuracy: 0.7159998416900635\n",
      "Epoch 62, CIFAR-10 Batch 3:  cost: 0.3159096837043762  accuracy: 0.7225998640060425\n",
      "Epoch 62, CIFAR-10 Batch 4:  cost: 0.4527641832828522  accuracy: 0.704399824142456\n",
      "Epoch 62, CIFAR-10 Batch 5:  cost: 0.41132938861846924  accuracy: 0.7111998200416565\n",
      "Epoch 63, CIFAR-10 Batch 1:  cost: 0.4298306703567505  accuracy: 0.7193998694419861\n",
      "Epoch 63, CIFAR-10 Batch 2:  cost: 0.429414838552475  accuracy: 0.7205998301506042\n",
      "Epoch 63, CIFAR-10 Batch 3:  cost: 0.3255249559879303  accuracy: 0.715199887752533\n",
      "Epoch 63, CIFAR-10 Batch 4:  cost: 0.3756956458091736  accuracy: 0.7205998301506042\n",
      "Epoch 63, CIFAR-10 Batch 5:  cost: 0.43226781487464905  accuracy: 0.7151998281478882\n",
      "Epoch 64, CIFAR-10 Batch 1:  cost: 0.4443734884262085  accuracy: 0.7249998450279236\n",
      "Epoch 64, CIFAR-10 Batch 2:  cost: 0.4372886121273041  accuracy: 0.710399866104126\n",
      "Epoch 64, CIFAR-10 Batch 3:  cost: 0.3506854772567749  accuracy: 0.7167998552322388\n",
      "Epoch 64, CIFAR-10 Batch 4:  cost: 0.4187485873699188  accuracy: 0.7113997936248779\n",
      "Epoch 64, CIFAR-10 Batch 5:  cost: 0.4135928153991699  accuracy: 0.7151998281478882\n",
      "Epoch 65, CIFAR-10 Batch 1:  cost: 0.44125351309776306  accuracy: 0.7265998721122742\n",
      "Epoch 65, CIFAR-10 Batch 2:  cost: 0.46140265464782715  accuracy: 0.7147998809814453\n",
      "Epoch 65, CIFAR-10 Batch 3:  cost: 0.3241671025753021  accuracy: 0.7197998762130737\n",
      "Epoch 65, CIFAR-10 Batch 4:  cost: 0.38989096879959106  accuracy: 0.7193998098373413\n",
      "Epoch 65, CIFAR-10 Batch 5:  cost: 0.3913496434688568  accuracy: 0.7253998517990112\n",
      "Epoch 66, CIFAR-10 Batch 1:  cost: 0.4415992200374603  accuracy: 0.7235997915267944\n",
      "Epoch 66, CIFAR-10 Batch 2:  cost: 0.47285139560699463  accuracy: 0.7083998918533325\n",
      "Epoch 66, CIFAR-10 Batch 3:  cost: 0.31530192494392395  accuracy: 0.7093998789787292\n",
      "Epoch 66, CIFAR-10 Batch 4:  cost: 0.3959525227546692  accuracy: 0.7151998281478882\n",
      "Epoch 66, CIFAR-10 Batch 5:  cost: 0.4115775227546692  accuracy: 0.7081998586654663\n",
      "Epoch 67, CIFAR-10 Batch 1:  cost: 0.43844181299209595  accuracy: 0.7185998558998108\n",
      "Epoch 67, CIFAR-10 Batch 2:  cost: 0.45324820280075073  accuracy: 0.7205998301506042\n",
      "Epoch 67, CIFAR-10 Batch 3:  cost: 0.34470057487487793  accuracy: 0.7199998497962952\n",
      "Epoch 67, CIFAR-10 Batch 4:  cost: 0.4208090007305145  accuracy: 0.7191998362541199\n",
      "Epoch 67, CIFAR-10 Batch 5:  cost: 0.3888024091720581  accuracy: 0.7143998146057129\n",
      "Epoch 68, CIFAR-10 Batch 1:  cost: 0.4495895802974701  accuracy: 0.7177998423576355\n",
      "Epoch 68, CIFAR-10 Batch 2:  cost: 0.4605700671672821  accuracy: 0.7133998274803162\n",
      "Epoch 68, CIFAR-10 Batch 3:  cost: 0.30813729763031006  accuracy: 0.7127997875213623\n",
      "Epoch 68, CIFAR-10 Batch 4:  cost: 0.3618459701538086  accuracy: 0.7179998755455017\n",
      "Epoch 68, CIFAR-10 Batch 5:  cost: 0.42056480050086975  accuracy: 0.7141997814178467\n",
      "Epoch 69, CIFAR-10 Batch 1:  cost: 0.4090301990509033  accuracy: 0.7221998572349548\n",
      "Epoch 69, CIFAR-10 Batch 2:  cost: 0.46621501445770264  accuracy: 0.719799816608429\n",
      "Epoch 69, CIFAR-10 Batch 3:  cost: 0.31889238953590393  accuracy: 0.7203998565673828\n",
      "Epoch 69, CIFAR-10 Batch 4:  cost: 0.34926900267601013  accuracy: 0.7199999094009399\n",
      "Epoch 69, CIFAR-10 Batch 5:  cost: 0.40782630443573  accuracy: 0.7155998349189758\n",
      "Epoch 70, CIFAR-10 Batch 1:  cost: 0.4463973343372345  accuracy: 0.7257998585700989\n",
      "Epoch 70, CIFAR-10 Batch 2:  cost: 0.4128953814506531  accuracy: 0.7109998464584351\n",
      "Epoch 70, CIFAR-10 Batch 3:  cost: 0.3234201669692993  accuracy: 0.7171998023986816\n",
      "Epoch 70, CIFAR-10 Batch 4:  cost: 0.3377583920955658  accuracy: 0.726399838924408\n",
      "Epoch 70, CIFAR-10 Batch 5:  cost: 0.39042115211486816  accuracy: 0.7143998146057129\n",
      "Epoch 71, CIFAR-10 Batch 1:  cost: 0.4228796362876892  accuracy: 0.7227998971939087\n",
      "Epoch 71, CIFAR-10 Batch 2:  cost: 0.4159244894981384  accuracy: 0.7151998281478882\n",
      "Epoch 71, CIFAR-10 Batch 3:  cost: 0.30798548460006714  accuracy: 0.7183998823165894\n",
      "Epoch 71, CIFAR-10 Batch 4:  cost: 0.37885522842407227  accuracy: 0.7161998152732849\n",
      "Epoch 71, CIFAR-10 Batch 5:  cost: 0.3994574546813965  accuracy: 0.7129998803138733\n",
      "Epoch 72, CIFAR-10 Batch 1:  cost: 0.4341672956943512  accuracy: 0.7205998301506042\n",
      "Epoch 72, CIFAR-10 Batch 2:  cost: 0.42503732442855835  accuracy: 0.7163998484611511\n",
      "Epoch 72, CIFAR-10 Batch 3:  cost: 0.30268558859825134  accuracy: 0.7219998240470886\n",
      "Epoch 72, CIFAR-10 Batch 4:  cost: 0.3788999319076538  accuracy: 0.7137998342514038\n",
      "Epoch 72, CIFAR-10 Batch 5:  cost: 0.3688579797744751  accuracy: 0.7225998640060425\n",
      "Epoch 73, CIFAR-10 Batch 1:  cost: 0.4628719389438629  accuracy: 0.7115998268127441\n",
      "Epoch 73, CIFAR-10 Batch 2:  cost: 0.4099150002002716  accuracy: 0.7203998565673828\n",
      "Epoch 73, CIFAR-10 Batch 3:  cost: 0.2876184582710266  accuracy: 0.7199999094009399\n",
      "Epoch 73, CIFAR-10 Batch 4:  cost: 0.3721197843551636  accuracy: 0.723399817943573\n",
      "Epoch 73, CIFAR-10 Batch 5:  cost: 0.3956196904182434  accuracy: 0.7147998809814453\n",
      "Epoch 74, CIFAR-10 Batch 1:  cost: 0.42220836877822876  accuracy: 0.7195998430252075\n",
      "Epoch 74, CIFAR-10 Batch 2:  cost: 0.3821801245212555  accuracy: 0.7201998829841614\n",
      "Epoch 74, CIFAR-10 Batch 3:  cost: 0.293580025434494  accuracy: 0.723399817943573\n",
      "Epoch 74, CIFAR-10 Batch 4:  cost: 0.3440113365650177  accuracy: 0.7189998626708984\n",
      "Epoch 74, CIFAR-10 Batch 5:  cost: 0.3714359998703003  accuracy: 0.7117998003959656\n",
      "Epoch 75, CIFAR-10 Batch 1:  cost: 0.4100489318370819  accuracy: 0.7227997779846191\n",
      "Epoch 75, CIFAR-10 Batch 2:  cost: 0.4084646701812744  accuracy: 0.7219998836517334\n",
      "Epoch 75, CIFAR-10 Batch 3:  cost: 0.2943260669708252  accuracy: 0.723599910736084\n",
      "Epoch 75, CIFAR-10 Batch 4:  cost: 0.3263176381587982  accuracy: 0.7233998775482178\n",
      "Epoch 75, CIFAR-10 Batch 5:  cost: 0.44443273544311523  accuracy: 0.714999794960022\n",
      "Epoch 76, CIFAR-10 Batch 1:  cost: 0.3804076611995697  accuracy: 0.7285998463630676\n",
      "Epoch 76, CIFAR-10 Batch 2:  cost: 0.42598336935043335  accuracy: 0.7177998423576355\n",
      "Epoch 76, CIFAR-10 Batch 3:  cost: 0.2727397680282593  accuracy: 0.7213998436927795\n",
      "Epoch 76, CIFAR-10 Batch 4:  cost: 0.3424225151538849  accuracy: 0.7271997928619385\n",
      "Epoch 76, CIFAR-10 Batch 5:  cost: 0.4246859550476074  accuracy: 0.720399796962738\n",
      "Epoch 77, CIFAR-10 Batch 1:  cost: 0.4534236788749695  accuracy: 0.7091999053955078\n",
      "Epoch 77, CIFAR-10 Batch 2:  cost: 0.39038097858428955  accuracy: 0.7273998856544495\n",
      "Epoch 77, CIFAR-10 Batch 3:  cost: 0.2858414947986603  accuracy: 0.718799889087677\n",
      "Epoch 77, CIFAR-10 Batch 4:  cost: 0.3237934410572052  accuracy: 0.7275998592376709\n",
      "Epoch 77, CIFAR-10 Batch 5:  cost: 0.35654640197753906  accuracy: 0.7243998050689697\n",
      "Epoch 78, CIFAR-10 Batch 1:  cost: 0.44914233684539795  accuracy: 0.726399838924408\n",
      "Epoch 78, CIFAR-10 Batch 2:  cost: 0.3926888108253479  accuracy: 0.7247998118400574\n",
      "Epoch 78, CIFAR-10 Batch 3:  cost: 0.28565093874931335  accuracy: 0.7131999135017395\n",
      "Epoch 78, CIFAR-10 Batch 4:  cost: 0.3739091157913208  accuracy: 0.7205998301506042\n",
      "Epoch 78, CIFAR-10 Batch 5:  cost: 0.42445820569992065  accuracy: 0.7147998809814453\n",
      "Epoch 79, CIFAR-10 Batch 1:  cost: 0.4354832172393799  accuracy: 0.7255998849868774\n",
      "Epoch 79, CIFAR-10 Batch 2:  cost: 0.4034635126590729  accuracy: 0.7181998491287231\n",
      "Epoch 79, CIFAR-10 Batch 3:  cost: 0.33193254470825195  accuracy: 0.7219998836517334\n",
      "Epoch 79, CIFAR-10 Batch 4:  cost: 0.33696502447128296  accuracy: 0.7143998146057129\n",
      "Epoch 79, CIFAR-10 Batch 5:  cost: 0.39204221963882446  accuracy: 0.7127998471260071\n",
      "Epoch 80, CIFAR-10 Batch 1:  cost: 0.44771823287010193  accuracy: 0.7259998917579651\n",
      "Epoch 80, CIFAR-10 Batch 2:  cost: 0.38784652948379517  accuracy: 0.7249997854232788\n",
      "Epoch 80, CIFAR-10 Batch 3:  cost: 0.2890813946723938  accuracy: 0.7191998958587646\n",
      "Epoch 80, CIFAR-10 Batch 4:  cost: 0.35083502531051636  accuracy: 0.7199997901916504\n",
      "Epoch 80, CIFAR-10 Batch 5:  cost: 0.3990786671638489  accuracy: 0.7105998992919922\n",
      "Epoch 81, CIFAR-10 Batch 1:  cost: 0.3972635865211487  accuracy: 0.7239997982978821\n",
      "Epoch 81, CIFAR-10 Batch 2:  cost: 0.4245232343673706  accuracy: 0.7201998233795166\n",
      "Epoch 81, CIFAR-10 Batch 3:  cost: 0.2811974883079529  accuracy: 0.7249998450279236\n",
      "Epoch 81, CIFAR-10 Batch 4:  cost: 0.33404457569122314  accuracy: 0.7161998748779297\n",
      "Epoch 81, CIFAR-10 Batch 5:  cost: 0.3823481798171997  accuracy: 0.7039998173713684\n",
      "Epoch 82, CIFAR-10 Batch 1:  cost: 0.4300002455711365  accuracy: 0.7209998965263367\n",
      "Epoch 82, CIFAR-10 Batch 2:  cost: 0.4144972562789917  accuracy: 0.7209998369216919\n",
      "Epoch 82, CIFAR-10 Batch 3:  cost: 0.29997217655181885  accuracy: 0.7175998687744141\n",
      "Epoch 82, CIFAR-10 Batch 4:  cost: 0.3220374882221222  accuracy: 0.7259998917579651\n",
      "Epoch 82, CIFAR-10 Batch 5:  cost: 0.3765004277229309  accuracy: 0.7195998430252075\n",
      "Epoch 83, CIFAR-10 Batch 1:  cost: 0.423355370759964  accuracy: 0.7217998504638672\n",
      "Epoch 83, CIFAR-10 Batch 2:  cost: 0.39163830876350403  accuracy: 0.7191998958587646\n",
      "Epoch 83, CIFAR-10 Batch 3:  cost: 0.27749207615852356  accuracy: 0.7215998768806458\n",
      "Epoch 83, CIFAR-10 Batch 4:  cost: 0.3547963798046112  accuracy: 0.720399796962738\n",
      "Epoch 83, CIFAR-10 Batch 5:  cost: 0.3737757205963135  accuracy: 0.7131998538970947\n",
      "Epoch 84, CIFAR-10 Batch 1:  cost: 0.4451161026954651  accuracy: 0.7227997779846191\n",
      "Epoch 84, CIFAR-10 Batch 2:  cost: 0.39899909496307373  accuracy: 0.720399796962738\n",
      "Epoch 84, CIFAR-10 Batch 3:  cost: 0.28613030910491943  accuracy: 0.7221998572349548\n",
      "Epoch 84, CIFAR-10 Batch 4:  cost: 0.3299436867237091  accuracy: 0.7159998416900635\n",
      "Epoch 84, CIFAR-10 Batch 5:  cost: 0.33169877529144287  accuracy: 0.7209998369216919\n",
      "Epoch 85, CIFAR-10 Batch 1:  cost: 0.3951694965362549  accuracy: 0.7321998476982117\n",
      "Epoch 85, CIFAR-10 Batch 2:  cost: 0.4065471887588501  accuracy: 0.7243998646736145\n",
      "Epoch 85, CIFAR-10 Batch 3:  cost: 0.2632009983062744  accuracy: 0.7265998721122742\n",
      "Epoch 85, CIFAR-10 Batch 4:  cost: 0.33046025037765503  accuracy: 0.7209998369216919\n",
      "Epoch 85, CIFAR-10 Batch 5:  cost: 0.3714735507965088  accuracy: 0.7225998640060425\n",
      "Epoch 86, CIFAR-10 Batch 1:  cost: 0.3939644694328308  accuracy: 0.7263998985290527\n",
      "Epoch 86, CIFAR-10 Batch 2:  cost: 0.3969665765762329  accuracy: 0.7247998714447021\n",
      "Epoch 86, CIFAR-10 Batch 3:  cost: 0.26800376176834106  accuracy: 0.7237998247146606\n",
      "Epoch 86, CIFAR-10 Batch 4:  cost: 0.38015538454055786  accuracy: 0.7225998640060425\n",
      "Epoch 86, CIFAR-10 Batch 5:  cost: 0.34096837043762207  accuracy: 0.7173998951911926\n",
      "Epoch 87, CIFAR-10 Batch 1:  cost: 0.41775602102279663  accuracy: 0.7295998334884644\n",
      "Epoch 87, CIFAR-10 Batch 2:  cost: 0.4014260470867157  accuracy: 0.7273997664451599\n",
      "Epoch 87, CIFAR-10 Batch 3:  cost: 0.26458901166915894  accuracy: 0.7245998978614807\n",
      "Epoch 87, CIFAR-10 Batch 4:  cost: 0.34239351749420166  accuracy: 0.7255997657775879\n",
      "Epoch 87, CIFAR-10 Batch 5:  cost: 0.358235239982605  accuracy: 0.7085999250411987\n",
      "Epoch 88, CIFAR-10 Batch 1:  cost: 0.4037284255027771  accuracy: 0.7291997671127319\n",
      "Epoch 88, CIFAR-10 Batch 2:  cost: 0.39885982871055603  accuracy: 0.7259998321533203\n",
      "Epoch 88, CIFAR-10 Batch 3:  cost: 0.27567484974861145  accuracy: 0.7191998362541199\n",
      "Epoch 88, CIFAR-10 Batch 4:  cost: 0.3420664072036743  accuracy: 0.7179998159408569\n",
      "Epoch 88, CIFAR-10 Batch 5:  cost: 0.3438243865966797  accuracy: 0.7089998722076416\n",
      "Epoch 89, CIFAR-10 Batch 1:  cost: 0.4034803509712219  accuracy: 0.7257997989654541\n",
      "Epoch 89, CIFAR-10 Batch 2:  cost: 0.4053479731082916  accuracy: 0.7233998775482178\n",
      "Epoch 89, CIFAR-10 Batch 3:  cost: 0.27718424797058105  accuracy: 0.7239997982978821\n",
      "Epoch 89, CIFAR-10 Batch 4:  cost: 0.2985588014125824  accuracy: 0.7279998660087585\n",
      "Epoch 89, CIFAR-10 Batch 5:  cost: 0.3274754285812378  accuracy: 0.7241998910903931\n",
      "Epoch 90, CIFAR-10 Batch 1:  cost: 0.392929345369339  accuracy: 0.7201998233795166\n",
      "Epoch 90, CIFAR-10 Batch 2:  cost: 0.40429598093032837  accuracy: 0.7233998775482178\n",
      "Epoch 90, CIFAR-10 Batch 3:  cost: 0.26118001341819763  accuracy: 0.7305998206138611\n",
      "Epoch 90, CIFAR-10 Batch 4:  cost: 0.3392999768257141  accuracy: 0.7303999066352844\n",
      "Epoch 90, CIFAR-10 Batch 5:  cost: 0.38144221901893616  accuracy: 0.7127999067306519\n",
      "Epoch 91, CIFAR-10 Batch 1:  cost: 0.3919118642807007  accuracy: 0.7305997610092163\n",
      "Epoch 91, CIFAR-10 Batch 2:  cost: 0.38572007417678833  accuracy: 0.7313998341560364\n",
      "Epoch 91, CIFAR-10 Batch 3:  cost: 0.23696976900100708  accuracy: 0.7277998328208923\n",
      "Epoch 91, CIFAR-10 Batch 4:  cost: 0.32117757201194763  accuracy: 0.72819983959198\n",
      "Epoch 91, CIFAR-10 Batch 5:  cost: 0.3812127113342285  accuracy: 0.7195998430252075\n",
      "Epoch 92, CIFAR-10 Batch 1:  cost: 0.34845787286758423  accuracy: 0.730199933052063\n",
      "Epoch 92, CIFAR-10 Batch 2:  cost: 0.41785117983818054  accuracy: 0.72819983959198\n",
      "Epoch 92, CIFAR-10 Batch 3:  cost: 0.2752678096294403  accuracy: 0.7207999229431152\n",
      "Epoch 92, CIFAR-10 Batch 4:  cost: 0.2939132750034332  accuracy: 0.7265998125076294\n",
      "Epoch 92, CIFAR-10 Batch 5:  cost: 0.35769370198249817  accuracy: 0.7237998247146606\n",
      "Epoch 93, CIFAR-10 Batch 1:  cost: 0.34683650732040405  accuracy: 0.7321999073028564\n",
      "Epoch 93, CIFAR-10 Batch 2:  cost: 0.4004160761833191  accuracy: 0.7243998646736145\n",
      "Epoch 93, CIFAR-10 Batch 3:  cost: 0.2744116485118866  accuracy: 0.7327998280525208\n",
      "Epoch 93, CIFAR-10 Batch 4:  cost: 0.3016895055770874  accuracy: 0.7283998131752014\n",
      "Epoch 93, CIFAR-10 Batch 5:  cost: 0.3156677484512329  accuracy: 0.7231998443603516\n",
      "Epoch 94, CIFAR-10 Batch 1:  cost: 0.39423197507858276  accuracy: 0.72819983959198\n",
      "Epoch 94, CIFAR-10 Batch 2:  cost: 0.4007301330566406  accuracy: 0.7253998517990112\n",
      "Epoch 94, CIFAR-10 Batch 3:  cost: 0.281802773475647  accuracy: 0.7293999195098877\n",
      "Epoch 94, CIFAR-10 Batch 4:  cost: 0.3311781883239746  accuracy: 0.7133998274803162\n",
      "Epoch 94, CIFAR-10 Batch 5:  cost: 0.322098970413208  accuracy: 0.7237998843193054\n",
      "Epoch 95, CIFAR-10 Batch 1:  cost: 0.38510408997535706  accuracy: 0.7237998843193054\n",
      "Epoch 95, CIFAR-10 Batch 2:  cost: 0.41510671377182007  accuracy: 0.7183998823165894\n",
      "Epoch 95, CIFAR-10 Batch 3:  cost: 0.27186107635498047  accuracy: 0.7155998349189758\n",
      "Epoch 95, CIFAR-10 Batch 4:  cost: 0.31530505418777466  accuracy: 0.7175998687744141\n",
      "Epoch 95, CIFAR-10 Batch 5:  cost: 0.3323996663093567  accuracy: 0.7153998613357544\n",
      "Epoch 96, CIFAR-10 Batch 1:  cost: 0.38474833965301514  accuracy: 0.7253998517990112\n",
      "Epoch 96, CIFAR-10 Batch 2:  cost: 0.417949914932251  accuracy: 0.7191998958587646\n",
      "Epoch 96, CIFAR-10 Batch 3:  cost: 0.24670493602752686  accuracy: 0.7261998653411865\n",
      "Epoch 96, CIFAR-10 Batch 4:  cost: 0.3003864288330078  accuracy: 0.7275998592376709\n",
      "Epoch 96, CIFAR-10 Batch 5:  cost: 0.3344748616218567  accuracy: 0.7241998314857483\n",
      "Epoch 97, CIFAR-10 Batch 1:  cost: 0.41741910576820374  accuracy: 0.7219998240470886\n",
      "Epoch 97, CIFAR-10 Batch 2:  cost: 0.39514610171318054  accuracy: 0.7283998131752014\n",
      "Epoch 97, CIFAR-10 Batch 3:  cost: 0.2843707203865051  accuracy: 0.7189998626708984\n",
      "Epoch 97, CIFAR-10 Batch 4:  cost: 0.31890279054641724  accuracy: 0.7273998260498047\n",
      "Epoch 97, CIFAR-10 Batch 5:  cost: 0.32359570264816284  accuracy: 0.7243998646736145\n",
      "Epoch 98, CIFAR-10 Batch 1:  cost: 0.35175788402557373  accuracy: 0.7305998802185059\n",
      "Epoch 98, CIFAR-10 Batch 2:  cost: 0.4060728847980499  accuracy: 0.7279998064041138\n",
      "Epoch 98, CIFAR-10 Batch 3:  cost: 0.28622573614120483  accuracy: 0.7259997725486755\n",
      "Epoch 98, CIFAR-10 Batch 4:  cost: 0.2824177145957947  accuracy: 0.7283998131752014\n",
      "Epoch 98, CIFAR-10 Batch 5:  cost: 0.3199514150619507  accuracy: 0.7275998592376709\n",
      "Epoch 99, CIFAR-10 Batch 1:  cost: 0.3532533645629883  accuracy: 0.7287998199462891\n",
      "Epoch 99, CIFAR-10 Batch 2:  cost: 0.38235220313072205  accuracy: 0.715799868106842\n",
      "Epoch 99, CIFAR-10 Batch 3:  cost: 0.260724276304245  accuracy: 0.7223998308181763\n",
      "Epoch 99, CIFAR-10 Batch 4:  cost: 0.3199011981487274  accuracy: 0.7201998233795166\n",
      "Epoch 99, CIFAR-10 Batch 5:  cost: 0.2940969467163086  accuracy: 0.7325997948646545\n",
      "Epoch 100, CIFAR-10 Batch 1:  cost: 0.3688599765300751  accuracy: 0.723599910736084\n",
      "Epoch 100, CIFAR-10 Batch 2:  cost: 0.3732666075229645  accuracy: 0.72819983959198\n",
      "Epoch 100, CIFAR-10 Batch 3:  cost: 0.2534259557723999  accuracy: 0.7243998646736145\n",
      "Epoch 100, CIFAR-10 Batch 4:  cost: 0.29387107491493225  accuracy: 0.7309998869895935\n",
      "Epoch 100, CIFAR-10 Batch 5:  cost: 0.324122816324234  accuracy: 0.7219999432563782\n"
     ]
    }
   ],
   "source": [
    "\"\"\"\n",
    "DON'T MODIFY ANYTHING IN THIS CELL\n",
    "\"\"\"\n",
    "save_model_path = './image_classification'\n",
    "\n",
    "print('Training...')\n",
    "with tf.Session() as sess:\n",
    "    # Initializing the variables\n",
    "    sess.run(tf.global_variables_initializer())\n",
    "    \n",
    "    # Training cycle\n",
    "    for epoch in range(epochs):\n",
    "        # Loop over all batches\n",
    "        n_batches = 5\n",
    "        for batch_i in range(1, n_batches + 1):\n",
    "            for batch_features, batch_labels in helper.load_preprocess_training_batch(batch_i, batch_size):\n",
    "                train_neural_network(sess, optimizer, keep_probability, batch_features, batch_labels)\n",
    "            print('Epoch {:>2}, CIFAR-10 Batch {}:  '.format(epoch + 1, batch_i), end='')\n",
    "            print_stats(sess, batch_features, batch_labels, cost, accuracy)\n",
    "            \n",
    "    # Save Model\n",
    "    saver = tf.train.Saver()\n",
    "    save_path = saver.save(sess, save_model_path)"
   ]
  },
  {
   "cell_type": "markdown",
   "metadata": {
    "deletable": true,
    "editable": true
   },
   "source": [
    "# Checkpoint\n",
    "The model has been saved to disk.\n",
    "## Test Model\n",
    "Test your model against the test dataset.  This will be your final accuracy. You should have an accuracy greater than 50%. If you don't, keep tweaking the model architecture and parameters."
   ]
  },
  {
   "cell_type": "code",
   "execution_count": 19,
   "metadata": {
    "collapsed": false,
    "deletable": true,
    "editable": true
   },
   "outputs": [
    {
     "name": "stdout",
     "output_type": "stream",
     "text": [
      "Testing Accuracy: 0.7164754746835443\n",
      "\n"
     ]
    },
    {
     "data": {
      "image/png": "[encoded data removed]",
      "text/plain": [
       "<matplotlib.figure.Figure at 0x7f11a09442e8>"
      ]
     },
     "metadata": {
      "image/png": {
       "height": 319,
       "width": 355
      }
     },
     "output_type": "display_data"
    }
   ],
   "source": [
    "\"\"\"\n",
    "DON'T MODIFY ANYTHING IN THIS CELL\n",
    "\"\"\"\n",
    "%matplotlib inline\n",
    "%config InlineBackend.figure_format = 'retina'\n",
    "\n",
    "import tensorflow as tf\n",
    "import pickle\n",
    "import helper\n",
    "import random\n",
    "\n",
    "# Set batch size if not already set\n",
    "try:\n",
    "    if batch_size:\n",
    "        pass\n",
    "except NameError:\n",
    "    batch_size = 64\n",
    "\n",
    "save_model_path = './image_classification'\n",
    "n_samples = 4\n",
    "top_n_predictions = 3\n",
    "\n",
    "def test_model():\n",
    "    \"\"\"\n",
    "    Test the saved model against the test dataset\n",
    "    \"\"\"\n",
    "\n",
    "    test_features, test_labels = pickle.load(open('preprocess_test.p', mode='rb'))\n",
    "    loaded_graph = tf.Graph()\n",
    "\n",
    "    with tf.Session(graph=loaded_graph) as sess:\n",
    "        # Load model\n",
    "        loader = tf.train.import_meta_graph(save_model_path + '.meta')\n",
    "        loader.restore(sess, save_model_path)\n",
    "\n",
    "        # Get Tensors from loaded model\n",
    "        loaded_x = loaded_graph.get_tensor_by_name('x:0')\n",
    "        loaded_y = loaded_graph.get_tensor_by_name('y:0')\n",
    "        loaded_keep_prob = loaded_graph.get_tensor_by_name('keep_prob:0')\n",
    "        loaded_logits = loaded_graph.get_tensor_by_name('logits:0')\n",
    "        loaded_acc = loaded_graph.get_tensor_by_name('accuracy:0')\n",
    "        \n",
    "        # Get accuracy in batches for memory limitations\n",
    "        test_batch_acc_total = 0\n",
    "        test_batch_count = 0\n",
    "        \n",
    "        for test_feature_batch, test_label_batch in helper.batch_features_labels(test_features, test_labels, batch_size):\n",
    "            test_batch_acc_total += sess.run(\n",
    "                loaded_acc,\n",
    "                feed_dict={loaded_x: test_feature_batch, loaded_y: test_label_batch, loaded_keep_prob: 1.0})\n",
    "            test_batch_count += 1\n",
    "\n",
    "        print('Testing Accuracy: {}\\n'.format(test_batch_acc_total/test_batch_count))\n",
    "\n",
    "        # Print Random Samples\n",
    "        random_test_features, random_test_labels = tuple(zip(*random.sample(list(zip(test_features, test_labels)), n_samples)))\n",
    "        random_test_predictions = sess.run(\n",
    "            tf.nn.top_k(tf.nn.softmax(loaded_logits), top_n_predictions),\n",
    "            feed_dict={loaded_x: random_test_features, loaded_y: random_test_labels, loaded_keep_prob: 1.0})\n",
    "        helper.display_image_predictions(random_test_features, random_test_labels, random_test_predictions)\n",
    "\n",
    "\n",
    "test_model()"
   ]
  },
  {
   "cell_type": "markdown",
   "metadata": {
    "deletable": true,
    "editable": true
   },
   "source": [
    "## Why 50-80% Accuracy?\n",
    "You might be wondering why you can't get an accuracy any higher. First things first, 50% isn't bad for a simple CNN.  Pure guessing would get you 10% accuracy. However, you might notice people are getting scores [well above 80%](http://rodrigob.github.io/are_we_there_yet/build/classification_datasets_results.html#43494641522d3130).  That's because we haven't taught you all there is to know about neural networks. We still need to cover a few more techniques.\n",
    "## Submitting This Project\n",
    "When submitting this project, make sure to run all the cells before saving the notebook.  Save the notebook file as \"dlnd_image_classification.ipynb\" and save it as a HTML file under \"File\" -> \"Download as\".  Include the \"helper.py\" and \"problem_unittests.py\" files in your submission."
   ]
  }
 ],
 "metadata": {
  "kernelspec": {
   "display_name": "Python 3",
   "language": "python",
   "name": "python3"
  },
  "language_info": {
   "codemirror_mode": {
    "name": "ipython",
    "version": 3
   },
   "file_extension": ".py",
   "mimetype": "text/x-python",
   "name": "python",
   "nbconvert_exporter": "python",
   "pygments_lexer": "ipython3",
   "version": "3.5.2"
  },
  "widgets": {
   "state": {},
   "version": "1.1.2"
  }
 },
 "nbformat": 4,
 "nbformat_minor": 0
}
