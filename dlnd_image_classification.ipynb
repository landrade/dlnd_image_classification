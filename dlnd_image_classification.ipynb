{
 "cells": [
  {
   "cell_type": "markdown",
   "metadata": {
    "collapsed": true,
    "deletable": true,
    "editable": true
   },
   "source": [
    "# Image Classification\n",
    "In this project, you'll classify images from the [CIFAR-10 dataset](https://www.cs.toronto.edu/~kriz/cifar.html).  The dataset consists of airplanes, dogs, cats, and other objects. You'll preprocess the images, then train a convolutional neural network on all the samples. The images need to be normalized and the labels need to be one-hot encoded.  You'll get to apply what you learned and build a convolutional, max pooling, dropout, and fully connected layers.  At the end, you'll get to see your neural network's predictions on the sample images.\n",
    "## Get the Data\n",
    "Run the following cell to download the [CIFAR-10 dataset for python](https://www.cs.toronto.edu/~kriz/cifar-10-python.tar.gz)."
   ]
  },
  {
   "cell_type": "code",
   "execution_count": 1,
   "metadata": {
    "collapsed": false,
    "deletable": true,
    "editable": true
   },
   "outputs": [
    {
     "name": "stderr",
     "output_type": "stream",
     "text": [
      "CIFAR-10 Dataset: 171MB [00:16, 10.6MB/s]                              \n"
     ]
    },
    {
     "name": "stdout",
     "output_type": "stream",
     "text": [
      "All files found!\n"
     ]
    }
   ],
   "source": [
    "\"\"\"\n",
    "DON'T MODIFY ANYTHING IN THIS CELL THAT IS BELOW THIS LINE\n",
    "\"\"\"\n",
    "from urllib.request import urlretrieve\n",
    "from os.path import isfile, isdir\n",
    "from tqdm import tqdm\n",
    "import problem_unittests as tests\n",
    "import tarfile\n",
    "\n",
    "cifar10_dataset_folder_path = 'cifar-10-batches-py'\n",
    "\n",
    "# Use Floyd's cifar-10 dataset if present\n",
    "floyd_cifar10_location = '/input/cifar-10/python.tar.gz'\n",
    "if isfile(floyd_cifar10_location):\n",
    "    tar_gz_path = floyd_cifar10_location\n",
    "else:\n",
    "    tar_gz_path = 'cifar-10-python.tar.gz'\n",
    "\n",
    "class DLProgress(tqdm):\n",
    "    last_block = 0\n",
    "\n",
    "    def hook(self, block_num=1, block_size=1, total_size=None):\n",
    "        self.total = total_size\n",
    "        self.update((block_num - self.last_block) * block_size)\n",
    "        self.last_block = block_num\n",
    "\n",
    "if not isfile(tar_gz_path):\n",
    "    with DLProgress(unit='B', unit_scale=True, miniters=1, desc='CIFAR-10 Dataset') as pbar:\n",
    "        urlretrieve(\n",
    "            'https://www.cs.toronto.edu/~kriz/cifar-10-python.tar.gz',\n",
    "            tar_gz_path,\n",
    "            pbar.hook)\n",
    "\n",
    "if not isdir(cifar10_dataset_folder_path):\n",
    "    with tarfile.open(tar_gz_path) as tar:\n",
    "        tar.extractall()\n",
    "        tar.close()\n",
    "\n",
    "\n",
    "tests.test_folder_path(cifar10_dataset_folder_path)"
   ]
  },
  {
   "cell_type": "markdown",
   "metadata": {
    "deletable": true,
    "editable": true
   },
   "source": [
    "## Explore the Data\n",
    "The dataset is broken into batches to prevent your machine from running out of memory.  The CIFAR-10 dataset consists of 5 batches, named `data_batch_1`, `data_batch_2`, etc.. Each batch contains the labels and images that are one of the following:\n",
    "* airplane\n",
    "* automobile\n",
    "* bird\n",
    "* cat\n",
    "* deer\n",
    "* dog\n",
    "* frog\n",
    "* horse\n",
    "* ship\n",
    "* truck\n",
    "\n",
    "Understanding a dataset is part of making predictions on the data.  Play around with the code cell below by changing the `batch_id` and `sample_id`. The `batch_id` is the id for a batch (1-5). The `sample_id` is the id for a image and label pair in the batch.\n",
    "\n",
    "Ask yourself \"What are all possible labels?\", \"What is the range of values for the image data?\", \"Are the labels in order or random?\".  Answers to questions like these will help you preprocess the data and end up with better predictions."
   ]
  },
  {
   "cell_type": "code",
   "execution_count": 2,
   "metadata": {
    "collapsed": false,
    "deletable": true,
    "editable": true
   },
   "outputs": [
    {
     "name": "stdout",
     "output_type": "stream",
     "text": [
      "\n",
      "Stats of batch 1:\n",
      "Samples: 10000\n",
      "Label Counts: {0: 1005, 1: 974, 2: 1032, 3: 1016, 4: 999, 5: 937, 6: 1030, 7: 1001, 8: 1025, 9: 981}\n",
      "First 20 Labels: [6, 9, 9, 4, 1, 1, 2, 7, 8, 3, 4, 7, 7, 2, 9, 9, 9, 3, 2, 6]\n",
      "\n",
      "Example of Image 5:\n",
      "Image - Min Value: 0 Max Value: 252\n",
      "Image - Shape: (32, 32, 3)\n",
      "Label - Label Id: 1 Name: automobile\n"
     ]
    },
    {
     "data": {
      "image/png": "[encoded data removed]",
      "text/plain": [
       "<matplotlib.figure.Figure at 0x7fb25dd13a90>"
      ]
     },
     "metadata": {
      "image/png": {
       "height": 250,
       "width": 253
      }
     },
     "output_type": "display_data"
    }
   ],
   "source": [
    "%matplotlib inline\n",
    "%config InlineBackend.figure_format = 'retina'\n",
    "\n",
    "import helper\n",
    "import numpy as np\n",
    "\n",
    "# Explore the dataset\n",
    "batch_id = 1\n",
    "sample_id = 5\n",
    "helper.display_stats(cifar10_dataset_folder_path, batch_id, sample_id)"
   ]
  },
  {
   "cell_type": "markdown",
   "metadata": {
    "deletable": true,
    "editable": true
   },
   "source": [
    "## Implement Preprocess Functions\n",
    "### Normalize\n",
    "In the cell below, implement the `normalize` function to take in image data, `x`, and return it as a normalized Numpy array. The values should be in the range of 0 to 1, inclusive.  The return object should be the same shape as `x`."
   ]
  },
  {
   "cell_type": "code",
   "execution_count": 3,
   "metadata": {
    "collapsed": false,
    "deletable": true,
    "editable": true
   },
   "outputs": [
    {
     "name": "stdout",
     "output_type": "stream",
     "text": [
      "Tests Passed\n"
     ]
    }
   ],
   "source": [
    "def normalize(x):\n",
    "    \"\"\"\n",
    "    Normalize a list of sample image data in the range of 0 to 1\n",
    "    : x: List of image data.  The image shape is (32, 32, 3)\n",
    "    : return: Numpy array of normalize data\n",
    "    \"\"\"\n",
    "    # TODO: Implement Function\n",
    "    return (x-x.min())/(x.max()-x.min())\n",
    "\n",
    "\n",
    "\"\"\"\n",
    "DON'T MODIFY ANYTHING IN THIS CELL THAT IS BELOW THIS LINE\n",
    "\"\"\"\n",
    "tests.test_normalize(normalize)"
   ]
  },
  {
   "cell_type": "markdown",
   "metadata": {
    "deletable": true,
    "editable": true
   },
   "source": [
    "### One-hot encode\n",
    "Just like the previous code cell, you'll be implementing a function for preprocessing.  This time, you'll implement the `one_hot_encode` function. The input, `x`, are a list of labels.  Implement the function to return the list of labels as One-Hot encoded Numpy array.  The possible values for labels are 0 to 9. The one-hot encoding function should return the same encoding for each value between each call to `one_hot_encode`.  Make sure to save the map of encodings outside the function.\n",
    "\n",
    "Hint: Don't reinvent the wheel."
   ]
  },
  {
   "cell_type": "code",
   "execution_count": 4,
   "metadata": {
    "collapsed": false,
    "deletable": true,
    "editable": true
   },
   "outputs": [
    {
     "name": "stdout",
     "output_type": "stream",
     "text": [
      "Tests Passed\n"
     ]
    }
   ],
   "source": [
    "def one_hot_encode(x):\n",
    "    \"\"\"\n",
    "    One hot encode a list of sample labels. Return a one-hot encoded vector for each label.\n",
    "    : x: List of sample Labels\n",
    "    : return: Numpy array of one-hot encoded labels\n",
    "    \"\"\"\n",
    "    # TODO: Implement Function\n",
    "    return np.eye(10)[x]\n",
    "\n",
    "\n",
    "\"\"\"\n",
    "DON'T MODIFY ANYTHING IN THIS CELL THAT IS BELOW THIS LINE\n",
    "\"\"\"\n",
    "tests.test_one_hot_encode(one_hot_encode)"
   ]
  },
  {
   "cell_type": "markdown",
   "metadata": {
    "deletable": true,
    "editable": true
   },
   "source": [
    "### Randomize Data\n",
    "As you saw from exploring the data above, the order of the samples are randomized.  It doesn't hurt to randomize it again, but you don't need to for this dataset."
   ]
  },
  {
   "cell_type": "markdown",
   "metadata": {
    "deletable": true,
    "editable": true
   },
   "source": [
    "## Preprocess all the data and save it\n",
    "Running the code cell below will preprocess all the CIFAR-10 data and save it to file. The code below also uses 10% of the training data for validation."
   ]
  },
  {
   "cell_type": "code",
   "execution_count": 5,
   "metadata": {
    "collapsed": false,
    "deletable": true,
    "editable": true
   },
   "outputs": [],
   "source": [
    "\"\"\"\n",
    "DON'T MODIFY ANYTHING IN THIS CELL\n",
    "\"\"\"\n",
    "# Preprocess Training, Validation, and Testing Data\n",
    "helper.preprocess_and_save_data(cifar10_dataset_folder_path, normalize, one_hot_encode)"
   ]
  },
  {
   "cell_type": "markdown",
   "metadata": {
    "deletable": true,
    "editable": true
   },
   "source": [
    "# Check Point\n",
    "This is your first checkpoint.  If you ever decide to come back to this notebook or have to restart the notebook, you can start from here.  The preprocessed data has been saved to disk."
   ]
  },
  {
   "cell_type": "code",
   "execution_count": 6,
   "metadata": {
    "collapsed": true,
    "deletable": true,
    "editable": true
   },
   "outputs": [],
   "source": [
    "\"\"\"\n",
    "DON'T MODIFY ANYTHING IN THIS CELL\n",
    "\"\"\"\n",
    "import pickle\n",
    "import problem_unittests as tests\n",
    "import helper\n",
    "\n",
    "# Load the Preprocessed Validation data\n",
    "valid_features, valid_labels = pickle.load(open('preprocess_validation.p', mode='rb'))"
   ]
  },
  {
   "cell_type": "markdown",
   "metadata": {
    "deletable": true,
    "editable": true
   },
   "source": [
    "## Build the network\n",
    "For the neural network, you'll build each layer into a function.  Most of the code you've seen has been outside of functions. To test your code more thoroughly, we require that you put each layer in a function.  This allows us to give you better feedback and test for simple mistakes using our unittests before you submit your project.\n",
    "\n",
    ">**Note:** If you're finding it hard to dedicate enough time for this course each week, we've provided a small shortcut to this part of the project. In the next couple of problems, you'll have the option to use classes from the [TensorFlow Layers](https://www.tensorflow.org/api_docs/python/tf/layers) or [TensorFlow Layers (contrib)](https://www.tensorflow.org/api_guides/python/contrib.layers) packages to build each layer, except the layers you build in the \"Convolutional and Max Pooling Layer\" section.  TF Layers is similar to Keras's and TFLearn's abstraction to layers, so it's easy to pickup.\n",
    "\n",
    ">However, if you would like to get the most out of this course, try to solve all the problems _without_ using anything from the TF Layers packages. You **can** still use classes from other packages that happen to have the same name as ones you find in TF Layers! For example, instead of using the TF Layers version of the `conv2d` class, [tf.layers.conv2d](https://www.tensorflow.org/api_docs/python/tf/layers/conv2d), you would want to use the TF Neural Network version of `conv2d`, [tf.nn.conv2d](https://www.tensorflow.org/api_docs/python/tf/nn/conv2d). \n",
    "\n",
    "Let's begin!\n",
    "\n",
    "### Input\n",
    "The neural network needs to read the image data, one-hot encoded labels, and dropout keep probability. Implement the following functions\n",
    "* Implement `neural_net_image_input`\n",
    " * Return a [TF Placeholder](https://www.tensorflow.org/api_docs/python/tf/placeholder)\n",
    " * Set the shape using `image_shape` with batch size set to `None`.\n",
    " * Name the TensorFlow placeholder \"x\" using the TensorFlow `name` parameter in the [TF Placeholder](https://www.tensorflow.org/api_docs/python/tf/placeholder).\n",
    "* Implement `neural_net_label_input`\n",
    " * Return a [TF Placeholder](https://www.tensorflow.org/api_docs/python/tf/placeholder)\n",
    " * Set the shape using `n_classes` with batch size set to `None`.\n",
    " * Name the TensorFlow placeholder \"y\" using the TensorFlow `name` parameter in the [TF Placeholder](https://www.tensorflow.org/api_docs/python/tf/placeholder).\n",
    "* Implement `neural_net_keep_prob_input`\n",
    " * Return a [TF Placeholder](https://www.tensorflow.org/api_docs/python/tf/placeholder) for dropout keep probability.\n",
    " * Name the TensorFlow placeholder \"keep_prob\" using the TensorFlow `name` parameter in the [TF Placeholder](https://www.tensorflow.org/api_docs/python/tf/placeholder).\n",
    "\n",
    "These names will be used at the end of the project to load your saved model.\n",
    "\n",
    "Note: `None` for shapes in TensorFlow allow for a dynamic size."
   ]
  },
  {
   "cell_type": "code",
   "execution_count": 7,
   "metadata": {
    "collapsed": false,
    "deletable": true,
    "editable": true
   },
   "outputs": [
    {
     "name": "stdout",
     "output_type": "stream",
     "text": [
      "Image Input Tests Passed.\n",
      "Label Input Tests Passed.\n",
      "Keep Prob Tests Passed.\n"
     ]
    }
   ],
   "source": [
    "import tensorflow as tf\n",
    "\n",
    "def neural_net_image_input(image_shape):\n",
    "    \"\"\"\n",
    "    Return a Tensor for a batch of image input\n",
    "    : image_shape: Shape of the images\n",
    "    : return: Tensor for image input.\n",
    "    \"\"\"\n",
    "    # TODO: Implement Function\n",
    "    return tf.placeholder(tf.float32, (None, *image_shape), name='x')\n",
    "\n",
    "\n",
    "def neural_net_label_input(n_classes):\n",
    "    \"\"\"\n",
    "    Return a Tensor for a batch of label input\n",
    "    : n_classes: Number of classes\n",
    "    : return: Tensor for label input.\n",
    "    \"\"\"\n",
    "    # TODO: Implement Function\n",
    "    return tf.placeholder(tf.float32, [None,n_classes], name='y')\n",
    "\n",
    "\n",
    "def neural_net_keep_prob_input():\n",
    "    \"\"\"\n",
    "    Return a Tensor for keep probability\n",
    "    : return: Tensor for keep probability.\n",
    "    \"\"\"\n",
    "    # TODO: Implement Function\n",
    "    return tf.placeholder(tf.float32,None, name='keep_prob')\n",
    "\n",
    "\n",
    "\"\"\"\n",
    "DON'T MODIFY ANYTHING IN THIS CELL THAT IS BELOW THIS LINE\n",
    "\"\"\"\n",
    "tf.reset_default_graph()\n",
    "tests.test_nn_image_inputs(neural_net_image_input)\n",
    "tests.test_nn_label_inputs(neural_net_label_input)\n",
    "tests.test_nn_keep_prob_inputs(neural_net_keep_prob_input)"
   ]
  },
  {
   "cell_type": "markdown",
   "metadata": {
    "deletable": true,
    "editable": true
   },
   "source": [
    "### Convolution and Max Pooling Layer\n",
    "Convolution layers have a lot of success with images. For this code cell, you should implement the function `conv2d_maxpool` to apply convolution then max pooling:\n",
    "* Create the weight and bias using `conv_ksize`, `conv_num_outputs` and the shape of `x_tensor`.\n",
    "* Apply a convolution to `x_tensor` using weight and `conv_strides`.\n",
    " * We recommend you use same padding, but you're welcome to use any padding.\n",
    "* Add bias\n",
    "* Add a nonlinear activation to the convolution.\n",
    "* Apply Max Pooling using `pool_ksize` and `pool_strides`.\n",
    " * We recommend you use same padding, but you're welcome to use any padding.\n",
    "\n",
    "**Note:** You **can't** use [TensorFlow Layers](https://www.tensorflow.org/api_docs/python/tf/layers) or [TensorFlow Layers (contrib)](https://www.tensorflow.org/api_guides/python/contrib.layers) for **this** layer, but you can still use TensorFlow's [Neural Network](https://www.tensorflow.org/api_docs/python/tf/nn) package. You may still use the shortcut option for all the **other** layers."
   ]
  },
  {
   "cell_type": "code",
   "execution_count": 8,
   "metadata": {
    "collapsed": false,
    "deletable": true,
    "editable": true
   },
   "outputs": [
    {
     "name": "stdout",
     "output_type": "stream",
     "text": [
      "Tests Passed\n"
     ]
    }
   ],
   "source": [
    "from math import sqrt\n",
    "def conv2d_maxpool(x_tensor, conv_num_outputs, conv_ksize, conv_strides, pool_ksize, pool_strides):\n",
    "    \"\"\"\n",
    "    Apply convolution then max pooling to x_tensor\n",
    "    :param x_tensor: TensorFlow Tensor\n",
    "    :param conv_num_outputs: Number of outputs for the convolutional layer\n",
    "    :param conv_ksize: kernal size 2-D Tuple for the convolutional layer\n",
    "    :param conv_strides: Stride 2-D Tuple for convolution\n",
    "    :param pool_ksize: kernal size 2-D Tuple for pool\n",
    "    :param pool_strides: Stride 2-D Tuple for pool\n",
    "    : return: A tensor that represents convolution and max pooling of x_tensor\n",
    "    \"\"\"\n",
    "    # TODO: Implement Function\n",
    "    shape = x_tensor.get_shape().as_list()\n",
    "    size = (conv_ksize[0], conv_ksize[1], shape[3], conv_num_outputs)\n",
    "    W = tf.Variable(tf.truncated_normal(size, 0, (1/ sqrt(shape[1]*shape[2]*shape[3]))))\n",
    "    B = tf.Variable(tf.zeros(conv_num_outputs))\n",
    "    tensor = tf.nn.conv2d(x_tensor, W, strides=[1, conv_strides[0], conv_strides[1], 1], padding='SAME')\n",
    "    tensor = tf.nn.bias_add(tensor, B)\n",
    "    tensor = tf.nn.relu(tensor)\n",
    "    tensor = tf.nn.max_pool(tensor, ksize=[1, pool_ksize[0], pool_ksize[1], 1], strides=[1, pool_strides[0], pool_strides[1], 1], padding='SAME')\n",
    "    return tensor\n",
    "\n",
    "\n",
    "\"\"\"\n",
    "DON'T MODIFY ANYTHING IN THIS CELL THAT IS BELOW THIS LINE\n",
    "\"\"\"\n",
    "tests.test_con_pool(conv2d_maxpool)"
   ]
  },
  {
   "cell_type": "markdown",
   "metadata": {
    "deletable": true,
    "editable": true
   },
   "source": [
    "### Flatten Layer\n",
    "Implement the `flatten` function to change the dimension of `x_tensor` from a 4-D tensor to a 2-D tensor.  The output should be the shape (*Batch Size*, *Flattened Image Size*). Shortcut option: you can use classes from the [TensorFlow Layers](https://www.tensorflow.org/api_docs/python/tf/layers) or [TensorFlow Layers (contrib)](https://www.tensorflow.org/api_guides/python/contrib.layers) packages for this layer. For more of a challenge, only use other TensorFlow packages."
   ]
  },
  {
   "cell_type": "code",
   "execution_count": 9,
   "metadata": {
    "collapsed": false,
    "deletable": true,
    "editable": true
   },
   "outputs": [
    {
     "name": "stdout",
     "output_type": "stream",
     "text": [
      "Tests Passed\n"
     ]
    }
   ],
   "source": [
    "def flatten(x_tensor):\n",
    "    \"\"\"\n",
    "    Flatten x_tensor to (Batch Size, Flattened Image Size)\n",
    "    : x_tensor: A tensor of size (Batch Size, ...), where ... are the image dimensions.\n",
    "    : return: A tensor of size (Batch Size, Flattened Image Size).\n",
    "    \"\"\"\n",
    "    # TODO: Implement Function\n",
    "    return tf.reshape(x_tensor, [-1, x_tensor.shape[1].value * x_tensor.shape[2].value* x_tensor.shape[3].value])\n",
    "\n",
    "\n",
    "\"\"\"\n",
    "DON'T MODIFY ANYTHING IN THIS CELL THAT IS BELOW THIS LINE\n",
    "\"\"\"\n",
    "tests.test_flatten(flatten)"
   ]
  },
  {
   "cell_type": "markdown",
   "metadata": {
    "deletable": true,
    "editable": true
   },
   "source": [
    "### Fully-Connected Layer\n",
    "Implement the `fully_conn` function to apply a fully connected layer to `x_tensor` with the shape (*Batch Size*, *num_outputs*). Shortcut option: you can use classes from the [TensorFlow Layers](https://www.tensorflow.org/api_docs/python/tf/layers) or [TensorFlow Layers (contrib)](https://www.tensorflow.org/api_guides/python/contrib.layers) packages for this layer. For more of a challenge, only use other TensorFlow packages."
   ]
  },
  {
   "cell_type": "code",
   "execution_count": 10,
   "metadata": {
    "collapsed": false,
    "deletable": true,
    "editable": true
   },
   "outputs": [
    {
     "name": "stdout",
     "output_type": "stream",
     "text": [
      "Tests Passed\n"
     ]
    }
   ],
   "source": [
    "def fully_conn(x_tensor, num_outputs):\n",
    "    \"\"\"\n",
    "    Apply a fully connected layer to x_tensor using weight and bias\n",
    "    : x_tensor: A 2-D tensor where the first dimension is batch size.\n",
    "    : num_outputs: The number of output that the new tensor should be.\n",
    "    : return: A 2-D tensor where the second dimension is num_outputs.\n",
    "    \"\"\"\n",
    "    # TODO: Implement Function\n",
    "    weight= tf.Variable(tf.truncated_normal([x_tensor.shape[1].value, num_outputs], mean=0.0, stddev=0.1))\n",
    "    bias = tf.Variable(tf.zeros(num_outputs))\n",
    "    \n",
    "    return tf.nn.bias_add(tf.matmul(x_tensor, weight), bias)\n",
    "\n",
    "\n",
    "\"\"\"\n",
    "DON'T MODIFY ANYTHING IN THIS CELL THAT IS BELOW THIS LINE\n",
    "\"\"\"\n",
    "tests.test_fully_conn(fully_conn)"
   ]
  },
  {
   "cell_type": "markdown",
   "metadata": {
    "deletable": true,
    "editable": true
   },
   "source": [
    "### Output Layer\n",
    "Implement the `output` function to apply a fully connected layer to `x_tensor` with the shape (*Batch Size*, *num_outputs*). Shortcut option: you can use classes from the [TensorFlow Layers](https://www.tensorflow.org/api_docs/python/tf/layers) or [TensorFlow Layers (contrib)](https://www.tensorflow.org/api_guides/python/contrib.layers) packages for this layer. For more of a challenge, only use other TensorFlow packages.\n",
    "\n",
    "**Note:** Activation, softmax, or cross entropy should **not** be applied to this."
   ]
  },
  {
   "cell_type": "code",
   "execution_count": 11,
   "metadata": {
    "collapsed": false,
    "deletable": true,
    "editable": true
   },
   "outputs": [
    {
     "name": "stdout",
     "output_type": "stream",
     "text": [
      "Tests Passed\n"
     ]
    }
   ],
   "source": [
    "def output(x_tensor, num_outputs):\n",
    "    \"\"\"\n",
    "    Apply a output layer to x_tensor using weight and bias\n",
    "    : x_tensor: A 2-D tensor where the first dimension is batch size.\n",
    "    : num_outputs: The number of output that the new tensor should be.\n",
    "    : return: A 2-D tensor where the second dimension is num_outputs.\n",
    "    \"\"\"\n",
    "    # TODO: Implement Function\n",
    "    weight= tf.Variable(tf.truncated_normal([x_tensor.shape[1].value, num_outputs], mean=0.0, stddev=0.01))\n",
    "    bias = tf.Variable(tf.zeros(num_outputs))\n",
    "    return tf.nn.bias_add(tf.matmul(x_tensor, weight), bias)\n",
    "\n",
    "\n",
    "\"\"\"\n",
    "DON'T MODIFY ANYTHING IN THIS CELL THAT IS BELOW THIS LINE\n",
    "\"\"\"\n",
    "tests.test_output(output)"
   ]
  },
  {
   "cell_type": "markdown",
   "metadata": {
    "deletable": true,
    "editable": true
   },
   "source": [
    "### Create Convolutional Model\n",
    "Implement the function `conv_net` to create a convolutional neural network model. The function takes in a batch of images, `x`, and outputs logits.  Use the layers you created above to create this model:\n",
    "\n",
    "* Apply 1, 2, or 3 Convolution and Max Pool layers\n",
    "* Apply a Flatten Layer\n",
    "* Apply 1, 2, or 3 Fully Connected Layers\n",
    "* Apply an Output Layer\n",
    "* Return the output\n",
    "* Apply [TensorFlow's Dropout](https://www.tensorflow.org/api_docs/python/tf/nn/dropout) to one or more layers in the model using `keep_prob`. "
   ]
  },
  {
   "cell_type": "code",
   "execution_count": 12,
   "metadata": {
    "collapsed": false,
    "deletable": true,
    "editable": true
   },
   "outputs": [
    {
     "name": "stdout",
     "output_type": "stream",
     "text": [
      "Neural Network Built!\n"
     ]
    }
   ],
   "source": [
    "def conv_net(x, keep_prob):\n",
    "    \"\"\"\n",
    "    Create a convolutional neural network model\n",
    "    : x: Placeholder tensor that holds image data.\n",
    "    : keep_prob: Placeholder tensor that hold dropout keep probability.\n",
    "    : return: Tensor that represents logits\n",
    "    \"\"\"\n",
    "    # TODO: Apply 1, 2, or 3 Convolution and Max Pool layers\n",
    "    #    Play around with different number of outputs, kernel size and stride\n",
    "    # Function Definition from Above:\n",
    "    #    conv2d_maxpool(x_tensor, conv_num_outputs, conv_ksize, conv_strides, pool_ksize, pool_strides)\n",
    "    conv1 = conv2d_maxpool(x, 20, [5,5], [1,1], [2,2], [2,2])\n",
    "    conv2 = conv2d_maxpool(conv1, 50, conv_ksize=[3,3], conv_strides=[1,1], pool_ksize=[2,2], pool_strides=[2,2])\n",
    "    conv2 = tf.nn.dropout(conv2, keep_prob)\n",
    "    \n",
    "    conv_out = conv2\n",
    "    \n",
    "\n",
    "    # TODO: Apply a Flatten Layer\n",
    "    # Function Definition from Above:\n",
    "    #   flatten(x_tensor)\n",
    "    fl0 = flatten(conv_out)\n",
    "    \n",
    "\n",
    "    # TODO: Apply 1, 2, or 3 Fully Connected Layers\n",
    "    #    Play around with different number of outputs\n",
    "    # Function Definition from Above:\n",
    "    #   fully_conn(x_tensor, num_outputs)\n",
    "    fl1 = fully_conn(fl0, 100)\n",
    "    fl1 = tf.nn.relu(fl1)\n",
    "    fl1 = tf.nn.dropout(fl1, keep_prob)\n",
    "    \n",
    "    fl2 = fully_conn(fl1, 50)\n",
    "    fl2= tf.nn.relu(fl2)\n",
    "    fl2 = tf.nn.dropout(fl2, keep_prob+0.2)\n",
    "    \n",
    "    \n",
    "    # TODO: Apply an Output Layer\n",
    "    #    Set this to the number of classes\n",
    "    # Function Definition from Above:\n",
    "    #   output(x_tensor, num_outputs)\n",
    "    out = output(fl2,10)\n",
    "    \n",
    "    \n",
    "    # TODO: return output\n",
    "    return out\n",
    "\n",
    "\n",
    "\"\"\"\n",
    "DON'T MODIFY ANYTHING IN THIS CELL THAT IS BELOW THIS LINE\n",
    "\"\"\"\n",
    "\n",
    "##############################\n",
    "## Build the Neural Network ##\n",
    "##############################\n",
    "\n",
    "# Remove previous weights, bias, inputs, etc..\n",
    "tf.reset_default_graph()\n",
    "\n",
    "# Inputs\n",
    "x = neural_net_image_input((32, 32, 3))\n",
    "y = neural_net_label_input(10)\n",
    "keep_prob = neural_net_keep_prob_input()\n",
    "\n",
    "# Model\n",
    "logits = conv_net(x, keep_prob)\n",
    "\n",
    "# Name logits Tensor, so that is can be loaded from disk after training\n",
    "logits = tf.identity(logits, name='logits')\n",
    "\n",
    "# Loss and Optimizer\n",
    "cost = tf.reduce_mean(tf.nn.softmax_cross_entropy_with_logits(logits=logits, labels=y))\n",
    "optimizer = tf.train.AdamOptimizer().minimize(cost)\n",
    "\n",
    "# Accuracy\n",
    "correct_pred = tf.equal(tf.argmax(logits, 1), tf.argmax(y, 1))\n",
    "accuracy = tf.reduce_mean(tf.cast(correct_pred, tf.float32), name='accuracy')\n",
    "\n",
    "tests.test_conv_net(conv_net)"
   ]
  },
  {
   "cell_type": "markdown",
   "metadata": {
    "deletable": true,
    "editable": true
   },
   "source": [
    "## Train the Neural Network\n",
    "### Single Optimization\n",
    "Implement the function `train_neural_network` to do a single optimization.  The optimization should use `optimizer` to optimize in `session` with a `feed_dict` of the following:\n",
    "* `x` for image input\n",
    "* `y` for labels\n",
    "* `keep_prob` for keep probability for dropout\n",
    "\n",
    "This function will be called for each batch, so `tf.global_variables_initializer()` has already been called.\n",
    "\n",
    "Note: Nothing needs to be returned. This function is only optimizing the neural network."
   ]
  },
  {
   "cell_type": "code",
   "execution_count": 13,
   "metadata": {
    "collapsed": false,
    "deletable": true,
    "editable": true
   },
   "outputs": [
    {
     "name": "stdout",
     "output_type": "stream",
     "text": [
      "Tests Passed\n"
     ]
    }
   ],
   "source": [
    "def train_neural_network(session, optimizer, keep_probability, feature_batch, label_batch):\n",
    "    \"\"\"\n",
    "    Optimize the session on a batch of images and labels\n",
    "    : session: Current TensorFlow session\n",
    "    : optimizer: TensorFlow optimizer function\n",
    "    : keep_probability: keep probability\n",
    "    : feature_batch: Batch of Numpy image data\n",
    "    : label_batch: Batch of Numpy label data\n",
    "    \"\"\"\n",
    "    # TODO: Implement Function\n",
    "    session.run(optimizer,feed_dict={x:feature_batch, y:label_batch, keep_prob: keep_probability})\n",
    "\n",
    "\n",
    "\"\"\"\n",
    "DON'T MODIFY ANYTHING IN THIS CELL THAT IS BELOW THIS LINE\n",
    "\"\"\"\n",
    "tests.test_train_nn(train_neural_network)"
   ]
  },
  {
   "cell_type": "markdown",
   "metadata": {
    "deletable": true,
    "editable": true
   },
   "source": [
    "### Show Stats\n",
    "Implement the function `print_stats` to print loss and validation accuracy.  Use the global variables `valid_features` and `valid_labels` to calculate validation accuracy.  Use a keep probability of `1.0` to calculate the loss and validation accuracy."
   ]
  },
  {
   "cell_type": "code",
   "execution_count": 14,
   "metadata": {
    "collapsed": false,
    "deletable": true,
    "editable": true
   },
   "outputs": [],
   "source": [
    "def print_stats(session, feature_batch, label_batch, cost, accuracy):\n",
    "    \"\"\"\n",
    "    Print information about loss and validation accuracy\n",
    "    : session: Current TensorFlow session\n",
    "    : feature_batch: Batch of Numpy image data\n",
    "    : label_batch: Batch of Numpy label data\n",
    "    : cost: TensorFlow cost function\n",
    "    : accuracy: TensorFlow accuracy function\n",
    "    \"\"\"\n",
    "    loss = session.run(cost, feed_dict={x:feature_batch, y: label_batch, keep_prob:1.0 })\n",
    "    valid_acc =session.run(accuracy, feed_dict={x:feature_batch, y: label_batch, keep_prob:1.0})\n",
    "    print('Loss: {}  Accuracy: {}'.format(loss, valid_acc))"
   ]
  },
  {
   "cell_type": "markdown",
   "metadata": {
    "deletable": true,
    "editable": true
   },
   "source": [
    "### Hyperparameters\n",
    "Tune the following parameters:\n",
    "* Set `epochs` to the number of iterations until the network stops learning or start overfitting\n",
    "* Set `batch_size` to the highest number that your machine has memory for.  Most people set them to common sizes of memory:\n",
    " * 64\n",
    " * 128\n",
    " * 256\n",
    " * ...\n",
    "* Set `keep_probability` to the probability of keeping a node using dropout"
   ]
  },
  {
   "cell_type": "code",
   "execution_count": 17,
   "metadata": {
    "collapsed": true,
    "deletable": true,
    "editable": true
   },
   "outputs": [],
   "source": [
    "# TODO: Tune Parameters\n",
    "epochs = 100\n",
    "batch_size = 128\n",
    "keep_probability = 0.5"
   ]
  },
  {
   "cell_type": "markdown",
   "metadata": {
    "deletable": true,
    "editable": true
   },
   "source": [
    "### Train on a Single CIFAR-10 Batch\n",
    "Instead of training the neural network on all the CIFAR-10 batches of data, let's use a single batch. This should save time while you iterate on the model to get a better accuracy.  Once the final validation accuracy is 50% or greater, run the model on all the data in the next section."
   ]
  },
  {
   "cell_type": "code",
   "execution_count": 18,
   "metadata": {
    "collapsed": false,
    "deletable": true,
    "editable": true
   },
   "outputs": [
    {
     "name": "stdout",
     "output_type": "stream",
     "text": [
      "Checking the Training on a Single Batch...\n",
      "Epoch  1, CIFAR-10 Batch 1:  Loss: 2.268326997756958  Accuracy: 0.125\n",
      "Epoch  2, CIFAR-10 Batch 1:  Loss: 2.208530902862549  Accuracy: 0.20000000298023224\n",
      "Epoch  3, CIFAR-10 Batch 1:  Loss: 2.1626830101013184  Accuracy: 0.20000000298023224\n",
      "Epoch  4, CIFAR-10 Batch 1:  Loss: 2.1039483547210693  Accuracy: 0.20000000298023224\n",
      "Epoch  5, CIFAR-10 Batch 1:  Loss: 2.065370559692383  Accuracy: 0.2750000059604645\n",
      "Epoch  6, CIFAR-10 Batch 1:  Loss: 2.0012571811676025  Accuracy: 0.375\n",
      "Epoch  7, CIFAR-10 Batch 1:  Loss: 1.9912889003753662  Accuracy: 0.3999999761581421\n",
      "Epoch  8, CIFAR-10 Batch 1:  Loss: 1.930774211883545  Accuracy: 0.4000000059604645\n",
      "Epoch  9, CIFAR-10 Batch 1:  Loss: 1.8778553009033203  Accuracy: 0.3500000238418579\n",
      "Epoch 10, CIFAR-10 Batch 1:  Loss: 1.8471615314483643  Accuracy: 0.3500000238418579\n",
      "Epoch 11, CIFAR-10 Batch 1:  Loss: 1.8555960655212402  Accuracy: 0.375\n",
      "Epoch 12, CIFAR-10 Batch 1:  Loss: 1.7952688932418823  Accuracy: 0.42499998211860657\n",
      "Epoch 13, CIFAR-10 Batch 1:  Loss: 1.7396931648254395  Accuracy: 0.375\n",
      "Epoch 14, CIFAR-10 Batch 1:  Loss: 1.7224547863006592  Accuracy: 0.3500000238418579\n",
      "Epoch 15, CIFAR-10 Batch 1:  Loss: 1.7119405269622803  Accuracy: 0.42499998211860657\n",
      "Epoch 16, CIFAR-10 Batch 1:  Loss: 1.6804530620574951  Accuracy: 0.4000000059604645\n",
      "Epoch 17, CIFAR-10 Batch 1:  Loss: 1.6412353515625  Accuracy: 0.44999998807907104\n",
      "Epoch 18, CIFAR-10 Batch 1:  Loss: 1.495839238166809  Accuracy: 0.5\n",
      "Epoch 19, CIFAR-10 Batch 1:  Loss: 1.535882592201233  Accuracy: 0.42499998211860657\n",
      "Epoch 20, CIFAR-10 Batch 1:  Loss: 1.4639972448349  Accuracy: 0.4749999940395355\n",
      "Epoch 21, CIFAR-10 Batch 1:  Loss: 1.386703610420227  Accuracy: 0.5\n",
      "Epoch 22, CIFAR-10 Batch 1:  Loss: 1.3646981716156006  Accuracy: 0.4749999940395355\n",
      "Epoch 23, CIFAR-10 Batch 1:  Loss: 1.3108680248260498  Accuracy: 0.4749999940395355\n",
      "Epoch 24, CIFAR-10 Batch 1:  Loss: 1.3709075450897217  Accuracy: 0.5\n",
      "Epoch 25, CIFAR-10 Batch 1:  Loss: 1.245418906211853  Accuracy: 0.4749999940395355\n",
      "Epoch 26, CIFAR-10 Batch 1:  Loss: 1.2627453804016113  Accuracy: 0.5249999761581421\n",
      "Epoch 27, CIFAR-10 Batch 1:  Loss: 1.2749229669570923  Accuracy: 0.550000011920929\n",
      "Epoch 28, CIFAR-10 Batch 1:  Loss: 1.2335731983184814  Accuracy: 0.5750000476837158\n",
      "Epoch 29, CIFAR-10 Batch 1:  Loss: 1.2034740447998047  Accuracy: 0.550000011920929\n",
      "Epoch 30, CIFAR-10 Batch 1:  Loss: 1.2114918231964111  Accuracy: 0.5750000476837158\n",
      "Epoch 31, CIFAR-10 Batch 1:  Loss: 1.2162768840789795  Accuracy: 0.5750000476837158\n",
      "Epoch 32, CIFAR-10 Batch 1:  Loss: 1.1208515167236328  Accuracy: 0.625\n",
      "Epoch 33, CIFAR-10 Batch 1:  Loss: 1.0901870727539062  Accuracy: 0.6000000238418579\n",
      "Epoch 34, CIFAR-10 Batch 1:  Loss: 1.0453431606292725  Accuracy: 0.625\n",
      "Epoch 35, CIFAR-10 Batch 1:  Loss: 1.0244446992874146  Accuracy: 0.7250000238418579\n",
      "Epoch 36, CIFAR-10 Batch 1:  Loss: 1.0368386507034302  Accuracy: 0.675000011920929\n",
      "Epoch 37, CIFAR-10 Batch 1:  Loss: 0.9929209351539612  Accuracy: 0.675000011920929\n",
      "Epoch 38, CIFAR-10 Batch 1:  Loss: 0.958123505115509  Accuracy: 0.675000011920929\n",
      "Epoch 39, CIFAR-10 Batch 1:  Loss: 0.9187564253807068  Accuracy: 0.7250000238418579\n",
      "Epoch 40, CIFAR-10 Batch 1:  Loss: 0.9195629954338074  Accuracy: 0.7000000476837158\n",
      "Epoch 41, CIFAR-10 Batch 1:  Loss: 0.9459291696548462  Accuracy: 0.675000011920929\n",
      "Epoch 42, CIFAR-10 Batch 1:  Loss: 0.8869509100914001  Accuracy: 0.7250000238418579\n",
      "Epoch 43, CIFAR-10 Batch 1:  Loss: 0.8430415391921997  Accuracy: 0.7000000476837158\n",
      "Epoch 44, CIFAR-10 Batch 1:  Loss: 0.8545835018157959  Accuracy: 0.6500000357627869\n",
      "Epoch 45, CIFAR-10 Batch 1:  Loss: 0.8830217123031616  Accuracy: 0.675000011920929\n",
      "Epoch 46, CIFAR-10 Batch 1:  Loss: 0.8514242172241211  Accuracy: 0.7250000238418579\n",
      "Epoch 47, CIFAR-10 Batch 1:  Loss: 0.8285001516342163  Accuracy: 0.7250000238418579\n",
      "Epoch 48, CIFAR-10 Batch 1:  Loss: 0.8285244107246399  Accuracy: 0.75\n",
      "Epoch 49, CIFAR-10 Batch 1:  Loss: 0.7634793519973755  Accuracy: 0.7000000476837158\n",
      "Epoch 50, CIFAR-10 Batch 1:  Loss: 0.7589956521987915  Accuracy: 0.75\n",
      "Epoch 51, CIFAR-10 Batch 1:  Loss: 0.7623107433319092  Accuracy: 0.75\n",
      "Epoch 52, CIFAR-10 Batch 1:  Loss: 0.7251617312431335  Accuracy: 0.7749999761581421\n",
      "Epoch 53, CIFAR-10 Batch 1:  Loss: 0.7067357301712036  Accuracy: 0.7749999761581421\n",
      "Epoch 54, CIFAR-10 Batch 1:  Loss: 0.7055052518844604  Accuracy: 0.7749999761581421\n",
      "Epoch 55, CIFAR-10 Batch 1:  Loss: 0.6940995454788208  Accuracy: 0.7999999523162842\n",
      "Epoch 56, CIFAR-10 Batch 1:  Loss: 0.6936371922492981  Accuracy: 0.8000000715255737\n",
      "Epoch 57, CIFAR-10 Batch 1:  Loss: 0.7078362703323364  Accuracy: 0.75\n",
      "Epoch 58, CIFAR-10 Batch 1:  Loss: 0.6744713187217712  Accuracy: 0.800000011920929\n",
      "Epoch 59, CIFAR-10 Batch 1:  Loss: 0.6640273332595825  Accuracy: 0.8250000476837158\n",
      "Epoch 60, CIFAR-10 Batch 1:  Loss: 0.6324827671051025  Accuracy: 0.7749999761581421\n",
      "Epoch 61, CIFAR-10 Batch 1:  Loss: 0.6279586553573608  Accuracy: 0.7749999761581421\n",
      "Epoch 62, CIFAR-10 Batch 1:  Loss: 0.6607778668403625  Accuracy: 0.7999999523162842\n",
      "Epoch 63, CIFAR-10 Batch 1:  Loss: 0.6352750062942505  Accuracy: 0.8250000476837158\n",
      "Epoch 64, CIFAR-10 Batch 1:  Loss: 0.615355908870697  Accuracy: 0.8250000476837158\n",
      "Epoch 65, CIFAR-10 Batch 1:  Loss: 0.5950947999954224  Accuracy: 0.8500000238418579\n",
      "Epoch 66, CIFAR-10 Batch 1:  Loss: 0.6058317422866821  Accuracy: 0.8500000238418579\n",
      "Epoch 67, CIFAR-10 Batch 1:  Loss: 0.6402034163475037  Accuracy: 0.800000011920929\n",
      "Epoch 68, CIFAR-10 Batch 1:  Loss: 0.5940229892730713  Accuracy: 0.8500000834465027\n",
      "Epoch 69, CIFAR-10 Batch 1:  Loss: 0.5354049801826477  Accuracy: 0.8750000596046448\n",
      "Epoch 70, CIFAR-10 Batch 1:  Loss: 0.5637300610542297  Accuracy: 0.8500000238418579\n",
      "Epoch 71, CIFAR-10 Batch 1:  Loss: 0.5839259624481201  Accuracy: 0.8500000238418579\n",
      "Epoch 72, CIFAR-10 Batch 1:  Loss: 0.5419413447380066  Accuracy: 0.8500000238418579\n",
      "Epoch 73, CIFAR-10 Batch 1:  Loss: 0.5335173010826111  Accuracy: 0.8500000238418579\n",
      "Epoch 74, CIFAR-10 Batch 1:  Loss: 0.5330908298492432  Accuracy: 0.8750000596046448\n",
      "Epoch 75, CIFAR-10 Batch 1:  Loss: 0.5341019034385681  Accuracy: 0.8750000596046448\n",
      "Epoch 76, CIFAR-10 Batch 1:  Loss: 0.5139391422271729  Accuracy: 0.875\n",
      "Epoch 77, CIFAR-10 Batch 1:  Loss: 0.5134570598602295  Accuracy: 0.8750000596046448\n",
      "Epoch 78, CIFAR-10 Batch 1:  Loss: 0.5192826986312866  Accuracy: 0.8750000596046448\n",
      "Epoch 79, CIFAR-10 Batch 1:  Loss: 0.4744469225406647  Accuracy: 0.8750000596046448\n",
      "Epoch 80, CIFAR-10 Batch 1:  Loss: 0.5148933529853821  Accuracy: 0.8500000238418579\n",
      "Epoch 81, CIFAR-10 Batch 1:  Loss: 0.5147742629051208  Accuracy: 0.8500000238418579\n",
      "Epoch 82, CIFAR-10 Batch 1:  Loss: 0.5262293219566345  Accuracy: 0.8250000476837158\n",
      "Epoch 83, CIFAR-10 Batch 1:  Loss: 0.45890820026397705  Accuracy: 0.9000000357627869\n",
      "Epoch 84, CIFAR-10 Batch 1:  Loss: 0.4828585982322693  Accuracy: 0.925000011920929\n",
      "Epoch 85, CIFAR-10 Batch 1:  Loss: 0.48156264424324036  Accuracy: 0.9000000357627869\n",
      "Epoch 86, CIFAR-10 Batch 1:  Loss: 0.42924830317497253  Accuracy: 0.8750000596046448\n",
      "Epoch 87, CIFAR-10 Batch 1:  Loss: 0.4577413499355316  Accuracy: 0.8750000596046448\n",
      "Epoch 88, CIFAR-10 Batch 1:  Loss: 0.39922139048576355  Accuracy: 0.925000011920929\n",
      "Epoch 89, CIFAR-10 Batch 1:  Loss: 0.4326520562171936  Accuracy: 0.925000011920929\n",
      "Epoch 90, CIFAR-10 Batch 1:  Loss: 0.4272536635398865  Accuracy: 0.925000011920929\n",
      "Epoch 91, CIFAR-10 Batch 1:  Loss: 0.4310108423233032  Accuracy: 0.8500000834465027\n",
      "Epoch 92, CIFAR-10 Batch 1:  Loss: 0.39872196316719055  Accuracy: 0.925000011920929\n",
      "Epoch 93, CIFAR-10 Batch 1:  Loss: 0.40256065130233765  Accuracy: 0.8750000596046448\n",
      "Epoch 94, CIFAR-10 Batch 1:  Loss: 0.41144993901252747  Accuracy: 0.925000011920929\n",
      "Epoch 95, CIFAR-10 Batch 1:  Loss: 0.4197466969490051  Accuracy: 0.8750000596046448\n",
      "Epoch 96, CIFAR-10 Batch 1:  Loss: 0.3720635175704956  Accuracy: 0.9000000357627869\n",
      "Epoch 97, CIFAR-10 Batch 1:  Loss: 0.4027303159236908  Accuracy: 0.925000011920929\n",
      "Epoch 98, CIFAR-10 Batch 1:  Loss: 0.3949185609817505  Accuracy: 0.8750000596046448\n",
      "Epoch 99, CIFAR-10 Batch 1:  Loss: 0.36128777265548706  Accuracy: 0.925000011920929\n",
      "Epoch 100, CIFAR-10 Batch 1:  Loss: 0.367600679397583  Accuracy: 0.925000011920929\n"
     ]
    }
   ],
   "source": [
    "\"\"\"\n",
    "DON'T MODIFY ANYTHING IN THIS CELL\n",
    "\"\"\"\n",
    "print('Checking the Training on a Single Batch...')\n",
    "with tf.Session() as sess:\n",
    "    # Initializing the variables\n",
    "    sess.run(tf.global_variables_initializer())\n",
    "    \n",
    "    # Training cycle\n",
    "    for epoch in range(epochs):\n",
    "        batch_i = 1\n",
    "        for batch_features, batch_labels in helper.load_preprocess_training_batch(batch_i, batch_size):\n",
    "            train_neural_network(sess, optimizer, keep_probability, batch_features, batch_labels)\n",
    "        print('Epoch {:>2}, CIFAR-10 Batch {}:  '.format(epoch + 1, batch_i), end='')\n",
    "        print_stats(sess, batch_features, batch_labels, cost, accuracy)"
   ]
  },
  {
   "cell_type": "markdown",
   "metadata": {
    "deletable": true,
    "editable": true
   },
   "source": [
    "### Fully Train the Model\n",
    "Now that you got a good accuracy with a single CIFAR-10 batch, try it with all five batches."
   ]
  },
  {
   "cell_type": "code",
   "execution_count": 19,
   "metadata": {
    "collapsed": false,
    "deletable": true,
    "editable": true
   },
   "outputs": [
    {
     "name": "stdout",
     "output_type": "stream",
     "text": [
      "Training...\n",
      "Epoch  1, CIFAR-10 Batch 1:  Loss: 2.2407495975494385  Accuracy: 0.10000000149011612\n",
      "Epoch  1, CIFAR-10 Batch 2:  Loss: 2.069087505340576  Accuracy: 0.32500001788139343\n",
      "Epoch  1, CIFAR-10 Batch 3:  Loss: 1.8168511390686035  Accuracy: 0.25\n",
      "Epoch  1, CIFAR-10 Batch 4:  Loss: 1.8788169622421265  Accuracy: 0.30000001192092896\n",
      "Epoch  1, CIFAR-10 Batch 5:  Loss: 2.014150619506836  Accuracy: 0.2750000059604645\n",
      "Epoch  2, CIFAR-10 Batch 1:  Loss: 2.155445098876953  Accuracy: 0.30000001192092896\n",
      "Epoch  2, CIFAR-10 Batch 2:  Loss: 1.8757742643356323  Accuracy: 0.32500001788139343\n",
      "Epoch  2, CIFAR-10 Batch 3:  Loss: 1.576603651046753  Accuracy: 0.42499998211860657\n",
      "Epoch  2, CIFAR-10 Batch 4:  Loss: 1.6962814331054688  Accuracy: 0.3750000298023224\n",
      "Epoch  2, CIFAR-10 Batch 5:  Loss: 1.7440747022628784  Accuracy: 0.3500000238418579\n",
      "Epoch  3, CIFAR-10 Batch 1:  Loss: 1.880205750465393  Accuracy: 0.3999999761581421\n",
      "Epoch  3, CIFAR-10 Batch 2:  Loss: 1.7220263481140137  Accuracy: 0.42500001192092896\n",
      "Epoch  3, CIFAR-10 Batch 3:  Loss: 1.3569676876068115  Accuracy: 0.42500001192092896\n",
      "Epoch  3, CIFAR-10 Batch 4:  Loss: 1.5655268430709839  Accuracy: 0.45000001788139343\n",
      "Epoch  3, CIFAR-10 Batch 5:  Loss: 1.6038286685943604  Accuracy: 0.42500001192092896\n",
      "Epoch  4, CIFAR-10 Batch 1:  Loss: 1.7956050634384155  Accuracy: 0.42500001192092896\n",
      "Epoch  4, CIFAR-10 Batch 2:  Loss: 1.5300813913345337  Accuracy: 0.5\n",
      "Epoch  4, CIFAR-10 Batch 3:  Loss: 1.2526285648345947  Accuracy: 0.5\n",
      "Epoch  4, CIFAR-10 Batch 4:  Loss: 1.4761356115341187  Accuracy: 0.4750000238418579\n",
      "Epoch  4, CIFAR-10 Batch 5:  Loss: 1.5676349401474  Accuracy: 0.45000001788139343\n",
      "Epoch  5, CIFAR-10 Batch 1:  Loss: 1.6130070686340332  Accuracy: 0.42499998211860657\n",
      "Epoch  5, CIFAR-10 Batch 2:  Loss: 1.49021577835083  Accuracy: 0.42499998211860657\n",
      "Epoch  5, CIFAR-10 Batch 3:  Loss: 1.1300631761550903  Accuracy: 0.5250000357627869\n",
      "Epoch  5, CIFAR-10 Batch 4:  Loss: 1.3988564014434814  Accuracy: 0.4750000238418579\n",
      "Epoch  5, CIFAR-10 Batch 5:  Loss: 1.5329532623291016  Accuracy: 0.42500001192092896\n",
      "Epoch  6, CIFAR-10 Batch 1:  Loss: 1.5551068782806396  Accuracy: 0.4749999940395355\n",
      "Epoch  6, CIFAR-10 Batch 2:  Loss: 1.3578611612319946  Accuracy: 0.4749999940395355\n",
      "Epoch  6, CIFAR-10 Batch 3:  Loss: 1.0988590717315674  Accuracy: 0.5999999642372131\n",
      "Epoch  6, CIFAR-10 Batch 4:  Loss: 1.3520221710205078  Accuracy: 0.4750000238418579\n",
      "Epoch  6, CIFAR-10 Batch 5:  Loss: 1.423567295074463  Accuracy: 0.42500001192092896\n",
      "Epoch  7, CIFAR-10 Batch 1:  Loss: 1.4595640897750854  Accuracy: 0.5250000357627869\n",
      "Epoch  7, CIFAR-10 Batch 2:  Loss: 1.2894840240478516  Accuracy: 0.42500001192092896\n",
      "Epoch  7, CIFAR-10 Batch 3:  Loss: 1.036316156387329  Accuracy: 0.625\n",
      "Epoch  7, CIFAR-10 Batch 4:  Loss: 1.2222868204116821  Accuracy: 0.550000011920929\n",
      "Epoch  7, CIFAR-10 Batch 5:  Loss: 1.3288687467575073  Accuracy: 0.5249999761581421\n",
      "Epoch  8, CIFAR-10 Batch 1:  Loss: 1.4216713905334473  Accuracy: 0.5750000476837158\n",
      "Epoch  8, CIFAR-10 Batch 2:  Loss: 1.2065156698226929  Accuracy: 0.44999998807907104\n",
      "Epoch  8, CIFAR-10 Batch 3:  Loss: 1.000073790550232  Accuracy: 0.5750000476837158\n",
      "Epoch  8, CIFAR-10 Batch 4:  Loss: 1.1937850713729858  Accuracy: 0.550000011920929\n",
      "Epoch  8, CIFAR-10 Batch 5:  Loss: 1.2997949123382568  Accuracy: 0.550000011920929\n",
      "Epoch  9, CIFAR-10 Batch 1:  Loss: 1.3345861434936523  Accuracy: 0.5750000476837158\n",
      "Epoch  9, CIFAR-10 Batch 2:  Loss: 1.1349985599517822  Accuracy: 0.44999998807907104\n",
      "Epoch  9, CIFAR-10 Batch 3:  Loss: 0.9847784042358398  Accuracy: 0.5750000476837158\n",
      "Epoch  9, CIFAR-10 Batch 4:  Loss: 1.1771984100341797  Accuracy: 0.6000000238418579\n",
      "Epoch  9, CIFAR-10 Batch 5:  Loss: 1.202742576599121  Accuracy: 0.6250000596046448\n",
      "Epoch 10, CIFAR-10 Batch 1:  Loss: 1.2548460960388184  Accuracy: 0.550000011920929\n",
      "Epoch 10, CIFAR-10 Batch 2:  Loss: 1.1219254732131958  Accuracy: 0.5\n",
      "Epoch 10, CIFAR-10 Batch 3:  Loss: 0.9660706520080566  Accuracy: 0.625\n",
      "Epoch 10, CIFAR-10 Batch 4:  Loss: 1.130518913269043  Accuracy: 0.5750000476837158\n",
      "Epoch 10, CIFAR-10 Batch 5:  Loss: 1.1853832006454468  Accuracy: 0.5250000357627869\n",
      "Epoch 11, CIFAR-10 Batch 1:  Loss: 1.2452661991119385  Accuracy: 0.6000000238418579\n",
      "Epoch 11, CIFAR-10 Batch 2:  Loss: 1.0447204113006592  Accuracy: 0.6000000238418579\n",
      "Epoch 11, CIFAR-10 Batch 3:  Loss: 0.9358723759651184  Accuracy: 0.675000011920929\n",
      "Epoch 11, CIFAR-10 Batch 4:  Loss: 1.092911720275879  Accuracy: 0.625\n",
      "Epoch 11, CIFAR-10 Batch 5:  Loss: 1.0826034545898438  Accuracy: 0.6499999761581421\n",
      "Epoch 12, CIFAR-10 Batch 1:  Loss: 1.216745138168335  Accuracy: 0.5750000476837158\n",
      "Epoch 12, CIFAR-10 Batch 2:  Loss: 1.0075386762619019  Accuracy: 0.625\n",
      "Epoch 12, CIFAR-10 Batch 3:  Loss: 0.9037131667137146  Accuracy: 0.7000000476837158\n",
      "Epoch 12, CIFAR-10 Batch 4:  Loss: 1.024472713470459  Accuracy: 0.625\n",
      "Epoch 12, CIFAR-10 Batch 5:  Loss: 1.0956350564956665  Accuracy: 0.6000000238418579\n",
      "Epoch 13, CIFAR-10 Batch 1:  Loss: 1.1339809894561768  Accuracy: 0.6500000357627869\n",
      "Epoch 13, CIFAR-10 Batch 2:  Loss: 1.0202174186706543  Accuracy: 0.574999988079071\n",
      "Epoch 13, CIFAR-10 Batch 3:  Loss: 0.8478943109512329  Accuracy: 0.675000011920929\n",
      "Epoch 13, CIFAR-10 Batch 4:  Loss: 1.015660285949707  Accuracy: 0.5750000476837158\n",
      "Epoch 13, CIFAR-10 Batch 5:  Loss: 1.0614936351776123  Accuracy: 0.7000000476837158\n",
      "Epoch 14, CIFAR-10 Batch 1:  Loss: 1.0716530084609985  Accuracy: 0.6500000357627869\n",
      "Epoch 14, CIFAR-10 Batch 2:  Loss: 0.9809945821762085  Accuracy: 0.6500000357627869\n",
      "Epoch 14, CIFAR-10 Batch 3:  Loss: 0.8421981334686279  Accuracy: 0.7250000238418579\n",
      "Epoch 14, CIFAR-10 Batch 4:  Loss: 0.9713417291641235  Accuracy: 0.6499999761581421\n",
      "Epoch 14, CIFAR-10 Batch 5:  Loss: 1.0233097076416016  Accuracy: 0.7000000476837158\n",
      "Epoch 15, CIFAR-10 Batch 1:  Loss: 1.0171693563461304  Accuracy: 0.625\n",
      "Epoch 15, CIFAR-10 Batch 2:  Loss: 0.8991389870643616  Accuracy: 0.550000011920929\n",
      "Epoch 15, CIFAR-10 Batch 3:  Loss: 0.7834067344665527  Accuracy: 0.7250000238418579\n",
      "Epoch 15, CIFAR-10 Batch 4:  Loss: 0.9789330959320068  Accuracy: 0.6499999761581421\n",
      "Epoch 15, CIFAR-10 Batch 5:  Loss: 1.0128569602966309  Accuracy: 0.7000000476837158\n",
      "Epoch 16, CIFAR-10 Batch 1:  Loss: 1.0123449563980103  Accuracy: 0.675000011920929\n",
      "Epoch 16, CIFAR-10 Batch 2:  Loss: 0.8956029415130615  Accuracy: 0.5750000476837158\n",
      "Epoch 16, CIFAR-10 Batch 3:  Loss: 0.7993365526199341  Accuracy: 0.7750000357627869\n",
      "Epoch 16, CIFAR-10 Batch 4:  Loss: 0.9699227809906006  Accuracy: 0.625\n",
      "Epoch 16, CIFAR-10 Batch 5:  Loss: 0.9794538617134094  Accuracy: 0.7250000238418579\n",
      "Epoch 17, CIFAR-10 Batch 1:  Loss: 1.0093059539794922  Accuracy: 0.675000011920929\n",
      "Epoch 17, CIFAR-10 Batch 2:  Loss: 0.9196997284889221  Accuracy: 0.7000000476837158\n",
      "Epoch 17, CIFAR-10 Batch 3:  Loss: 0.7920852303504944  Accuracy: 0.699999988079071\n",
      "Epoch 17, CIFAR-10 Batch 4:  Loss: 0.9241796135902405  Accuracy: 0.6000000238418579\n",
      "Epoch 17, CIFAR-10 Batch 5:  Loss: 0.9302573800086975  Accuracy: 0.800000011920929\n",
      "Epoch 18, CIFAR-10 Batch 1:  Loss: 0.9813165068626404  Accuracy: 0.6500000357627869\n",
      "Epoch 18, CIFAR-10 Batch 2:  Loss: 0.8250115513801575  Accuracy: 0.6000000238418579\n",
      "Epoch 18, CIFAR-10 Batch 3:  Loss: 0.7325782775878906  Accuracy: 0.7749999761581421\n",
      "Epoch 18, CIFAR-10 Batch 4:  Loss: 0.9517008066177368  Accuracy: 0.6499999761581421\n",
      "Epoch 18, CIFAR-10 Batch 5:  Loss: 0.9134014248847961  Accuracy: 0.7000000476837158\n",
      "Epoch 19, CIFAR-10 Batch 1:  Loss: 0.9128022193908691  Accuracy: 0.6500000357627869\n",
      "Epoch 19, CIFAR-10 Batch 2:  Loss: 0.8414250612258911  Accuracy: 0.6499999761581421\n",
      "Epoch 19, CIFAR-10 Batch 3:  Loss: 0.6945692300796509  Accuracy: 0.75\n",
      "Epoch 19, CIFAR-10 Batch 4:  Loss: 0.8487385511398315  Accuracy: 0.6749999523162842\n",
      "Epoch 19, CIFAR-10 Batch 5:  Loss: 0.8678162097930908  Accuracy: 0.7749999761581421\n",
      "Epoch 20, CIFAR-10 Batch 1:  Loss: 0.9510974287986755  Accuracy: 0.7000000476837158\n",
      "Epoch 20, CIFAR-10 Batch 2:  Loss: 0.7846347689628601  Accuracy: 0.6750000715255737\n",
      "Epoch 20, CIFAR-10 Batch 3:  Loss: 0.7126110196113586  Accuracy: 0.7250000238418579\n",
      "Epoch 20, CIFAR-10 Batch 4:  Loss: 0.8700204491615295  Accuracy: 0.6499999761581421\n",
      "Epoch 20, CIFAR-10 Batch 5:  Loss: 0.8385509848594666  Accuracy: 0.75\n",
      "Epoch 21, CIFAR-10 Batch 1:  Loss: 0.8837878704071045  Accuracy: 0.7250000238418579\n",
      "Epoch 21, CIFAR-10 Batch 2:  Loss: 0.8630751967430115  Accuracy: 0.6499999761581421\n",
      "Epoch 21, CIFAR-10 Batch 3:  Loss: 0.6605662107467651  Accuracy: 0.7999999523162842\n",
      "Epoch 21, CIFAR-10 Batch 4:  Loss: 0.814072847366333  Accuracy: 0.7000000476837158\n",
      "Epoch 21, CIFAR-10 Batch 5:  Loss: 0.8595413565635681  Accuracy: 0.7000000476837158\n",
      "Epoch 22, CIFAR-10 Batch 1:  Loss: 0.8487583994865417  Accuracy: 0.75\n",
      "Epoch 22, CIFAR-10 Batch 2:  Loss: 0.7557514905929565  Accuracy: 0.6500000357627869\n",
      "Epoch 22, CIFAR-10 Batch 3:  Loss: 0.6428171396255493  Accuracy: 0.800000011920929\n",
      "Epoch 22, CIFAR-10 Batch 4:  Loss: 0.84355229139328  Accuracy: 0.7250000238418579\n",
      "Epoch 22, CIFAR-10 Batch 5:  Loss: 0.7992513179779053  Accuracy: 0.8500000238418579\n",
      "Epoch 23, CIFAR-10 Batch 1:  Loss: 0.8489986658096313  Accuracy: 0.7250000238418579\n",
      "Epoch 23, CIFAR-10 Batch 2:  Loss: 0.7877410650253296  Accuracy: 0.7000000476837158\n",
      "Epoch 23, CIFAR-10 Batch 3:  Loss: 0.635542094707489  Accuracy: 0.800000011920929\n",
      "Epoch 23, CIFAR-10 Batch 4:  Loss: 0.8075373768806458  Accuracy: 0.75\n",
      "Epoch 23, CIFAR-10 Batch 5:  Loss: 0.7879190444946289  Accuracy: 0.75\n",
      "Epoch 24, CIFAR-10 Batch 1:  Loss: 0.8430177569389343  Accuracy: 0.7250000238418579\n",
      "Epoch 24, CIFAR-10 Batch 2:  Loss: 0.7140355706214905  Accuracy: 0.7000000476837158\n",
      "Epoch 24, CIFAR-10 Batch 3:  Loss: 0.6623533368110657  Accuracy: 0.7500000596046448\n",
      "Epoch 24, CIFAR-10 Batch 4:  Loss: 0.7890381813049316  Accuracy: 0.75\n",
      "Epoch 24, CIFAR-10 Batch 5:  Loss: 0.7662026286125183  Accuracy: 0.7999999523162842\n",
      "Epoch 25, CIFAR-10 Batch 1:  Loss: 0.7773386836051941  Accuracy: 0.7749999761581421\n",
      "Epoch 25, CIFAR-10 Batch 2:  Loss: 0.76423579454422  Accuracy: 0.7000000476837158\n",
      "Epoch 25, CIFAR-10 Batch 3:  Loss: 0.6194362640380859  Accuracy: 0.7749999761581421\n",
      "Epoch 25, CIFAR-10 Batch 4:  Loss: 0.804171085357666  Accuracy: 0.75\n",
      "Epoch 25, CIFAR-10 Batch 5:  Loss: 0.8007510900497437  Accuracy: 0.8500000238418579\n",
      "Epoch 26, CIFAR-10 Batch 1:  Loss: 0.7622886896133423  Accuracy: 0.7250000238418579\n",
      "Epoch 26, CIFAR-10 Batch 2:  Loss: 0.6699207425117493  Accuracy: 0.800000011920929\n",
      "Epoch 26, CIFAR-10 Batch 3:  Loss: 0.603635847568512  Accuracy: 0.7750000357627869\n",
      "Epoch 26, CIFAR-10 Batch 4:  Loss: 0.7853897213935852  Accuracy: 0.6749999523162842\n",
      "Epoch 26, CIFAR-10 Batch 5:  Loss: 0.7486754655838013  Accuracy: 0.8250000476837158\n",
      "Epoch 27, CIFAR-10 Batch 1:  Loss: 0.7700471878051758  Accuracy: 0.7250000238418579\n",
      "Epoch 27, CIFAR-10 Batch 2:  Loss: 0.6947184801101685  Accuracy: 0.7250000238418579\n",
      "Epoch 27, CIFAR-10 Batch 3:  Loss: 0.5798087120056152  Accuracy: 0.8250000476837158\n",
      "Epoch 27, CIFAR-10 Batch 4:  Loss: 0.7181607484817505  Accuracy: 0.8250000476837158\n",
      "Epoch 27, CIFAR-10 Batch 5:  Loss: 0.7067927122116089  Accuracy: 0.7999999523162842\n",
      "Epoch 28, CIFAR-10 Batch 1:  Loss: 0.7648371458053589  Accuracy: 0.75\n",
      "Epoch 28, CIFAR-10 Batch 2:  Loss: 0.6709127426147461  Accuracy: 0.75\n",
      "Epoch 28, CIFAR-10 Batch 3:  Loss: 0.596663773059845  Accuracy: 0.800000011920929\n",
      "Epoch 28, CIFAR-10 Batch 4:  Loss: 0.7498250007629395  Accuracy: 0.75\n",
      "Epoch 28, CIFAR-10 Batch 5:  Loss: 0.7151209115982056  Accuracy: 0.8750000596046448\n",
      "Epoch 29, CIFAR-10 Batch 1:  Loss: 0.778498649597168  Accuracy: 0.75\n",
      "Epoch 29, CIFAR-10 Batch 2:  Loss: 0.6605929136276245  Accuracy: 0.75\n",
      "Epoch 29, CIFAR-10 Batch 3:  Loss: 0.6001121401786804  Accuracy: 0.8499999642372131\n",
      "Epoch 29, CIFAR-10 Batch 4:  Loss: 0.7109417915344238  Accuracy: 0.7749999761581421\n",
      "Epoch 29, CIFAR-10 Batch 5:  Loss: 0.6633126735687256  Accuracy: 0.8750000596046448\n",
      "Epoch 30, CIFAR-10 Batch 1:  Loss: 0.7046401500701904  Accuracy: 0.7749999761581421\n",
      "Epoch 30, CIFAR-10 Batch 2:  Loss: 0.6824194192886353  Accuracy: 0.7250000238418579\n",
      "Epoch 30, CIFAR-10 Batch 3:  Loss: 0.5940694808959961  Accuracy: 0.8500000238418579\n",
      "Epoch 30, CIFAR-10 Batch 4:  Loss: 0.6595271825790405  Accuracy: 0.75\n",
      "Epoch 30, CIFAR-10 Batch 5:  Loss: 0.6978391408920288  Accuracy: 0.8250000476837158\n",
      "Epoch 31, CIFAR-10 Batch 1:  Loss: 0.7055547833442688  Accuracy: 0.7749999761581421\n",
      "Epoch 31, CIFAR-10 Batch 2:  Loss: 0.6730473041534424  Accuracy: 0.75\n",
      "Epoch 31, CIFAR-10 Batch 3:  Loss: 0.5680810213088989  Accuracy: 0.8750000596046448\n",
      "Epoch 31, CIFAR-10 Batch 4:  Loss: 0.6952897906303406  Accuracy: 0.7749999761581421\n",
      "Epoch 31, CIFAR-10 Batch 5:  Loss: 0.7029041647911072  Accuracy: 0.8500000238418579\n",
      "Epoch 32, CIFAR-10 Batch 1:  Loss: 0.7013546824455261  Accuracy: 0.8000000715255737\n",
      "Epoch 32, CIFAR-10 Batch 2:  Loss: 0.6112311482429504  Accuracy: 0.7749999761581421\n",
      "Epoch 32, CIFAR-10 Batch 3:  Loss: 0.5365984439849854  Accuracy: 0.925000011920929\n",
      "Epoch 32, CIFAR-10 Batch 4:  Loss: 0.6857649087905884  Accuracy: 0.800000011920929\n",
      "Epoch 32, CIFAR-10 Batch 5:  Loss: 0.6601964831352234  Accuracy: 0.8500000238418579\n",
      "Epoch 33, CIFAR-10 Batch 1:  Loss: 0.6553847789764404  Accuracy: 0.7749999761581421\n",
      "Epoch 33, CIFAR-10 Batch 2:  Loss: 0.6318067312240601  Accuracy: 0.8250000476837158\n",
      "Epoch 33, CIFAR-10 Batch 3:  Loss: 0.5618765354156494  Accuracy: 0.9000000357627869\n",
      "Epoch 33, CIFAR-10 Batch 4:  Loss: 0.6597921848297119  Accuracy: 0.7749999761581421\n",
      "Epoch 33, CIFAR-10 Batch 5:  Loss: 0.6681101322174072  Accuracy: 0.8750000596046448\n",
      "Epoch 34, CIFAR-10 Batch 1:  Loss: 0.6899712681770325  Accuracy: 0.8000000715255737\n",
      "Epoch 34, CIFAR-10 Batch 2:  Loss: 0.6421152353286743  Accuracy: 0.7500000596046448\n",
      "Epoch 34, CIFAR-10 Batch 3:  Loss: 0.5416947603225708  Accuracy: 0.949999988079071\n",
      "Epoch 34, CIFAR-10 Batch 4:  Loss: 0.6663821339607239  Accuracy: 0.7250000238418579\n",
      "Epoch 34, CIFAR-10 Batch 5:  Loss: 0.5809061527252197  Accuracy: 0.8750000596046448\n",
      "Epoch 35, CIFAR-10 Batch 1:  Loss: 0.6982719302177429  Accuracy: 0.8000000715255737\n",
      "Epoch 35, CIFAR-10 Batch 2:  Loss: 0.6026504039764404  Accuracy: 0.800000011920929\n",
      "Epoch 35, CIFAR-10 Batch 3:  Loss: 0.5307466387748718  Accuracy: 0.925000011920929\n",
      "Epoch 35, CIFAR-10 Batch 4:  Loss: 0.6612953543663025  Accuracy: 0.7999999523162842\n",
      "Epoch 35, CIFAR-10 Batch 5:  Loss: 0.6087226271629333  Accuracy: 0.9000000357627869\n",
      "Epoch 36, CIFAR-10 Batch 1:  Loss: 0.6904184818267822  Accuracy: 0.8000000715255737\n",
      "Epoch 36, CIFAR-10 Batch 2:  Loss: 0.5805404186248779  Accuracy: 0.8250000476837158\n",
      "Epoch 36, CIFAR-10 Batch 3:  Loss: 0.4934183955192566  Accuracy: 0.925000011920929\n",
      "Epoch 36, CIFAR-10 Batch 4:  Loss: 0.6638121604919434  Accuracy: 0.75\n",
      "Epoch 36, CIFAR-10 Batch 5:  Loss: 0.5951093435287476  Accuracy: 0.875\n",
      "Epoch 37, CIFAR-10 Batch 1:  Loss: 0.6951326131820679  Accuracy: 0.8000000715255737\n",
      "Epoch 37, CIFAR-10 Batch 2:  Loss: 0.6218007802963257  Accuracy: 0.8500000238418579\n",
      "Epoch 37, CIFAR-10 Batch 3:  Loss: 0.5482319593429565  Accuracy: 0.8750000596046448\n",
      "Epoch 37, CIFAR-10 Batch 4:  Loss: 0.6318246722221375  Accuracy: 0.7999999523162842\n",
      "Epoch 37, CIFAR-10 Batch 5:  Loss: 0.5869120359420776  Accuracy: 0.8750000596046448\n",
      "Epoch 38, CIFAR-10 Batch 1:  Loss: 0.6709219217300415  Accuracy: 0.8250000476837158\n",
      "Epoch 38, CIFAR-10 Batch 2:  Loss: 0.5864244699478149  Accuracy: 0.8000000715255737\n",
      "Epoch 38, CIFAR-10 Batch 3:  Loss: 0.5050829648971558  Accuracy: 0.925000011920929\n",
      "Epoch 38, CIFAR-10 Batch 4:  Loss: 0.6145772337913513  Accuracy: 0.8250000476837158\n",
      "Epoch 38, CIFAR-10 Batch 5:  Loss: 0.5597181916236877  Accuracy: 0.875\n",
      "Epoch 39, CIFAR-10 Batch 1:  Loss: 0.6741799116134644  Accuracy: 0.8000000715255737\n",
      "Epoch 39, CIFAR-10 Batch 2:  Loss: 0.6021136045455933  Accuracy: 0.7749999761581421\n",
      "Epoch 39, CIFAR-10 Batch 3:  Loss: 0.5046072006225586  Accuracy: 0.9000000357627869\n",
      "Epoch 39, CIFAR-10 Batch 4:  Loss: 0.6049880981445312  Accuracy: 0.75\n",
      "Epoch 39, CIFAR-10 Batch 5:  Loss: 0.6079317927360535  Accuracy: 0.9000000357627869\n",
      "Epoch 40, CIFAR-10 Batch 1:  Loss: 0.6070348620414734  Accuracy: 0.8000000715255737\n",
      "Epoch 40, CIFAR-10 Batch 2:  Loss: 0.578606128692627  Accuracy: 0.8500000834465027\n",
      "Epoch 40, CIFAR-10 Batch 3:  Loss: 0.4966207444667816  Accuracy: 0.9749999642372131\n",
      "Epoch 40, CIFAR-10 Batch 4:  Loss: 0.6523605585098267  Accuracy: 0.75\n",
      "Epoch 40, CIFAR-10 Batch 5:  Loss: 0.5516743659973145  Accuracy: 0.8750000596046448\n",
      "Epoch 41, CIFAR-10 Batch 1:  Loss: 0.6131858825683594  Accuracy: 0.8000000715255737\n",
      "Epoch 41, CIFAR-10 Batch 2:  Loss: 0.5625725984573364  Accuracy: 0.824999988079071\n",
      "Epoch 41, CIFAR-10 Batch 3:  Loss: 0.483043372631073  Accuracy: 0.9749999642372131\n",
      "Epoch 41, CIFAR-10 Batch 4:  Loss: 0.5926914215087891  Accuracy: 0.7999999523162842\n",
      "Epoch 41, CIFAR-10 Batch 5:  Loss: 0.5989165306091309  Accuracy: 0.8500000834465027\n",
      "Epoch 42, CIFAR-10 Batch 1:  Loss: 0.6549594402313232  Accuracy: 0.8000000715255737\n",
      "Epoch 42, CIFAR-10 Batch 2:  Loss: 0.5505747199058533  Accuracy: 0.8500000238418579\n",
      "Epoch 42, CIFAR-10 Batch 3:  Loss: 0.49338364601135254  Accuracy: 0.925000011920929\n",
      "Epoch 42, CIFAR-10 Batch 4:  Loss: 0.5890015959739685  Accuracy: 0.75\n",
      "Epoch 42, CIFAR-10 Batch 5:  Loss: 0.5753021240234375  Accuracy: 0.8500000238418579\n",
      "Epoch 43, CIFAR-10 Batch 1:  Loss: 0.6038170456886292  Accuracy: 0.8000000715255737\n",
      "Epoch 43, CIFAR-10 Batch 2:  Loss: 0.5688196420669556  Accuracy: 0.8250000476837158\n",
      "Epoch 43, CIFAR-10 Batch 3:  Loss: 0.46703681349754333  Accuracy: 0.925000011920929\n",
      "Epoch 43, CIFAR-10 Batch 4:  Loss: 0.6014531254768372  Accuracy: 0.7750000357627869\n",
      "Epoch 43, CIFAR-10 Batch 5:  Loss: 0.5545350313186646  Accuracy: 0.8750000596046448\n",
      "Epoch 44, CIFAR-10 Batch 1:  Loss: 0.553515613079071  Accuracy: 0.8250000476837158\n",
      "Epoch 44, CIFAR-10 Batch 2:  Loss: 0.5096043348312378  Accuracy: 0.8750000596046448\n",
      "Epoch 44, CIFAR-10 Batch 3:  Loss: 0.4650740325450897  Accuracy: 0.925000011920929\n",
      "Epoch 44, CIFAR-10 Batch 4:  Loss: 0.533523678779602  Accuracy: 0.8250000476837158\n",
      "Epoch 44, CIFAR-10 Batch 5:  Loss: 0.5458324551582336  Accuracy: 0.9000000357627869\n",
      "Epoch 45, CIFAR-10 Batch 1:  Loss: 0.5814709663391113  Accuracy: 0.8000000715255737\n",
      "Epoch 45, CIFAR-10 Batch 2:  Loss: 0.5034164786338806  Accuracy: 0.8250000476837158\n",
      "Epoch 45, CIFAR-10 Batch 3:  Loss: 0.4620792865753174  Accuracy: 0.949999988079071\n",
      "Epoch 45, CIFAR-10 Batch 4:  Loss: 0.5589136481285095  Accuracy: 0.800000011920929\n",
      "Epoch 45, CIFAR-10 Batch 5:  Loss: 0.6013224124908447  Accuracy: 0.8500000238418579\n",
      "Epoch 46, CIFAR-10 Batch 1:  Loss: 0.6229428052902222  Accuracy: 0.8000000715255737\n",
      "Epoch 46, CIFAR-10 Batch 2:  Loss: 0.5032331943511963  Accuracy: 0.8500000834465027\n",
      "Epoch 46, CIFAR-10 Batch 3:  Loss: 0.48799949884414673  Accuracy: 0.925000011920929\n",
      "Epoch 46, CIFAR-10 Batch 4:  Loss: 0.6278180480003357  Accuracy: 0.800000011920929\n",
      "Epoch 46, CIFAR-10 Batch 5:  Loss: 0.5442846417427063  Accuracy: 0.9000000357627869\n",
      "Epoch 47, CIFAR-10 Batch 1:  Loss: 0.6133771538734436  Accuracy: 0.8000000715255737\n",
      "Epoch 47, CIFAR-10 Batch 2:  Loss: 0.5068066120147705  Accuracy: 0.8750000596046448\n",
      "Epoch 47, CIFAR-10 Batch 3:  Loss: 0.4765074849128723  Accuracy: 0.9000000357627869\n",
      "Epoch 47, CIFAR-10 Batch 4:  Loss: 0.5180338621139526  Accuracy: 0.8750000596046448\n",
      "Epoch 47, CIFAR-10 Batch 5:  Loss: 0.5176214575767517  Accuracy: 0.925000011920929\n",
      "Epoch 48, CIFAR-10 Batch 1:  Loss: 0.6215546131134033  Accuracy: 0.8000000715255737\n",
      "Epoch 48, CIFAR-10 Batch 2:  Loss: 0.48788195848464966  Accuracy: 0.9000000357627869\n",
      "Epoch 48, CIFAR-10 Batch 3:  Loss: 0.4683508276939392  Accuracy: 0.9000000357627869\n",
      "Epoch 48, CIFAR-10 Batch 4:  Loss: 0.5359285473823547  Accuracy: 0.8000000715255737\n",
      "Epoch 48, CIFAR-10 Batch 5:  Loss: 0.5325907468795776  Accuracy: 0.8750000596046448\n",
      "Epoch 49, CIFAR-10 Batch 1:  Loss: 0.5688771605491638  Accuracy: 0.8250000476837158\n",
      "Epoch 49, CIFAR-10 Batch 2:  Loss: 0.5548800230026245  Accuracy: 0.7750000357627869\n",
      "Epoch 49, CIFAR-10 Batch 3:  Loss: 0.4618174433708191  Accuracy: 0.9749999642372131\n",
      "Epoch 49, CIFAR-10 Batch 4:  Loss: 0.5433706045150757  Accuracy: 0.8000000715255737\n",
      "Epoch 49, CIFAR-10 Batch 5:  Loss: 0.4628949761390686  Accuracy: 0.925000011920929\n",
      "Epoch 50, CIFAR-10 Batch 1:  Loss: 0.5887771844863892  Accuracy: 0.8000000715255737\n",
      "Epoch 50, CIFAR-10 Batch 2:  Loss: 0.49181950092315674  Accuracy: 0.9000000357627869\n",
      "Epoch 50, CIFAR-10 Batch 3:  Loss: 0.4447938799858093  Accuracy: 0.925000011920929\n",
      "Epoch 50, CIFAR-10 Batch 4:  Loss: 0.5702803134918213  Accuracy: 0.7749999761581421\n",
      "Epoch 50, CIFAR-10 Batch 5:  Loss: 0.5178685784339905  Accuracy: 0.9000000357627869\n",
      "Epoch 51, CIFAR-10 Batch 1:  Loss: 0.5732035636901855  Accuracy: 0.8250000476837158\n",
      "Epoch 51, CIFAR-10 Batch 2:  Loss: 0.49077391624450684  Accuracy: 0.8750000596046448\n",
      "Epoch 51, CIFAR-10 Batch 3:  Loss: 0.4486237168312073  Accuracy: 0.925000011920929\n",
      "Epoch 51, CIFAR-10 Batch 4:  Loss: 0.5216631293296814  Accuracy: 0.875\n",
      "Epoch 51, CIFAR-10 Batch 5:  Loss: 0.5119935274124146  Accuracy: 0.9000000357627869\n",
      "Epoch 52, CIFAR-10 Batch 1:  Loss: 0.5449042916297913  Accuracy: 0.8500000238418579\n",
      "Epoch 52, CIFAR-10 Batch 2:  Loss: 0.5037084817886353  Accuracy: 0.8500000834465027\n",
      "Epoch 52, CIFAR-10 Batch 3:  Loss: 0.4822689890861511  Accuracy: 0.949999988079071\n",
      "Epoch 52, CIFAR-10 Batch 4:  Loss: 0.5172847509384155  Accuracy: 0.824999988079071\n",
      "Epoch 52, CIFAR-10 Batch 5:  Loss: 0.46731823682785034  Accuracy: 0.925000011920929\n",
      "Epoch 53, CIFAR-10 Batch 1:  Loss: 0.5474737882614136  Accuracy: 0.8250000476837158\n",
      "Epoch 53, CIFAR-10 Batch 2:  Loss: 0.5296074748039246  Accuracy: 0.800000011920929\n",
      "Epoch 53, CIFAR-10 Batch 3:  Loss: 0.3935115933418274  Accuracy: 0.925000011920929\n",
      "Epoch 53, CIFAR-10 Batch 4:  Loss: 0.4795268774032593  Accuracy: 0.8250000476837158\n",
      "Epoch 53, CIFAR-10 Batch 5:  Loss: 0.48663586378097534  Accuracy: 0.9000000357627869\n",
      "Epoch 54, CIFAR-10 Batch 1:  Loss: 0.6046468019485474  Accuracy: 0.8000000715255737\n",
      "Epoch 54, CIFAR-10 Batch 2:  Loss: 0.515207827091217  Accuracy: 0.8500000834465027\n",
      "Epoch 54, CIFAR-10 Batch 3:  Loss: 0.41655510663986206  Accuracy: 0.9000000357627869\n",
      "Epoch 54, CIFAR-10 Batch 4:  Loss: 0.5341647863388062  Accuracy: 0.7750000357627869\n",
      "Epoch 54, CIFAR-10 Batch 5:  Loss: 0.48860275745391846  Accuracy: 0.9000000357627869\n",
      "Epoch 55, CIFAR-10 Batch 1:  Loss: 0.559048056602478  Accuracy: 0.7749999761581421\n",
      "Epoch 55, CIFAR-10 Batch 2:  Loss: 0.5064870119094849  Accuracy: 0.8750000596046448\n",
      "Epoch 55, CIFAR-10 Batch 3:  Loss: 0.4340100884437561  Accuracy: 0.949999988079071\n",
      "Epoch 55, CIFAR-10 Batch 4:  Loss: 0.5193189382553101  Accuracy: 0.8500000238418579\n",
      "Epoch 55, CIFAR-10 Batch 5:  Loss: 0.49869102239608765  Accuracy: 0.925000011920929\n",
      "Epoch 56, CIFAR-10 Batch 1:  Loss: 0.5930033922195435  Accuracy: 0.75\n",
      "Epoch 56, CIFAR-10 Batch 2:  Loss: 0.5216821432113647  Accuracy: 0.8250000476837158\n",
      "Epoch 56, CIFAR-10 Batch 3:  Loss: 0.4105837047100067  Accuracy: 0.949999988079071\n",
      "Epoch 56, CIFAR-10 Batch 4:  Loss: 0.48498761653900146  Accuracy: 0.8500000238418579\n",
      "Epoch 56, CIFAR-10 Batch 5:  Loss: 0.4803277850151062  Accuracy: 0.949999988079071\n",
      "Epoch 57, CIFAR-10 Batch 1:  Loss: 0.5215897560119629  Accuracy: 0.8250000476837158\n",
      "Epoch 57, CIFAR-10 Batch 2:  Loss: 0.49760007858276367  Accuracy: 0.8500000834465027\n",
      "Epoch 57, CIFAR-10 Batch 3:  Loss: 0.41942277550697327  Accuracy: 0.949999988079071\n",
      "Epoch 57, CIFAR-10 Batch 4:  Loss: 0.478107213973999  Accuracy: 0.875\n",
      "Epoch 57, CIFAR-10 Batch 5:  Loss: 0.4517296552658081  Accuracy: 0.949999988079071\n",
      "Epoch 58, CIFAR-10 Batch 1:  Loss: 0.5570254325866699  Accuracy: 0.7749999761581421\n",
      "Epoch 58, CIFAR-10 Batch 2:  Loss: 0.507575273513794  Accuracy: 0.9000000357627869\n",
      "Epoch 58, CIFAR-10 Batch 3:  Loss: 0.4117780327796936  Accuracy: 0.9749999642372131\n",
      "Epoch 58, CIFAR-10 Batch 4:  Loss: 0.5338666439056396  Accuracy: 0.8750000596046448\n",
      "Epoch 58, CIFAR-10 Batch 5:  Loss: 0.45447883009910583  Accuracy: 0.9000000357627869\n",
      "Epoch 59, CIFAR-10 Batch 1:  Loss: 0.5139736533164978  Accuracy: 0.8250000476837158\n",
      "Epoch 59, CIFAR-10 Batch 2:  Loss: 0.44384828209877014  Accuracy: 0.8750000596046448\n",
      "Epoch 59, CIFAR-10 Batch 3:  Loss: 0.40547412633895874  Accuracy: 0.925000011920929\n",
      "Epoch 59, CIFAR-10 Batch 4:  Loss: 0.5289219617843628  Accuracy: 0.8500000238418579\n",
      "Epoch 59, CIFAR-10 Batch 5:  Loss: 0.459534615278244  Accuracy: 0.925000011920929\n",
      "Epoch 60, CIFAR-10 Batch 1:  Loss: 0.5304921269416809  Accuracy: 0.8250000476837158\n",
      "Epoch 60, CIFAR-10 Batch 2:  Loss: 0.45910558104515076  Accuracy: 0.925000011920929\n",
      "Epoch 60, CIFAR-10 Batch 3:  Loss: 0.39354026317596436  Accuracy: 0.9000000357627869\n",
      "Epoch 60, CIFAR-10 Batch 4:  Loss: 0.5004187822341919  Accuracy: 0.8250000476837158\n",
      "Epoch 60, CIFAR-10 Batch 5:  Loss: 0.4486338496208191  Accuracy: 0.9000000357627869\n",
      "Epoch 61, CIFAR-10 Batch 1:  Loss: 0.5269338488578796  Accuracy: 0.8000000715255737\n",
      "Epoch 61, CIFAR-10 Batch 2:  Loss: 0.4701893925666809  Accuracy: 0.9000000357627869\n",
      "Epoch 61, CIFAR-10 Batch 3:  Loss: 0.40481066703796387  Accuracy: 0.8750000596046448\n",
      "Epoch 61, CIFAR-10 Batch 4:  Loss: 0.44915711879730225  Accuracy: 0.9000000357627869\n",
      "Epoch 61, CIFAR-10 Batch 5:  Loss: 0.4387247562408447  Accuracy: 0.925000011920929\n",
      "Epoch 62, CIFAR-10 Batch 1:  Loss: 0.4806364178657532  Accuracy: 0.8250000476837158\n",
      "Epoch 62, CIFAR-10 Batch 2:  Loss: 0.42467036843299866  Accuracy: 0.9000000357627869\n",
      "Epoch 62, CIFAR-10 Batch 3:  Loss: 0.38302627205848694  Accuracy: 0.925000011920929\n",
      "Epoch 62, CIFAR-10 Batch 4:  Loss: 0.49289751052856445  Accuracy: 0.875\n",
      "Epoch 62, CIFAR-10 Batch 5:  Loss: 0.4240667521953583  Accuracy: 0.949999988079071\n",
      "Epoch 63, CIFAR-10 Batch 1:  Loss: 0.5210154056549072  Accuracy: 0.8500000238418579\n",
      "Epoch 63, CIFAR-10 Batch 2:  Loss: 0.4494049847126007  Accuracy: 0.925000011920929\n",
      "Epoch 63, CIFAR-10 Batch 3:  Loss: 0.3951845169067383  Accuracy: 0.9749999642372131\n",
      "Epoch 63, CIFAR-10 Batch 4:  Loss: 0.44971391558647156  Accuracy: 0.9000000357627869\n",
      "Epoch 63, CIFAR-10 Batch 5:  Loss: 0.4340910017490387  Accuracy: 0.949999988079071\n",
      "Epoch 64, CIFAR-10 Batch 1:  Loss: 0.534433901309967  Accuracy: 0.8500000834465027\n",
      "Epoch 64, CIFAR-10 Batch 2:  Loss: 0.4332537353038788  Accuracy: 0.925000011920929\n",
      "Epoch 64, CIFAR-10 Batch 3:  Loss: 0.4029642939567566  Accuracy: 0.925000011920929\n",
      "Epoch 64, CIFAR-10 Batch 4:  Loss: 0.48283860087394714  Accuracy: 0.8250000476837158\n",
      "Epoch 64, CIFAR-10 Batch 5:  Loss: 0.4803650975227356  Accuracy: 0.8999999761581421\n",
      "Epoch 65, CIFAR-10 Batch 1:  Loss: 0.49573811888694763  Accuracy: 0.8750000596046448\n",
      "Epoch 65, CIFAR-10 Batch 2:  Loss: 0.4162862300872803  Accuracy: 0.925000011920929\n",
      "Epoch 65, CIFAR-10 Batch 3:  Loss: 0.36927664279937744  Accuracy: 0.9749999642372131\n",
      "Epoch 65, CIFAR-10 Batch 4:  Loss: 0.47155171632766724  Accuracy: 0.875\n",
      "Epoch 65, CIFAR-10 Batch 5:  Loss: 0.4039805829524994  Accuracy: 0.925000011920929\n",
      "Epoch 66, CIFAR-10 Batch 1:  Loss: 0.47456952929496765  Accuracy: 0.8250000476837158\n",
      "Epoch 66, CIFAR-10 Batch 2:  Loss: 0.45316991209983826  Accuracy: 0.9000000357627869\n",
      "Epoch 66, CIFAR-10 Batch 3:  Loss: 0.36310452222824097  Accuracy: 0.949999988079071\n",
      "Epoch 66, CIFAR-10 Batch 4:  Loss: 0.47559428215026855  Accuracy: 0.8500000238418579\n",
      "Epoch 66, CIFAR-10 Batch 5:  Loss: 0.40985769033432007  Accuracy: 0.925000011920929\n",
      "Epoch 67, CIFAR-10 Batch 1:  Loss: 0.5115920305252075  Accuracy: 0.8250000476837158\n",
      "Epoch 67, CIFAR-10 Batch 2:  Loss: 0.44405099749565125  Accuracy: 0.9000000357627869\n",
      "Epoch 67, CIFAR-10 Batch 3:  Loss: 0.4051688313484192  Accuracy: 0.9749999642372131\n",
      "Epoch 67, CIFAR-10 Batch 4:  Loss: 0.4498499631881714  Accuracy: 0.8750000596046448\n",
      "Epoch 67, CIFAR-10 Batch 5:  Loss: 0.4648936092853546  Accuracy: 0.925000011920929\n",
      "Epoch 68, CIFAR-10 Batch 1:  Loss: 0.5135508179664612  Accuracy: 0.8250000476837158\n",
      "Epoch 68, CIFAR-10 Batch 2:  Loss: 0.41312938928604126  Accuracy: 0.9000000357627869\n",
      "Epoch 68, CIFAR-10 Batch 3:  Loss: 0.39066606760025024  Accuracy: 0.949999988079071\n",
      "Epoch 68, CIFAR-10 Batch 4:  Loss: 0.4579812288284302  Accuracy: 0.8750000596046448\n",
      "Epoch 68, CIFAR-10 Batch 5:  Loss: 0.42255663871765137  Accuracy: 0.925000011920929\n",
      "Epoch 69, CIFAR-10 Batch 1:  Loss: 0.4629127085208893  Accuracy: 0.8500000834465027\n",
      "Epoch 69, CIFAR-10 Batch 2:  Loss: 0.4344574809074402  Accuracy: 0.925000011920929\n",
      "Epoch 69, CIFAR-10 Batch 3:  Loss: 0.4015263319015503  Accuracy: 0.925000011920929\n",
      "Epoch 69, CIFAR-10 Batch 4:  Loss: 0.47608184814453125  Accuracy: 0.8500000238418579\n",
      "Epoch 69, CIFAR-10 Batch 5:  Loss: 0.4737817347049713  Accuracy: 0.925000011920929\n",
      "Epoch 70, CIFAR-10 Batch 1:  Loss: 0.5800991058349609  Accuracy: 0.8250000476837158\n",
      "Epoch 70, CIFAR-10 Batch 2:  Loss: 0.429150253534317  Accuracy: 0.949999988079071\n",
      "Epoch 70, CIFAR-10 Batch 3:  Loss: 0.35238370299339294  Accuracy: 0.9749999642372131\n",
      "Epoch 70, CIFAR-10 Batch 4:  Loss: 0.4161789119243622  Accuracy: 0.9000000357627869\n",
      "Epoch 70, CIFAR-10 Batch 5:  Loss: 0.4421997666358948  Accuracy: 0.925000011920929\n",
      "Epoch 71, CIFAR-10 Batch 1:  Loss: 0.48813050985336304  Accuracy: 0.8500000834465027\n",
      "Epoch 71, CIFAR-10 Batch 2:  Loss: 0.44086799025535583  Accuracy: 0.9000000357627869\n",
      "Epoch 71, CIFAR-10 Batch 3:  Loss: 0.3830345869064331  Accuracy: 0.9749999642372131\n",
      "Epoch 71, CIFAR-10 Batch 4:  Loss: 0.4661426842212677  Accuracy: 0.949999988079071\n",
      "Epoch 71, CIFAR-10 Batch 5:  Loss: 0.5004439353942871  Accuracy: 0.925000011920929\n",
      "Epoch 72, CIFAR-10 Batch 1:  Loss: 0.5214780569076538  Accuracy: 0.8500000238418579\n",
      "Epoch 72, CIFAR-10 Batch 2:  Loss: 0.4146793484687805  Accuracy: 0.8750000596046448\n",
      "Epoch 72, CIFAR-10 Batch 3:  Loss: 0.38113492727279663  Accuracy: 0.9000000357627869\n",
      "Epoch 72, CIFAR-10 Batch 4:  Loss: 0.4278004467487335  Accuracy: 0.9000000357627869\n",
      "Epoch 72, CIFAR-10 Batch 5:  Loss: 0.4372037351131439  Accuracy: 0.949999988079071\n",
      "Epoch 73, CIFAR-10 Batch 1:  Loss: 0.47364312410354614  Accuracy: 0.8750000596046448\n",
      "Epoch 73, CIFAR-10 Batch 2:  Loss: 0.40671613812446594  Accuracy: 0.9000000357627869\n",
      "Epoch 73, CIFAR-10 Batch 3:  Loss: 0.3843887448310852  Accuracy: 0.949999988079071\n",
      "Epoch 73, CIFAR-10 Batch 4:  Loss: 0.4383828938007355  Accuracy: 0.8500000238418579\n",
      "Epoch 73, CIFAR-10 Batch 5:  Loss: 0.3858829140663147  Accuracy: 0.949999988079071\n",
      "Epoch 74, CIFAR-10 Batch 1:  Loss: 0.47803401947021484  Accuracy: 0.8250000476837158\n",
      "Epoch 74, CIFAR-10 Batch 2:  Loss: 0.42736825346946716  Accuracy: 0.9000000357627869\n",
      "Epoch 74, CIFAR-10 Batch 3:  Loss: 0.3653865456581116  Accuracy: 0.9749999642372131\n",
      "Epoch 74, CIFAR-10 Batch 4:  Loss: 0.43965446949005127  Accuracy: 0.8500000238418579\n",
      "Epoch 74, CIFAR-10 Batch 5:  Loss: 0.41351473331451416  Accuracy: 0.949999988079071\n",
      "Epoch 75, CIFAR-10 Batch 1:  Loss: 0.5170061588287354  Accuracy: 0.8250000476837158\n",
      "Epoch 75, CIFAR-10 Batch 2:  Loss: 0.39117515087127686  Accuracy: 0.925000011920929\n",
      "Epoch 75, CIFAR-10 Batch 3:  Loss: 0.36369597911834717  Accuracy: 0.925000011920929\n",
      "Epoch 75, CIFAR-10 Batch 4:  Loss: 0.41980916261672974  Accuracy: 0.875\n",
      "Epoch 75, CIFAR-10 Batch 5:  Loss: 0.45574262738227844  Accuracy: 0.925000011920929\n",
      "Epoch 76, CIFAR-10 Batch 1:  Loss: 0.4748358428478241  Accuracy: 0.8500000834465027\n",
      "Epoch 76, CIFAR-10 Batch 2:  Loss: 0.37971031665802  Accuracy: 0.925000011920929\n",
      "Epoch 76, CIFAR-10 Batch 3:  Loss: 0.3438948690891266  Accuracy: 0.949999988079071\n",
      "Epoch 76, CIFAR-10 Batch 4:  Loss: 0.4245269000530243  Accuracy: 0.875\n",
      "Epoch 76, CIFAR-10 Batch 5:  Loss: 0.43432751297950745  Accuracy: 0.949999988079071\n",
      "Epoch 77, CIFAR-10 Batch 1:  Loss: 0.48032528162002563  Accuracy: 0.8500000238418579\n",
      "Epoch 77, CIFAR-10 Batch 2:  Loss: 0.38449540734291077  Accuracy: 0.949999988079071\n",
      "Epoch 77, CIFAR-10 Batch 3:  Loss: 0.37229466438293457  Accuracy: 0.949999988079071\n",
      "Epoch 77, CIFAR-10 Batch 4:  Loss: 0.43355679512023926  Accuracy: 0.9000000357627869\n",
      "Epoch 77, CIFAR-10 Batch 5:  Loss: 0.4142286777496338  Accuracy: 0.949999988079071\n",
      "Epoch 78, CIFAR-10 Batch 1:  Loss: 0.45925939083099365  Accuracy: 0.8750000596046448\n",
      "Epoch 78, CIFAR-10 Batch 2:  Loss: 0.376315712928772  Accuracy: 0.949999988079071\n",
      "Epoch 78, CIFAR-10 Batch 3:  Loss: 0.3371473550796509  Accuracy: 0.949999988079071\n",
      "Epoch 78, CIFAR-10 Batch 4:  Loss: 0.43007326126098633  Accuracy: 0.9000000357627869\n",
      "Epoch 78, CIFAR-10 Batch 5:  Loss: 0.44326043128967285  Accuracy: 0.925000011920929\n",
      "Epoch 79, CIFAR-10 Batch 1:  Loss: 0.44055309891700745  Accuracy: 0.8500000834465027\n",
      "Epoch 79, CIFAR-10 Batch 2:  Loss: 0.4143601059913635  Accuracy: 0.925000011920929\n",
      "Epoch 79, CIFAR-10 Batch 3:  Loss: 0.38401296734809875  Accuracy: 0.949999988079071\n",
      "Epoch 79, CIFAR-10 Batch 4:  Loss: 0.3936292827129364  Accuracy: 0.8750000596046448\n",
      "Epoch 79, CIFAR-10 Batch 5:  Loss: 0.44862866401672363  Accuracy: 0.925000011920929\n",
      "Epoch 80, CIFAR-10 Batch 1:  Loss: 0.5260477662086487  Accuracy: 0.8250000476837158\n",
      "Epoch 80, CIFAR-10 Batch 2:  Loss: 0.3790081739425659  Accuracy: 0.949999988079071\n",
      "Epoch 80, CIFAR-10 Batch 3:  Loss: 0.3530743420124054  Accuracy: 0.9749999642372131\n",
      "Epoch 80, CIFAR-10 Batch 4:  Loss: 0.43104612827301025  Accuracy: 0.9000000357627869\n",
      "Epoch 80, CIFAR-10 Batch 5:  Loss: 0.43299365043640137  Accuracy: 0.949999988079071\n",
      "Epoch 81, CIFAR-10 Batch 1:  Loss: 0.49202263355255127  Accuracy: 0.8500000834465027\n",
      "Epoch 81, CIFAR-10 Batch 2:  Loss: 0.3951534628868103  Accuracy: 0.925000011920929\n",
      "Epoch 81, CIFAR-10 Batch 3:  Loss: 0.3167509436607361  Accuracy: 0.9749999642372131\n",
      "Epoch 81, CIFAR-10 Batch 4:  Loss: 0.3981955945491791  Accuracy: 0.875\n",
      "Epoch 81, CIFAR-10 Batch 5:  Loss: 0.4094409942626953  Accuracy: 0.9750000238418579\n",
      "Epoch 82, CIFAR-10 Batch 1:  Loss: 0.4618046283721924  Accuracy: 0.8250000476837158\n",
      "Epoch 82, CIFAR-10 Batch 2:  Loss: 0.390134334564209  Accuracy: 0.9000000357627869\n",
      "Epoch 82, CIFAR-10 Batch 3:  Loss: 0.3386383652687073  Accuracy: 0.9749999642372131\n",
      "Epoch 82, CIFAR-10 Batch 4:  Loss: 0.4002693295478821  Accuracy: 0.925000011920929\n",
      "Epoch 82, CIFAR-10 Batch 5:  Loss: 0.4313781261444092  Accuracy: 0.949999988079071\n",
      "Epoch 83, CIFAR-10 Batch 1:  Loss: 0.4982718825340271  Accuracy: 0.9000000357627869\n",
      "Epoch 83, CIFAR-10 Batch 2:  Loss: 0.3695233464241028  Accuracy: 0.925000011920929\n",
      "Epoch 83, CIFAR-10 Batch 3:  Loss: 0.34098005294799805  Accuracy: 0.949999988079071\n",
      "Epoch 83, CIFAR-10 Batch 4:  Loss: 0.4399954676628113  Accuracy: 0.9000000357627869\n",
      "Epoch 83, CIFAR-10 Batch 5:  Loss: 0.40989619493484497  Accuracy: 0.949999988079071\n",
      "Epoch 84, CIFAR-10 Batch 1:  Loss: 0.45011135935783386  Accuracy: 0.8250000476837158\n",
      "Epoch 84, CIFAR-10 Batch 2:  Loss: 0.3938070237636566  Accuracy: 0.925000011920929\n",
      "Epoch 84, CIFAR-10 Batch 3:  Loss: 0.32094806432724  Accuracy: 0.9749999642372131\n",
      "Epoch 84, CIFAR-10 Batch 4:  Loss: 0.42528125643730164  Accuracy: 0.9000000357627869\n",
      "Epoch 84, CIFAR-10 Batch 5:  Loss: 0.44114720821380615  Accuracy: 0.949999988079071\n",
      "Epoch 85, CIFAR-10 Batch 1:  Loss: 0.4881942868232727  Accuracy: 0.8500000834465027\n",
      "Epoch 85, CIFAR-10 Batch 2:  Loss: 0.3644239902496338  Accuracy: 0.949999988079071\n",
      "Epoch 85, CIFAR-10 Batch 3:  Loss: 0.31464478373527527  Accuracy: 0.949999988079071\n",
      "Epoch 85, CIFAR-10 Batch 4:  Loss: 0.396472692489624  Accuracy: 0.9000000357627869\n",
      "Epoch 85, CIFAR-10 Batch 5:  Loss: 0.4165257513523102  Accuracy: 0.925000011920929\n",
      "Epoch 86, CIFAR-10 Batch 1:  Loss: 0.5196034908294678  Accuracy: 0.8750000596046448\n",
      "Epoch 86, CIFAR-10 Batch 2:  Loss: 0.38985130190849304  Accuracy: 0.925000011920929\n",
      "Epoch 86, CIFAR-10 Batch 3:  Loss: 0.34242820739746094  Accuracy: 0.9749999642372131\n",
      "Epoch 86, CIFAR-10 Batch 4:  Loss: 0.4058361053466797  Accuracy: 0.925000011920929\n",
      "Epoch 86, CIFAR-10 Batch 5:  Loss: 0.408505916595459  Accuracy: 0.949999988079071\n",
      "Epoch 87, CIFAR-10 Batch 1:  Loss: 0.528192937374115  Accuracy: 0.8250000476837158\n",
      "Epoch 87, CIFAR-10 Batch 2:  Loss: 0.37034040689468384  Accuracy: 0.9000000357627869\n",
      "Epoch 87, CIFAR-10 Batch 3:  Loss: 0.32473132014274597  Accuracy: 0.949999988079071\n",
      "Epoch 87, CIFAR-10 Batch 4:  Loss: 0.4400516152381897  Accuracy: 0.875\n",
      "Epoch 87, CIFAR-10 Batch 5:  Loss: 0.3913237750530243  Accuracy: 0.9249999523162842\n",
      "Epoch 88, CIFAR-10 Batch 1:  Loss: 0.5759196281433105  Accuracy: 0.8250000476837158\n",
      "Epoch 88, CIFAR-10 Batch 2:  Loss: 0.3565922975540161  Accuracy: 0.949999988079071\n",
      "Epoch 88, CIFAR-10 Batch 3:  Loss: 0.32496151328086853  Accuracy: 0.949999988079071\n",
      "Epoch 88, CIFAR-10 Batch 4:  Loss: 0.41793981194496155  Accuracy: 0.9000000357627869\n",
      "Epoch 88, CIFAR-10 Batch 5:  Loss: 0.3716503381729126  Accuracy: 0.949999988079071\n",
      "Epoch 89, CIFAR-10 Batch 1:  Loss: 0.5174421668052673  Accuracy: 0.9000000357627869\n",
      "Epoch 89, CIFAR-10 Batch 2:  Loss: 0.4003094434738159  Accuracy: 0.9000000357627869\n",
      "Epoch 89, CIFAR-10 Batch 3:  Loss: 0.3294124901294708  Accuracy: 0.949999988079071\n",
      "Epoch 89, CIFAR-10 Batch 4:  Loss: 0.3989947438240051  Accuracy: 0.9000000357627869\n",
      "Epoch 89, CIFAR-10 Batch 5:  Loss: 0.3663467466831207  Accuracy: 0.925000011920929\n",
      "Epoch 90, CIFAR-10 Batch 1:  Loss: 0.4584028720855713  Accuracy: 0.8750000596046448\n",
      "Epoch 90, CIFAR-10 Batch 2:  Loss: 0.3790633976459503  Accuracy: 0.925000011920929\n",
      "Epoch 90, CIFAR-10 Batch 3:  Loss: 0.34440481662750244  Accuracy: 0.949999988079071\n",
      "Epoch 90, CIFAR-10 Batch 4:  Loss: 0.3658299446105957  Accuracy: 0.925000011920929\n",
      "Epoch 90, CIFAR-10 Batch 5:  Loss: 0.43006041646003723  Accuracy: 0.9000000357627869\n",
      "Epoch 91, CIFAR-10 Batch 1:  Loss: 0.45537546277046204  Accuracy: 0.8500000238418579\n",
      "Epoch 91, CIFAR-10 Batch 2:  Loss: 0.41356879472732544  Accuracy: 0.9000000357627869\n",
      "Epoch 91, CIFAR-10 Batch 3:  Loss: 0.3164216876029968  Accuracy: 0.9749999642372131\n",
      "Epoch 91, CIFAR-10 Batch 4:  Loss: 0.4041340947151184  Accuracy: 0.9000000357627869\n",
      "Epoch 91, CIFAR-10 Batch 5:  Loss: 0.4379153251647949  Accuracy: 0.949999988079071\n",
      "Epoch 92, CIFAR-10 Batch 1:  Loss: 0.48249417543411255  Accuracy: 0.8250000476837158\n",
      "Epoch 92, CIFAR-10 Batch 2:  Loss: 0.38475874066352844  Accuracy: 0.9000000357627869\n",
      "Epoch 92, CIFAR-10 Batch 3:  Loss: 0.32911619544029236  Accuracy: 0.9749999642372131\n",
      "Epoch 92, CIFAR-10 Batch 4:  Loss: 0.3895798325538635  Accuracy: 0.9000000357627869\n",
      "Epoch 92, CIFAR-10 Batch 5:  Loss: 0.38083672523498535  Accuracy: 0.949999988079071\n",
      "Epoch 93, CIFAR-10 Batch 1:  Loss: 0.4281251132488251  Accuracy: 0.8500000834465027\n",
      "Epoch 93, CIFAR-10 Batch 2:  Loss: 0.3901599049568176  Accuracy: 0.949999988079071\n",
      "Epoch 93, CIFAR-10 Batch 3:  Loss: 0.2960686683654785  Accuracy: 0.9749999642372131\n",
      "Epoch 93, CIFAR-10 Batch 4:  Loss: 0.4035079777240753  Accuracy: 0.925000011920929\n",
      "Epoch 93, CIFAR-10 Batch 5:  Loss: 0.35877302289009094  Accuracy: 0.9750000238418579\n",
      "Epoch 94, CIFAR-10 Batch 1:  Loss: 0.4240460991859436  Accuracy: 0.8750000596046448\n",
      "Epoch 94, CIFAR-10 Batch 2:  Loss: 0.38979724049568176  Accuracy: 0.9000000357627869\n",
      "Epoch 94, CIFAR-10 Batch 3:  Loss: 0.3080118000507355  Accuracy: 0.949999988079071\n",
      "Epoch 94, CIFAR-10 Batch 4:  Loss: 0.35793066024780273  Accuracy: 0.9000000357627869\n",
      "Epoch 94, CIFAR-10 Batch 5:  Loss: 0.36526429653167725  Accuracy: 0.949999988079071\n",
      "Epoch 95, CIFAR-10 Batch 1:  Loss: 0.487946093082428  Accuracy: 0.8250000476837158\n",
      "Epoch 95, CIFAR-10 Batch 2:  Loss: 0.4087384343147278  Accuracy: 0.9000000357627869\n",
      "Epoch 95, CIFAR-10 Batch 3:  Loss: 0.30151745676994324  Accuracy: 0.9749999642372131\n",
      "Epoch 95, CIFAR-10 Batch 4:  Loss: 0.3484190106391907  Accuracy: 0.925000011920929\n",
      "Epoch 95, CIFAR-10 Batch 5:  Loss: 0.3617895543575287  Accuracy: 0.9750000238418579\n",
      "Epoch 96, CIFAR-10 Batch 1:  Loss: 0.4520394802093506  Accuracy: 0.8500000238418579\n",
      "Epoch 96, CIFAR-10 Batch 2:  Loss: 0.35720765590667725  Accuracy: 0.9000000357627869\n",
      "Epoch 96, CIFAR-10 Batch 3:  Loss: 0.32202741503715515  Accuracy: 0.9749999642372131\n",
      "Epoch 96, CIFAR-10 Batch 4:  Loss: 0.3338443636894226  Accuracy: 0.9749999642372131\n",
      "Epoch 96, CIFAR-10 Batch 5:  Loss: 0.3896934390068054  Accuracy: 0.925000011920929\n",
      "Epoch 97, CIFAR-10 Batch 1:  Loss: 0.49799346923828125  Accuracy: 0.8500000238418579\n",
      "Epoch 97, CIFAR-10 Batch 2:  Loss: 0.39633670449256897  Accuracy: 0.925000011920929\n",
      "Epoch 97, CIFAR-10 Batch 3:  Loss: 0.3166663944721222  Accuracy: 0.9749999642372131\n",
      "Epoch 97, CIFAR-10 Batch 4:  Loss: 0.39895468950271606  Accuracy: 0.8750000596046448\n",
      "Epoch 97, CIFAR-10 Batch 5:  Loss: 0.36684665083885193  Accuracy: 0.949999988079071\n",
      "Epoch 98, CIFAR-10 Batch 1:  Loss: 0.4632011950016022  Accuracy: 0.8500000238418579\n",
      "Epoch 98, CIFAR-10 Batch 2:  Loss: 0.368091344833374  Accuracy: 0.925000011920929\n",
      "Epoch 98, CIFAR-10 Batch 3:  Loss: 0.3240647315979004  Accuracy: 0.949999988079071\n",
      "Epoch 98, CIFAR-10 Batch 4:  Loss: 0.3424139618873596  Accuracy: 0.925000011920929\n",
      "Epoch 98, CIFAR-10 Batch 5:  Loss: 0.38683009147644043  Accuracy: 0.949999988079071\n",
      "Epoch 99, CIFAR-10 Batch 1:  Loss: 0.4911814332008362  Accuracy: 0.8250000476837158\n",
      "Epoch 99, CIFAR-10 Batch 2:  Loss: 0.3731101155281067  Accuracy: 0.9000000357627869\n",
      "Epoch 99, CIFAR-10 Batch 3:  Loss: 0.363290935754776  Accuracy: 0.925000011920929\n",
      "Epoch 99, CIFAR-10 Batch 4:  Loss: 0.3451484441757202  Accuracy: 0.949999988079071\n",
      "Epoch 99, CIFAR-10 Batch 5:  Loss: 0.39079248905181885  Accuracy: 0.9750000238418579\n",
      "Epoch 100, CIFAR-10 Batch 1:  Loss: 0.4698379635810852  Accuracy: 0.8750000596046448\n",
      "Epoch 100, CIFAR-10 Batch 2:  Loss: 0.383028507232666  Accuracy: 0.9000000357627869\n",
      "Epoch 100, CIFAR-10 Batch 3:  Loss: 0.34002795815467834  Accuracy: 0.949999988079071\n",
      "Epoch 100, CIFAR-10 Batch 4:  Loss: 0.38642120361328125  Accuracy: 0.925000011920929\n",
      "Epoch 100, CIFAR-10 Batch 5:  Loss: 0.3838786482810974  Accuracy: 0.9750000238418579\n"
     ]
    }
   ],
   "source": [
    "\"\"\"\n",
    "DON'T MODIFY ANYTHING IN THIS CELL\n",
    "\"\"\"\n",
    "save_model_path = './image_classification'\n",
    "\n",
    "print('Training...')\n",
    "with tf.Session() as sess:\n",
    "    # Initializing the variables\n",
    "    sess.run(tf.global_variables_initializer())\n",
    "    \n",
    "    # Training cycle\n",
    "    for epoch in range(epochs):\n",
    "        # Loop over all batches\n",
    "        n_batches = 5\n",
    "        for batch_i in range(1, n_batches + 1):\n",
    "            for batch_features, batch_labels in helper.load_preprocess_training_batch(batch_i, batch_size):\n",
    "                train_neural_network(sess, optimizer, keep_probability, batch_features, batch_labels)\n",
    "            print('Epoch {:>2}, CIFAR-10 Batch {}:  '.format(epoch + 1, batch_i), end='')\n",
    "            print_stats(sess, batch_features, batch_labels, cost, accuracy)\n",
    "            \n",
    "    # Save Model\n",
    "    saver = tf.train.Saver()\n",
    "    save_path = saver.save(sess, save_model_path)"
   ]
  },
  {
   "cell_type": "markdown",
   "metadata": {
    "deletable": true,
    "editable": true
   },
   "source": [
    "# Checkpoint\n",
    "The model has been saved to disk.\n",
    "## Test Model\n",
    "Test your model against the test dataset.  This will be your final accuracy. You should have an accuracy greater than 50%. If you don't, keep tweaking the model architecture and parameters."
   ]
  },
  {
   "cell_type": "code",
   "execution_count": 22,
   "metadata": {
    "collapsed": false,
    "deletable": true,
    "editable": true
   },
   "outputs": [
    {
     "name": "stdout",
     "output_type": "stream",
     "text": [
      "Testing Accuracy: 0.7134098101265823\n",
      "\n"
     ]
    },
    {
     "data": {
      "image/png": "[encoded data removed]",
      "text/plain": [
       "<matplotlib.figure.Figure at 0x7fb20b9ca320>"
      ]
     },
     "metadata": {
      "image/png": {
       "height": 319,
       "width": 355
      }
     },
     "output_type": "display_data"
    }
   ],
   "source": [
    "\"\"\"\n",
    "DON'T MODIFY ANYTHING IN THIS CELL\n",
    "\"\"\"\n",
    "%matplotlib inline\n",
    "%config InlineBackend.figure_format = 'retina'\n",
    "\n",
    "import tensorflow as tf\n",
    "import pickle\n",
    "import helper\n",
    "import random\n",
    "\n",
    "# Set batch size if not already set\n",
    "try:\n",
    "    if batch_size:\n",
    "        pass\n",
    "except NameError:\n",
    "    batch_size = 64\n",
    "\n",
    "save_model_path = './image_classification'\n",
    "n_samples = 4\n",
    "top_n_predictions = 3\n",
    "\n",
    "def test_model():\n",
    "    \"\"\"\n",
    "    Test the saved model against the test dataset\n",
    "    \"\"\"\n",
    "\n",
    "    test_features, test_labels = pickle.load(open('preprocess_test.p', mode='rb'))\n",
    "    loaded_graph = tf.Graph()\n",
    "\n",
    "    with tf.Session(graph=loaded_graph) as sess:\n",
    "        # Load model\n",
    "        loader = tf.train.import_meta_graph(save_model_path + '.meta')\n",
    "        loader.restore(sess, save_model_path)\n",
    "\n",
    "        # Get Tensors from loaded model\n",
    "        loaded_x = loaded_graph.get_tensor_by_name('x:0')\n",
    "        loaded_y = loaded_graph.get_tensor_by_name('y:0')\n",
    "        loaded_keep_prob = loaded_graph.get_tensor_by_name('keep_prob:0')\n",
    "        loaded_logits = loaded_graph.get_tensor_by_name('logits:0')\n",
    "        loaded_acc = loaded_graph.get_tensor_by_name('accuracy:0')\n",
    "        \n",
    "        # Get accuracy in batches for memory limitations\n",
    "        test_batch_acc_total = 0\n",
    "        test_batch_count = 0\n",
    "        \n",
    "        for test_feature_batch, test_label_batch in helper.batch_features_labels(test_features, test_labels, batch_size):\n",
    "            test_batch_acc_total += sess.run(\n",
    "                loaded_acc,\n",
    "                feed_dict={loaded_x: test_feature_batch, loaded_y: test_label_batch, loaded_keep_prob: 1.0})\n",
    "            test_batch_count += 1\n",
    "\n",
    "        print('Testing Accuracy: {}\\n'.format(test_batch_acc_total/test_batch_count))\n",
    "\n",
    "        # Print Random Samples\n",
    "        random_test_features, random_test_labels = tuple(zip(*random.sample(list(zip(test_features, test_labels)), n_samples)))\n",
    "        random_test_predictions = sess.run(\n",
    "            tf.nn.top_k(tf.nn.softmax(loaded_logits), top_n_predictions),\n",
    "            feed_dict={loaded_x: random_test_features, loaded_y: random_test_labels, loaded_keep_prob: 1.0})\n",
    "        helper.display_image_predictions(random_test_features, random_test_labels, random_test_predictions)\n",
    "\n",
    "\n",
    "test_model()"
   ]
  },
  {
   "cell_type": "markdown",
   "metadata": {
    "deletable": true,
    "editable": true
   },
   "source": [
    "## Why 50-80% Accuracy?\n",
    "You might be wondering why you can't get an accuracy any higher. First things first, 50% isn't bad for a simple CNN.  Pure guessing would get you 10% accuracy. However, you might notice people are getting scores [well above 80%](http://rodrigob.github.io/are_we_there_yet/build/classification_datasets_results.html#43494641522d3130).  That's because we haven't taught you all there is to know about neural networks. We still need to cover a few more techniques.\n",
    "## Submitting This Project\n",
    "When submitting this project, make sure to run all the cells before saving the notebook.  Save the notebook file as \"dlnd_image_classification.ipynb\" and save it as a HTML file under \"File\" -> \"Download as\".  Include the \"helper.py\" and \"problem_unittests.py\" files in your submission."
   ]
  }
 ],
 "metadata": {
  "kernelspec": {
   "display_name": "Python 3",
   "language": "python",
   "name": "python3"
  },
  "language_info": {
   "codemirror_mode": {
    "name": "ipython",
    "version": 3
   },
   "file_extension": ".py",
   "mimetype": "text/x-python",
   "name": "python",
   "nbconvert_exporter": "python",
   "pygments_lexer": "ipython3",
   "version": "3.5.2"
  },
  "widgets": {
   "state": {},
   "version": "1.1.2"
  }
 },
 "nbformat": 4,
 "nbformat_minor": 0
}
